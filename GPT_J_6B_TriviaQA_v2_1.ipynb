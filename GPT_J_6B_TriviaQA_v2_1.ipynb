{
  "nbformat": 4,
  "nbformat_minor": 0,
  "metadata": {
    "colab": {
      "name": "GPT_J_6B_TriviaQA-v2-1.ipynb",
      "provenance": [],
      "collapsed_sections": [],
      "toc_visible": true,
      "machine_shape": "hm"
    },
    "kernelspec": {
      "name": "python3",
      "display_name": "Python 3"
    },
    "language_info": {
      "name": "python"
    },
    "accelerator": "TPU",
    "widgets": {
      "application/vnd.jupyter.widget-state+json": {
        "0cf5810c444d4e5fb2d99255b253c953": {
          "model_module": "@jupyter-widgets/controls",
          "model_name": "HBoxModel",
          "state": {
            "_view_name": "HBoxView",
            "_dom_classes": [],
            "_model_name": "HBoxModel",
            "_view_module": "@jupyter-widgets/controls",
            "_model_module_version": "1.5.0",
            "_view_count": null,
            "_view_module_version": "1.5.0",
            "box_style": "",
            "layout": "IPY_MODEL_c059c25bdc2e451ebae8c48c5705afb5",
            "_model_module": "@jupyter-widgets/controls",
            "children": [
              "IPY_MODEL_b3b15c13705a40d6b9299051933c975e",
              "IPY_MODEL_fa59604ff6a845a88317dc9361fd1d04"
            ]
          }
        },
        "c059c25bdc2e451ebae8c48c5705afb5": {
          "model_module": "@jupyter-widgets/base",
          "model_name": "LayoutModel",
          "state": {
            "_view_name": "LayoutView",
            "grid_template_rows": null,
            "right": null,
            "justify_content": null,
            "_view_module": "@jupyter-widgets/base",
            "overflow": null,
            "_model_module_version": "1.2.0",
            "_view_count": null,
            "flex_flow": null,
            "width": null,
            "min_width": null,
            "border": null,
            "align_items": null,
            "bottom": null,
            "_model_module": "@jupyter-widgets/base",
            "top": null,
            "grid_column": null,
            "overflow_y": null,
            "overflow_x": null,
            "grid_auto_flow": null,
            "grid_area": null,
            "grid_template_columns": null,
            "flex": null,
            "_model_name": "LayoutModel",
            "justify_items": null,
            "grid_row": null,
            "max_height": null,
            "align_content": null,
            "visibility": null,
            "align_self": null,
            "height": null,
            "min_height": null,
            "padding": null,
            "grid_auto_rows": null,
            "grid_gap": null,
            "max_width": null,
            "order": null,
            "_view_module_version": "1.2.0",
            "grid_template_areas": null,
            "object_position": null,
            "object_fit": null,
            "grid_auto_columns": null,
            "margin": null,
            "display": null,
            "left": null
          }
        },
        "b3b15c13705a40d6b9299051933c975e": {
          "model_module": "@jupyter-widgets/controls",
          "model_name": "FloatProgressModel",
          "state": {
            "_view_name": "ProgressView",
            "style": "IPY_MODEL_e0f2595deb334e2f9a736d649cd90094",
            "_dom_classes": [],
            "description": "Downloading: 100%",
            "_model_name": "FloatProgressModel",
            "bar_style": "success",
            "max": 1042301,
            "_view_module": "@jupyter-widgets/controls",
            "_model_module_version": "1.5.0",
            "value": 1042301,
            "_view_count": null,
            "_view_module_version": "1.5.0",
            "orientation": "horizontal",
            "min": 0,
            "description_tooltip": null,
            "_model_module": "@jupyter-widgets/controls",
            "layout": "IPY_MODEL_ef40b23438b34cae94dcd462b6f6ebbf"
          }
        },
        "fa59604ff6a845a88317dc9361fd1d04": {
          "model_module": "@jupyter-widgets/controls",
          "model_name": "HTMLModel",
          "state": {
            "_view_name": "HTMLView",
            "style": "IPY_MODEL_93e5f5ffc8134e0790103f9a9e41bbb5",
            "_dom_classes": [],
            "description": "",
            "_model_name": "HTMLModel",
            "placeholder": "​",
            "_view_module": "@jupyter-widgets/controls",
            "_model_module_version": "1.5.0",
            "value": " 1.04M/1.04M [00:06&lt;00:00, 162kB/s]",
            "_view_count": null,
            "_view_module_version": "1.5.0",
            "description_tooltip": null,
            "_model_module": "@jupyter-widgets/controls",
            "layout": "IPY_MODEL_7da2630ceb304c09b8f31025e5aa2a47"
          }
        },
        "e0f2595deb334e2f9a736d649cd90094": {
          "model_module": "@jupyter-widgets/controls",
          "model_name": "ProgressStyleModel",
          "state": {
            "_view_name": "StyleView",
            "_model_name": "ProgressStyleModel",
            "description_width": "initial",
            "_view_module": "@jupyter-widgets/base",
            "_model_module_version": "1.5.0",
            "_view_count": null,
            "_view_module_version": "1.2.0",
            "bar_color": null,
            "_model_module": "@jupyter-widgets/controls"
          }
        },
        "ef40b23438b34cae94dcd462b6f6ebbf": {
          "model_module": "@jupyter-widgets/base",
          "model_name": "LayoutModel",
          "state": {
            "_view_name": "LayoutView",
            "grid_template_rows": null,
            "right": null,
            "justify_content": null,
            "_view_module": "@jupyter-widgets/base",
            "overflow": null,
            "_model_module_version": "1.2.0",
            "_view_count": null,
            "flex_flow": null,
            "width": null,
            "min_width": null,
            "border": null,
            "align_items": null,
            "bottom": null,
            "_model_module": "@jupyter-widgets/base",
            "top": null,
            "grid_column": null,
            "overflow_y": null,
            "overflow_x": null,
            "grid_auto_flow": null,
            "grid_area": null,
            "grid_template_columns": null,
            "flex": null,
            "_model_name": "LayoutModel",
            "justify_items": null,
            "grid_row": null,
            "max_height": null,
            "align_content": null,
            "visibility": null,
            "align_self": null,
            "height": null,
            "min_height": null,
            "padding": null,
            "grid_auto_rows": null,
            "grid_gap": null,
            "max_width": null,
            "order": null,
            "_view_module_version": "1.2.0",
            "grid_template_areas": null,
            "object_position": null,
            "object_fit": null,
            "grid_auto_columns": null,
            "margin": null,
            "display": null,
            "left": null
          }
        },
        "93e5f5ffc8134e0790103f9a9e41bbb5": {
          "model_module": "@jupyter-widgets/controls",
          "model_name": "DescriptionStyleModel",
          "state": {
            "_view_name": "StyleView",
            "_model_name": "DescriptionStyleModel",
            "description_width": "",
            "_view_module": "@jupyter-widgets/base",
            "_model_module_version": "1.5.0",
            "_view_count": null,
            "_view_module_version": "1.2.0",
            "_model_module": "@jupyter-widgets/controls"
          }
        },
        "7da2630ceb304c09b8f31025e5aa2a47": {
          "model_module": "@jupyter-widgets/base",
          "model_name": "LayoutModel",
          "state": {
            "_view_name": "LayoutView",
            "grid_template_rows": null,
            "right": null,
            "justify_content": null,
            "_view_module": "@jupyter-widgets/base",
            "overflow": null,
            "_model_module_version": "1.2.0",
            "_view_count": null,
            "flex_flow": null,
            "width": null,
            "min_width": null,
            "border": null,
            "align_items": null,
            "bottom": null,
            "_model_module": "@jupyter-widgets/base",
            "top": null,
            "grid_column": null,
            "overflow_y": null,
            "overflow_x": null,
            "grid_auto_flow": null,
            "grid_area": null,
            "grid_template_columns": null,
            "flex": null,
            "_model_name": "LayoutModel",
            "justify_items": null,
            "grid_row": null,
            "max_height": null,
            "align_content": null,
            "visibility": null,
            "align_self": null,
            "height": null,
            "min_height": null,
            "padding": null,
            "grid_auto_rows": null,
            "grid_gap": null,
            "max_width": null,
            "order": null,
            "_view_module_version": "1.2.0",
            "grid_template_areas": null,
            "object_position": null,
            "object_fit": null,
            "grid_auto_columns": null,
            "margin": null,
            "display": null,
            "left": null
          }
        },
        "315941421f3c42f8b0d69091203c3202": {
          "model_module": "@jupyter-widgets/controls",
          "model_name": "HBoxModel",
          "state": {
            "_view_name": "HBoxView",
            "_dom_classes": [],
            "_model_name": "HBoxModel",
            "_view_module": "@jupyter-widgets/controls",
            "_model_module_version": "1.5.0",
            "_view_count": null,
            "_view_module_version": "1.5.0",
            "box_style": "",
            "layout": "IPY_MODEL_133ee6fc48804643a1c5eeaf7845043c",
            "_model_module": "@jupyter-widgets/controls",
            "children": [
              "IPY_MODEL_381e27afd1c149f7b75777e910cb9939",
              "IPY_MODEL_af70a18eca6047288bcb448a8cbb63be"
            ]
          }
        },
        "133ee6fc48804643a1c5eeaf7845043c": {
          "model_module": "@jupyter-widgets/base",
          "model_name": "LayoutModel",
          "state": {
            "_view_name": "LayoutView",
            "grid_template_rows": null,
            "right": null,
            "justify_content": null,
            "_view_module": "@jupyter-widgets/base",
            "overflow": null,
            "_model_module_version": "1.2.0",
            "_view_count": null,
            "flex_flow": null,
            "width": null,
            "min_width": null,
            "border": null,
            "align_items": null,
            "bottom": null,
            "_model_module": "@jupyter-widgets/base",
            "top": null,
            "grid_column": null,
            "overflow_y": null,
            "overflow_x": null,
            "grid_auto_flow": null,
            "grid_area": null,
            "grid_template_columns": null,
            "flex": null,
            "_model_name": "LayoutModel",
            "justify_items": null,
            "grid_row": null,
            "max_height": null,
            "align_content": null,
            "visibility": null,
            "align_self": null,
            "height": null,
            "min_height": null,
            "padding": null,
            "grid_auto_rows": null,
            "grid_gap": null,
            "max_width": null,
            "order": null,
            "_view_module_version": "1.2.0",
            "grid_template_areas": null,
            "object_position": null,
            "object_fit": null,
            "grid_auto_columns": null,
            "margin": null,
            "display": null,
            "left": null
          }
        },
        "381e27afd1c149f7b75777e910cb9939": {
          "model_module": "@jupyter-widgets/controls",
          "model_name": "FloatProgressModel",
          "state": {
            "_view_name": "ProgressView",
            "style": "IPY_MODEL_aa9fedf95d044541a3731c0a778bfbfe",
            "_dom_classes": [],
            "description": "Downloading: 100%",
            "_model_name": "FloatProgressModel",
            "bar_style": "success",
            "max": 456318,
            "_view_module": "@jupyter-widgets/controls",
            "_model_module_version": "1.5.0",
            "value": 456318,
            "_view_count": null,
            "_view_module_version": "1.5.0",
            "orientation": "horizontal",
            "min": 0,
            "description_tooltip": null,
            "_model_module": "@jupyter-widgets/controls",
            "layout": "IPY_MODEL_7219f0a1b540453fb5fb39659cced543"
          }
        },
        "af70a18eca6047288bcb448a8cbb63be": {
          "model_module": "@jupyter-widgets/controls",
          "model_name": "HTMLModel",
          "state": {
            "_view_name": "HTMLView",
            "style": "IPY_MODEL_43f268d1c37c4ede81f049ef1391af7f",
            "_dom_classes": [],
            "description": "",
            "_model_name": "HTMLModel",
            "placeholder": "​",
            "_view_module": "@jupyter-widgets/controls",
            "_model_module_version": "1.5.0",
            "value": " 456k/456k [00:00&lt;00:00, 1.00MB/s]",
            "_view_count": null,
            "_view_module_version": "1.5.0",
            "description_tooltip": null,
            "_model_module": "@jupyter-widgets/controls",
            "layout": "IPY_MODEL_edbd813111de4a409844e1d547a4fa66"
          }
        },
        "aa9fedf95d044541a3731c0a778bfbfe": {
          "model_module": "@jupyter-widgets/controls",
          "model_name": "ProgressStyleModel",
          "state": {
            "_view_name": "StyleView",
            "_model_name": "ProgressStyleModel",
            "description_width": "initial",
            "_view_module": "@jupyter-widgets/base",
            "_model_module_version": "1.5.0",
            "_view_count": null,
            "_view_module_version": "1.2.0",
            "bar_color": null,
            "_model_module": "@jupyter-widgets/controls"
          }
        },
        "7219f0a1b540453fb5fb39659cced543": {
          "model_module": "@jupyter-widgets/base",
          "model_name": "LayoutModel",
          "state": {
            "_view_name": "LayoutView",
            "grid_template_rows": null,
            "right": null,
            "justify_content": null,
            "_view_module": "@jupyter-widgets/base",
            "overflow": null,
            "_model_module_version": "1.2.0",
            "_view_count": null,
            "flex_flow": null,
            "width": null,
            "min_width": null,
            "border": null,
            "align_items": null,
            "bottom": null,
            "_model_module": "@jupyter-widgets/base",
            "top": null,
            "grid_column": null,
            "overflow_y": null,
            "overflow_x": null,
            "grid_auto_flow": null,
            "grid_area": null,
            "grid_template_columns": null,
            "flex": null,
            "_model_name": "LayoutModel",
            "justify_items": null,
            "grid_row": null,
            "max_height": null,
            "align_content": null,
            "visibility": null,
            "align_self": null,
            "height": null,
            "min_height": null,
            "padding": null,
            "grid_auto_rows": null,
            "grid_gap": null,
            "max_width": null,
            "order": null,
            "_view_module_version": "1.2.0",
            "grid_template_areas": null,
            "object_position": null,
            "object_fit": null,
            "grid_auto_columns": null,
            "margin": null,
            "display": null,
            "left": null
          }
        },
        "43f268d1c37c4ede81f049ef1391af7f": {
          "model_module": "@jupyter-widgets/controls",
          "model_name": "DescriptionStyleModel",
          "state": {
            "_view_name": "StyleView",
            "_model_name": "DescriptionStyleModel",
            "description_width": "",
            "_view_module": "@jupyter-widgets/base",
            "_model_module_version": "1.5.0",
            "_view_count": null,
            "_view_module_version": "1.2.0",
            "_model_module": "@jupyter-widgets/controls"
          }
        },
        "edbd813111de4a409844e1d547a4fa66": {
          "model_module": "@jupyter-widgets/base",
          "model_name": "LayoutModel",
          "state": {
            "_view_name": "LayoutView",
            "grid_template_rows": null,
            "right": null,
            "justify_content": null,
            "_view_module": "@jupyter-widgets/base",
            "overflow": null,
            "_model_module_version": "1.2.0",
            "_view_count": null,
            "flex_flow": null,
            "width": null,
            "min_width": null,
            "border": null,
            "align_items": null,
            "bottom": null,
            "_model_module": "@jupyter-widgets/base",
            "top": null,
            "grid_column": null,
            "overflow_y": null,
            "overflow_x": null,
            "grid_auto_flow": null,
            "grid_area": null,
            "grid_template_columns": null,
            "flex": null,
            "_model_name": "LayoutModel",
            "justify_items": null,
            "grid_row": null,
            "max_height": null,
            "align_content": null,
            "visibility": null,
            "align_self": null,
            "height": null,
            "min_height": null,
            "padding": null,
            "grid_auto_rows": null,
            "grid_gap": null,
            "max_width": null,
            "order": null,
            "_view_module_version": "1.2.0",
            "grid_template_areas": null,
            "object_position": null,
            "object_fit": null,
            "grid_auto_columns": null,
            "margin": null,
            "display": null,
            "left": null
          }
        },
        "375297887e494a608f7e4653f5d3a6f6": {
          "model_module": "@jupyter-widgets/controls",
          "model_name": "HBoxModel",
          "state": {
            "_view_name": "HBoxView",
            "_dom_classes": [],
            "_model_name": "HBoxModel",
            "_view_module": "@jupyter-widgets/controls",
            "_model_module_version": "1.5.0",
            "_view_count": null,
            "_view_module_version": "1.5.0",
            "box_style": "",
            "layout": "IPY_MODEL_05416917d94b46bead824dcccd3b53b3",
            "_model_module": "@jupyter-widgets/controls",
            "children": [
              "IPY_MODEL_1c96c2e5601e44d5a74ede757aaad1c8",
              "IPY_MODEL_d600b31b16eb4823adb3009da2420adc"
            ]
          }
        },
        "05416917d94b46bead824dcccd3b53b3": {
          "model_module": "@jupyter-widgets/base",
          "model_name": "LayoutModel",
          "state": {
            "_view_name": "LayoutView",
            "grid_template_rows": null,
            "right": null,
            "justify_content": null,
            "_view_module": "@jupyter-widgets/base",
            "overflow": null,
            "_model_module_version": "1.2.0",
            "_view_count": null,
            "flex_flow": null,
            "width": null,
            "min_width": null,
            "border": null,
            "align_items": null,
            "bottom": null,
            "_model_module": "@jupyter-widgets/base",
            "top": null,
            "grid_column": null,
            "overflow_y": null,
            "overflow_x": null,
            "grid_auto_flow": null,
            "grid_area": null,
            "grid_template_columns": null,
            "flex": null,
            "_model_name": "LayoutModel",
            "justify_items": null,
            "grid_row": null,
            "max_height": null,
            "align_content": null,
            "visibility": null,
            "align_self": null,
            "height": null,
            "min_height": null,
            "padding": null,
            "grid_auto_rows": null,
            "grid_gap": null,
            "max_width": null,
            "order": null,
            "_view_module_version": "1.2.0",
            "grid_template_areas": null,
            "object_position": null,
            "object_fit": null,
            "grid_auto_columns": null,
            "margin": null,
            "display": null,
            "left": null
          }
        },
        "1c96c2e5601e44d5a74ede757aaad1c8": {
          "model_module": "@jupyter-widgets/controls",
          "model_name": "FloatProgressModel",
          "state": {
            "_view_name": "ProgressView",
            "style": "IPY_MODEL_db8c54e078ad414992e968e361a126e7",
            "_dom_classes": [],
            "description": "Downloading: 100%",
            "_model_name": "FloatProgressModel",
            "bar_style": "success",
            "max": 1355256,
            "_view_module": "@jupyter-widgets/controls",
            "_model_module_version": "1.5.0",
            "value": 1355256,
            "_view_count": null,
            "_view_module_version": "1.5.0",
            "orientation": "horizontal",
            "min": 0,
            "description_tooltip": null,
            "_model_module": "@jupyter-widgets/controls",
            "layout": "IPY_MODEL_b201545750f14d86a7dd64982ed9cfde"
          }
        },
        "d600b31b16eb4823adb3009da2420adc": {
          "model_module": "@jupyter-widgets/controls",
          "model_name": "HTMLModel",
          "state": {
            "_view_name": "HTMLView",
            "style": "IPY_MODEL_faea4efdad4742c0b0222fc7bdcf9caa",
            "_dom_classes": [],
            "description": "",
            "_model_name": "HTMLModel",
            "placeholder": "​",
            "_view_module": "@jupyter-widgets/controls",
            "_model_module_version": "1.5.0",
            "value": " 1.36M/1.36M [00:05&lt;00:00, 237kB/s]",
            "_view_count": null,
            "_view_module_version": "1.5.0",
            "description_tooltip": null,
            "_model_module": "@jupyter-widgets/controls",
            "layout": "IPY_MODEL_d322d63f34e14991b4bbcd68f0b72643"
          }
        },
        "db8c54e078ad414992e968e361a126e7": {
          "model_module": "@jupyter-widgets/controls",
          "model_name": "ProgressStyleModel",
          "state": {
            "_view_name": "StyleView",
            "_model_name": "ProgressStyleModel",
            "description_width": "initial",
            "_view_module": "@jupyter-widgets/base",
            "_model_module_version": "1.5.0",
            "_view_count": null,
            "_view_module_version": "1.2.0",
            "bar_color": null,
            "_model_module": "@jupyter-widgets/controls"
          }
        },
        "b201545750f14d86a7dd64982ed9cfde": {
          "model_module": "@jupyter-widgets/base",
          "model_name": "LayoutModel",
          "state": {
            "_view_name": "LayoutView",
            "grid_template_rows": null,
            "right": null,
            "justify_content": null,
            "_view_module": "@jupyter-widgets/base",
            "overflow": null,
            "_model_module_version": "1.2.0",
            "_view_count": null,
            "flex_flow": null,
            "width": null,
            "min_width": null,
            "border": null,
            "align_items": null,
            "bottom": null,
            "_model_module": "@jupyter-widgets/base",
            "top": null,
            "grid_column": null,
            "overflow_y": null,
            "overflow_x": null,
            "grid_auto_flow": null,
            "grid_area": null,
            "grid_template_columns": null,
            "flex": null,
            "_model_name": "LayoutModel",
            "justify_items": null,
            "grid_row": null,
            "max_height": null,
            "align_content": null,
            "visibility": null,
            "align_self": null,
            "height": null,
            "min_height": null,
            "padding": null,
            "grid_auto_rows": null,
            "grid_gap": null,
            "max_width": null,
            "order": null,
            "_view_module_version": "1.2.0",
            "grid_template_areas": null,
            "object_position": null,
            "object_fit": null,
            "grid_auto_columns": null,
            "margin": null,
            "display": null,
            "left": null
          }
        },
        "faea4efdad4742c0b0222fc7bdcf9caa": {
          "model_module": "@jupyter-widgets/controls",
          "model_name": "DescriptionStyleModel",
          "state": {
            "_view_name": "StyleView",
            "_model_name": "DescriptionStyleModel",
            "description_width": "",
            "_view_module": "@jupyter-widgets/base",
            "_model_module_version": "1.5.0",
            "_view_count": null,
            "_view_module_version": "1.2.0",
            "_model_module": "@jupyter-widgets/controls"
          }
        },
        "d322d63f34e14991b4bbcd68f0b72643": {
          "model_module": "@jupyter-widgets/base",
          "model_name": "LayoutModel",
          "state": {
            "_view_name": "LayoutView",
            "grid_template_rows": null,
            "right": null,
            "justify_content": null,
            "_view_module": "@jupyter-widgets/base",
            "overflow": null,
            "_model_module_version": "1.2.0",
            "_view_count": null,
            "flex_flow": null,
            "width": null,
            "min_width": null,
            "border": null,
            "align_items": null,
            "bottom": null,
            "_model_module": "@jupyter-widgets/base",
            "top": null,
            "grid_column": null,
            "overflow_y": null,
            "overflow_x": null,
            "grid_auto_flow": null,
            "grid_area": null,
            "grid_template_columns": null,
            "flex": null,
            "_model_name": "LayoutModel",
            "justify_items": null,
            "grid_row": null,
            "max_height": null,
            "align_content": null,
            "visibility": null,
            "align_self": null,
            "height": null,
            "min_height": null,
            "padding": null,
            "grid_auto_rows": null,
            "grid_gap": null,
            "max_width": null,
            "order": null,
            "_view_module_version": "1.2.0",
            "grid_template_areas": null,
            "object_position": null,
            "object_fit": null,
            "grid_auto_columns": null,
            "margin": null,
            "display": null,
            "left": null
          }
        }
      }
    }
  },
  "cells": [
    {
      "cell_type": "markdown",
      "metadata": {
        "id": "NzqwNXS-9LwJ"
      },
      "source": [
        "<a href=\"http://colab.research.google.com/github/elsanns/retrieval-demo/blob/main/GPT_J_6B_TriviaQA_v2_1.ipynb\" target=\"_parent\"><img src=\"https://colab.research.google.com/assets/colab-badge.svg\" alt=\"Open In Colab\"/></a>\n",
        "\n",
        "This notebook is a demo of running GPT-J on TriviaQA.\n",
        "\n",
        "Adapted from: [GPT_J_6B_TriviaQA.ipynb](https://colab.research.google.com/drive/1lAbbh06PBcx6ykEBRHe0MG10CZBMQ610?usp=sharing)\n",
        "\n",
        "Links:\n",
        "\n",
        "- https://arxiv.org/pdf/1705.03551.pdf\n",
        "- http://nlp.cs.washington.edu/triviaqa/\n",
        "- https://github.com/mandarjoshi90/triviaqa\n",
        "\n",
        "\n",
        "---"
      ]
    },
    {
      "cell_type": "markdown",
      "metadata": {
        "id": "pHIJVqHsh4An"
      },
      "source": [
        "# GPT-J-6B Inference Demo\n",
        "\n",
        "Code from [GPT_J_6B_TriviaQA.ipynb](https://colab.research.google.com/drive/1lAbbh06PBcx6ykEBRHe0MG10CZBMQ610?usp=sharing)\n",
        "\n",
        "<a href=\"http://colab.research.google.com/github/kingoflolz/mesh-transformer-jax/blob/master/colab_demo.ipynb\" target=\"_parent\"><img src=\"https://colab.research.google.com/assets/colab-badge.svg\" alt=\"Open In Colab\"/></a>\n",
        "\n",
        "This notebook demonstrates how to run the [GPT-J-6B model](https://github.com/kingoflolz/mesh-transformer-jax/#GPT-J-6B). See the link for more details about the model, including evaluation metrics and credits."
      ]
    },
    {
      "cell_type": "markdown",
      "metadata": {
        "id": "8CMw_dSQKfhT"
      },
      "source": [
        "## Install Dependencies\n",
        "\n",
        "First we download the model and install some dependencies. This step takes at least 5 minutes (possibly longer depending on server load).\n",
        "\n",
        "!!! **Make sure you are using a TPU runtime!** !!!"
      ]
    },
    {
      "cell_type": "code",
      "metadata": {
        "colab": {
          "base_uri": "https://localhost:8080/",
          "height": 1000
        },
        "id": "n7xAFw-LOYfe",
        "outputId": "96409fe3-3f68-4c75-ec68-999a898671fc"
      },
      "source": [
        "!apt install zstd\n",
        "\n",
        "# the \"slim\" version contain only bf16 weights and no optimizer parameters, which minimizes bandwidth and memory\n",
        "!time wget -c https://the-eye.eu/public/AI/GPT-J-6B/step_383500_slim.tar.zstd\n",
        "\n",
        "!time tar -I zstd -xf step_383500_slim.tar.zstd\n",
        "\n",
        "!git clone https://github.com/kingoflolz/mesh-transformer-jax.git\n",
        "!pip install -r mesh-transformer-jax/requirements.txt\n",
        "\n",
        "# jax 0.2.12 is required due to a regression with xmap in 0.2.13\n",
        "!pip install mesh-transformer-jax/ jax==0.2.12"
      ],
      "execution_count": null,
      "outputs": [
        {
          "output_type": "stream",
          "text": [
            "Reading package lists... Done\n",
            "Building dependency tree       \n",
            "Reading state information... Done\n",
            "The following NEW packages will be installed:\n",
            "  zstd\n",
            "0 upgraded, 1 newly installed, 0 to remove and 39 not upgraded.\n",
            "Need to get 278 kB of archives.\n",
            "After this operation, 1,141 kB of additional disk space will be used.\n",
            "Get:1 http://archive.ubuntu.com/ubuntu bionic-updates/universe amd64 zstd amd64 1.3.3+dfsg-2ubuntu1.2 [278 kB]\n",
            "Fetched 278 kB in 1s (373 kB/s)\n",
            "Selecting previously unselected package zstd.\n",
            "(Reading database ... 160837 files and directories currently installed.)\n",
            "Preparing to unpack .../zstd_1.3.3+dfsg-2ubuntu1.2_amd64.deb ...\n",
            "Unpacking zstd (1.3.3+dfsg-2ubuntu1.2) ...\n",
            "Setting up zstd (1.3.3+dfsg-2ubuntu1.2) ...\n",
            "Processing triggers for man-db (2.8.3-2ubuntu0.1) ...\n",
            "--2021-07-19 13:52:09--  https://the-eye.eu/public/AI/GPT-J-6B/step_383500_slim.tar.zstd\n",
            "Resolving the-eye.eu (the-eye.eu)... 162.213.130.242\n",
            "Connecting to the-eye.eu (the-eye.eu)|162.213.130.242|:443... connected.\n",
            "HTTP request sent, awaiting response... 200 OK\n",
            "Length: 9414712325 (8.8G) [application/octet-stream]\n",
            "Saving to: ‘step_383500_slim.tar.zstd’\n",
            "\n",
            "step_383500_slim.ta 100%[===================>]   8.77G  17.6MB/s    in 3m 22s  \n",
            "\n",
            "2021-07-19 13:55:32 (44.4 MB/s) - ‘step_383500_slim.tar.zstd’ saved [9414712325/9414712325]\n",
            "\n",
            "\n",
            "real\t3m24.236s\n",
            "user\t0m5.133s\n",
            "sys\t0m22.355s\n",
            "\n",
            "real\t4m0.586s\n",
            "user\t0m30.722s\n",
            "sys\t0m26.985s\n",
            "Cloning into 'mesh-transformer-jax'...\n",
            "remote: Enumerating objects: 631, done.\u001b[K\n",
            "remote: Counting objects: 100% (282/282), done.\u001b[K\n",
            "remote: Compressing objects: 100% (104/104), done.\u001b[K\n",
            "remote: Total 631 (delta 228), reused 199 (delta 175), pack-reused 349\u001b[K\n",
            "Receiving objects: 100% (631/631), 182.79 KiB | 3.66 MiB/s, done.\n",
            "Resolving deltas: 100% (408/408), done.\n",
            "Collecting git+https://github.com/deepmind/dm-haiku (from -r mesh-transformer-jax/requirements.txt (line 10))\n",
            "  Cloning https://github.com/deepmind/dm-haiku to /tmp/pip-req-build-rdibgpfu\n",
            "  Running command git clone -q https://github.com/deepmind/dm-haiku /tmp/pip-req-build-rdibgpfu\n",
            "Collecting git+https://github.com/EleutherAI/lm-evaluation-harness/ (from -r mesh-transformer-jax/requirements.txt (line 11))\n",
            "  Cloning https://github.com/EleutherAI/lm-evaluation-harness/ to /tmp/pip-req-build-4430m19s\n",
            "  Running command git clone -q https://github.com/EleutherAI/lm-evaluation-harness/ /tmp/pip-req-build-4430m19s\n",
            "Requirement already satisfied: numpy~=1.19.5 in /usr/local/lib/python3.7/dist-packages (from -r mesh-transformer-jax/requirements.txt (line 1)) (1.19.5)\n",
            "Collecting transformers~=4.8.2\n",
            "\u001b[?25l  Downloading https://files.pythonhosted.org/packages/fd/1a/41c644c963249fd7f3836d926afa1e3f1cc234a1c40d80c5f03ad8f6f1b2/transformers-4.8.2-py3-none-any.whl (2.5MB)\n",
            "\u001b[K     |████████████████████████████████| 2.5MB 5.0MB/s \n",
            "\u001b[?25hCollecting tqdm~=4.45.0\n",
            "\u001b[?25l  Downloading https://files.pythonhosted.org/packages/4a/1c/6359be64e8301b84160f6f6f7936bbfaaa5e9a4eab6cbc681db07600b949/tqdm-4.45.0-py2.py3-none-any.whl (60kB)\n",
            "\u001b[K     |████████████████████████████████| 61kB 8.6MB/s \n",
            "\u001b[?25hCollecting setuptools~=51.3.3\n",
            "\u001b[?25l  Downloading https://files.pythonhosted.org/packages/b2/81/509db0082c0d2ca2af307c6652ea422865de1f83c14b1e1f3549e415cfac/setuptools-51.3.3-py3-none-any.whl (786kB)\n",
            "\u001b[K     |████████████████████████████████| 788kB 29.8MB/s \n",
            "\u001b[?25hCollecting wandb~=0.10.22\n",
            "\u001b[?25l  Downloading https://files.pythonhosted.org/packages/d4/f6/91c07f54c2162854f5028aaa13f576ca17a3bc0cf6da02c2ad5baddae128/wandb-0.10.33-py2.py3-none-any.whl (1.8MB)\n",
            "\u001b[K     |████████████████████████████████| 1.8MB 43.1MB/s \n",
            "\u001b[?25hCollecting einops~=0.3.0\n",
            "  Downloading https://files.pythonhosted.org/packages/5d/a0/9935e030634bf60ecd572c775f64ace82ceddf2f504a5fd3902438f07090/einops-0.3.0-py2.py3-none-any.whl\n",
            "Collecting requests~=2.25.1\n",
            "\u001b[?25l  Downloading https://files.pythonhosted.org/packages/29/c1/24814557f1d22c56d50280771a17307e6bf87b70727d975fd6b2ce6b014a/requests-2.25.1-py2.py3-none-any.whl (61kB)\n",
            "\u001b[K     |████████████████████████████████| 61kB 9.2MB/s \n",
            "\u001b[?25hCollecting fabric~=2.6.0\n",
            "\u001b[?25l  Downloading https://files.pythonhosted.org/packages/c1/9d/59df62b620985871a4ba7d8b509b84340bbd1573257e55a427ae2df2d56e/fabric-2.6.0-py2.py3-none-any.whl (53kB)\n",
            "\u001b[K     |████████████████████████████████| 61kB 8.6MB/s \n",
            "\u001b[?25hCollecting optax==0.0.6\n",
            "\u001b[?25l  Downloading https://files.pythonhosted.org/packages/ec/7a/6259edd319ee7fa94dd23c54f15eff667f599d179e889af90fe0c204612c/optax-0.0.6-py3-none-any.whl (96kB)\n",
            "\u001b[K     |████████████████████████████████| 102kB 13.3MB/s \n",
            "\u001b[?25hCollecting ray==1.4.1\n",
            "\u001b[?25l  Downloading https://files.pythonhosted.org/packages/12/b8/27822537e56693f8c91ced3e46c38220a84767d73cc3d01d5d5351aacc1e/ray-1.4.1-cp37-cp37m-manylinux2014_x86_64.whl (51.6MB)\n",
            "\u001b[K     |████████████████████████████████| 51.6MB 87kB/s \n",
            "\u001b[?25hRequirement already satisfied: jax~=0.2.12 in /usr/local/lib/python3.7/dist-packages (from -r mesh-transformer-jax/requirements.txt (line 13)) (0.2.17)\n",
            "Requirement already satisfied: Flask~=1.1.2 in /usr/local/lib/python3.7/dist-packages (from -r mesh-transformer-jax/requirements.txt (line 14)) (1.1.4)\n",
            "Requirement already satisfied: cloudpickle~=1.3.0 in /usr/local/lib/python3.7/dist-packages (from -r mesh-transformer-jax/requirements.txt (line 15)) (1.3.0)\n",
            "Collecting tensorflow-cpu~=2.5.0\n",
            "\u001b[?25l  Downloading https://files.pythonhosted.org/packages/dc/2c/fd9f64fb7974e0b72977b6c9fff6cbabe0642a899f7c9b76767f74207920/tensorflow_cpu-2.5.0-cp37-cp37m-manylinux2010_x86_64.whl (168.3MB)\n",
            "\u001b[K     |████████████████████████████████| 168.3MB 27kB/s \n",
            "\u001b[?25hCollecting google-cloud-storage~=1.36.2\n",
            "\u001b[?25l  Downloading https://files.pythonhosted.org/packages/f2/0e/da07ffa511daa559bcc209f9344d71a90ba4d7b391fb795e6282f86d2935/google_cloud_storage-1.36.2-py2.py3-none-any.whl (97kB)\n",
            "\u001b[K     |████████████████████████████████| 102kB 12.4MB/s \n",
            "\u001b[?25hRequirement already satisfied: smart_open[gcs] in /usr/local/lib/python3.7/dist-packages (from -r mesh-transformer-jax/requirements.txt (line 18)) (5.1.0)\n",
            "Collecting func_timeout\n",
            "\u001b[?25l  Downloading https://files.pythonhosted.org/packages/b3/0d/bf0567477f7281d9a3926c582bfef21bff7498fc0ffd3e9de21811896a0b/func_timeout-4.3.5.tar.gz (44kB)\n",
            "\u001b[K     |████████████████████████████████| 51kB 7.8MB/s \n",
            "\u001b[?25hCollecting ftfy\n",
            "\u001b[?25l  Downloading https://files.pythonhosted.org/packages/af/da/d215a091986e5f01b80f5145cff6f22e2dc57c6b048aab2e882a07018473/ftfy-6.0.3.tar.gz (64kB)\n",
            "\u001b[K     |████████████████████████████████| 71kB 9.9MB/s \n",
            "\u001b[?25hCollecting fastapi\n",
            "\u001b[?25l  Downloading https://files.pythonhosted.org/packages/f8/cb/2682d18ac7a553a0203f48190f474ab6dde6cd8815ac6822a46d611e6661/fastapi-0.66.0-py3-none-any.whl (51kB)\n",
            "\u001b[K     |████████████████████████████████| 61kB 8.3MB/s \n",
            "\u001b[?25hCollecting uvicorn\n",
            "\u001b[?25l  Downloading https://files.pythonhosted.org/packages/bf/fe/a41994c92897b162c0c83e8ef10bec54ebdefbce3f3725b530d2091492ac/uvicorn-0.14.0-py3-none-any.whl (50kB)\n",
            "\u001b[K     |████████████████████████████████| 51kB 7.0MB/s \n",
            "\u001b[?25hRequirement already satisfied: absl-py>=0.7.1 in /usr/local/lib/python3.7/dist-packages (from dm-haiku==0.0.5.dev0->-r mesh-transformer-jax/requirements.txt (line 10)) (0.12.0)\n",
            "Collecting jmp>=0.0.2\n",
            "  Downloading https://files.pythonhosted.org/packages/ff/5c/1482f4a4a502e080af2ca54d7f80a60b5d4735f464c151666d583b78c226/jmp-0.0.2-py3-none-any.whl\n",
            "Requirement already satisfied: tabulate>=0.8.9 in /usr/local/lib/python3.7/dist-packages (from dm-haiku==0.0.5.dev0->-r mesh-transformer-jax/requirements.txt (line 10)) (0.8.9)\n",
            "Requirement already satisfied: typing_extensions in /usr/local/lib/python3.7/dist-packages (from dm-haiku==0.0.5.dev0->-r mesh-transformer-jax/requirements.txt (line 10)) (3.7.4.3)\n",
            "Collecting black==20.8b1\n",
            "\u001b[?25l  Downloading https://files.pythonhosted.org/packages/dc/7b/5a6bbe89de849f28d7c109f5ea87b65afa5124ad615f3419e71beb29dc96/black-20.8b1.tar.gz (1.1MB)\n",
            "\u001b[K     |████████████████████████████████| 1.1MB 53.2MB/s \n",
            "\u001b[?25h  Installing build dependencies ... \u001b[?25l\u001b[?25hdone\n",
            "  Getting requirements to build wheel ... \u001b[?25l\u001b[?25hdone\n",
            "    Preparing wheel metadata ... \u001b[?25l\u001b[?25hdone\n",
            "Collecting best_download>=0.0.6\n",
            "  Downloading https://files.pythonhosted.org/packages/cd/8f/d8f2145cb0fd42ca55a6c6420d512156b6ff5d9857b3dd9cd0d679377cc5/best_download-0.0.7-py3-none-any.whl\n",
            "Collecting datasets>=1.2.1\n",
            "\u001b[?25l  Downloading https://files.pythonhosted.org/packages/86/27/9c91ddee87b06d2de12f134c5171a49890427e398389f07f6463485723c3/datasets-1.9.0-py3-none-any.whl (262kB)\n",
            "\u001b[K     |████████████████████████████████| 266kB 55.6MB/s \n",
            "\u001b[?25hRequirement already satisfied: click>=7.1 in /usr/local/lib/python3.7/dist-packages (from lm-eval-harness==0.0.1->-r mesh-transformer-jax/requirements.txt (line 11)) (7.1.2)\n",
            "Collecting scikit-learn>=0.24.1\n",
            "\u001b[?25l  Downloading https://files.pythonhosted.org/packages/a8/eb/a48f25c967526b66d5f1fa7a984594f0bf0a5afafa94a8c4dbc317744620/scikit_learn-0.24.2-cp37-cp37m-manylinux2010_x86_64.whl (22.3MB)\n",
            "\u001b[K     |████████████████████████████████| 22.3MB 1.4MB/s \n",
            "\u001b[?25hRequirement already satisfied: torch>=1.7 in /usr/local/lib/python3.7/dist-packages (from lm-eval-harness==0.0.1->-r mesh-transformer-jax/requirements.txt (line 11)) (1.9.0+cu102)\n",
            "Collecting sqlitedict==1.6.0\n",
            "  Downloading https://files.pythonhosted.org/packages/0f/1c/c757b93147a219cf1e25cef7e1ad9b595b7f802159493c45ce116521caff/sqlitedict-1.6.0.tar.gz\n",
            "Collecting pytablewriter==0.58.0\n",
            "\u001b[?25l  Downloading https://files.pythonhosted.org/packages/fd/e2/62b208cdb8771dee1849bd2b4ed129284e1efff7669985697e4c124c1000/pytablewriter-0.58.0-py3-none-any.whl (96kB)\n",
            "\u001b[K     |████████████████████████████████| 102kB 13.2MB/s \n",
            "\u001b[?25hCollecting sacrebleu==1.5.0\n",
            "\u001b[?25l  Downloading https://files.pythonhosted.org/packages/3b/7f/4fd83db8570288c3899d8e57666c2841403c15659f3d792a3cb8dc1c6689/sacrebleu-1.5.0-py3-none-any.whl (65kB)\n",
            "\u001b[K     |████████████████████████████████| 71kB 10.5MB/s \n",
            "\u001b[?25hCollecting pycountry==20.7.3\n",
            "\u001b[?25l  Downloading https://files.pythonhosted.org/packages/76/73/6f1a412f14f68c273feea29a6ea9b9f1e268177d32e0e69ad6790d306312/pycountry-20.7.3.tar.gz (10.1MB)\n",
            "\u001b[K     |████████████████████████████████| 10.1MB 60.3MB/s \n",
            "\u001b[?25hCollecting numexpr==2.7.2\n",
            "\u001b[?25l  Downloading https://files.pythonhosted.org/packages/9c/f4/fa8755c1aa44b431267aa019922f6cc9ec099cef0c6fc0ead0f9a2aa59e5/numexpr-2.7.2-cp37-cp37m-manylinux2010_x86_64.whl (471kB)\n",
            "\u001b[K     |████████████████████████████████| 481kB 55.3MB/s \n",
            "\u001b[?25hCollecting lm_dataformat==0.0.19\n",
            "  Downloading https://files.pythonhosted.org/packages/83/b5/8d10bf5a8082921792bb09c9d591dfd622cf4a16fbb7e283cc921c5ffc50/lm_dataformat-0.0.19-py3-none-any.whl\n",
            "Collecting pytest==6.2.3\n",
            "\u001b[?25l  Downloading https://files.pythonhosted.org/packages/76/4d/9c00146923da9f1cabd1878209d71b1380d537ec331a1a613e8f4b9d7985/pytest-6.2.3-py3-none-any.whl (280kB)\n",
            "\u001b[K     |████████████████████████████████| 286kB 58.4MB/s \n",
            "\u001b[?25hCollecting pybind11==2.6.2\n",
            "\u001b[?25l  Downloading https://files.pythonhosted.org/packages/8d/43/7339dbabbc2793718d59703aace4166f53c29ee1c202f6ff5bf8a26c4d91/pybind11-2.6.2-py2.py3-none-any.whl (191kB)\n",
            "\u001b[K     |████████████████████████████████| 194kB 70.5MB/s \n",
            "\u001b[?25hCollecting tqdm-multiprocess==0.0.11\n",
            "  Downloading https://files.pythonhosted.org/packages/25/7e/0d889fc6c84e3df6b69aaafe893fc77f69b3d968ac9ce574d1c62c688050/tqdm_multiprocess-0.0.11-py3-none-any.whl\n",
            "Collecting zstandard==0.15.2\n",
            "\u001b[?25l  Downloading https://files.pythonhosted.org/packages/5b/56/dc2a85d06e973f2ad96584b0e5b876d063135d449cb040aeaadd22a910f9/zstandard-0.15.2-cp37-cp37m-manylinux2014_x86_64.whl (2.2MB)\n",
            "\u001b[K     |████████████████████████████████| 2.2MB 55.4MB/s \n",
            "\u001b[?25hCollecting jsonlines==2.0.0\n",
            "  Downloading https://files.pythonhosted.org/packages/d4/58/06f430ff7607a2929f80f07bfd820acbc508a4e977542fefcc522cde9dff/jsonlines-2.0.0-py3-none-any.whl\n",
            "Collecting mock==4.0.3\n",
            "  Downloading https://files.pythonhosted.org/packages/5c/03/b7e605db4a57c0f6fba744b11ef3ddf4ddebcada35022927a2b5fc623fdf/mock-4.0.3-py3-none-any.whl\n",
            "Collecting openai==0.6.4\n",
            "\u001b[?25l  Downloading https://files.pythonhosted.org/packages/00/6b/ec780cfdd44ce0d7e56aae12477fe163ad152078cfdb744dfccab4ddae4b/openai-0.6.4.tar.gz (159kB)\n",
            "\u001b[K     |████████████████████████████████| 163kB 61.3MB/s \n",
            "\u001b[?25hRequirement already satisfied: packaging in /usr/local/lib/python3.7/dist-packages (from transformers~=4.8.2->-r mesh-transformer-jax/requirements.txt (line 2)) (21.0)\n",
            "Requirement already satisfied: regex!=2019.12.17 in /usr/local/lib/python3.7/dist-packages (from transformers~=4.8.2->-r mesh-transformer-jax/requirements.txt (line 2)) (2019.12.20)\n",
            "Collecting tokenizers<0.11,>=0.10.1\n",
            "\u001b[?25l  Downloading https://files.pythonhosted.org/packages/d4/e2/df3543e8ffdab68f5acc73f613de9c2b155ac47f162e725dcac87c521c11/tokenizers-0.10.3-cp37-cp37m-manylinux_2_5_x86_64.manylinux1_x86_64.manylinux_2_12_x86_64.manylinux2010_x86_64.whl (3.3MB)\n",
            "\u001b[K     |████████████████████████████████| 3.3MB 55.5MB/s \n",
            "\u001b[?25hCollecting huggingface-hub==0.0.12\n",
            "  Downloading https://files.pythonhosted.org/packages/2f/ee/97e253668fda9b17e968b3f97b2f8e53aa0127e8807d24a547687423fe0b/huggingface_hub-0.0.12-py3-none-any.whl\n",
            "Requirement already satisfied: pyyaml in /usr/local/lib/python3.7/dist-packages (from transformers~=4.8.2->-r mesh-transformer-jax/requirements.txt (line 2)) (3.13)\n",
            "Requirement already satisfied: filelock in /usr/local/lib/python3.7/dist-packages (from transformers~=4.8.2->-r mesh-transformer-jax/requirements.txt (line 2)) (3.0.12)\n",
            "Collecting sacremoses\n",
            "\u001b[?25l  Downloading https://files.pythonhosted.org/packages/75/ee/67241dc87f266093c533a2d4d3d69438e57d7a90abb216fa076e7d475d4a/sacremoses-0.0.45-py3-none-any.whl (895kB)\n",
            "\u001b[K     |████████████████████████████████| 901kB 56.2MB/s \n",
            "\u001b[?25hRequirement already satisfied: importlib-metadata; python_version < \"3.8\" in /usr/local/lib/python3.7/dist-packages (from transformers~=4.8.2->-r mesh-transformer-jax/requirements.txt (line 2)) (4.6.1)\n",
            "Collecting subprocess32>=3.5.3\n",
            "\u001b[?25l  Downloading https://files.pythonhosted.org/packages/32/c8/564be4d12629b912ea431f1a50eb8b3b9d00f1a0b1ceff17f266be190007/subprocess32-3.5.4.tar.gz (97kB)\n",
            "\u001b[K     |████████████████████████████████| 102kB 12.8MB/s \n",
            "\u001b[?25hRequirement already satisfied: python-dateutil>=2.6.1 in /usr/local/lib/python3.7/dist-packages (from wandb~=0.10.22->-r mesh-transformer-jax/requirements.txt (line 5)) (2.8.1)\n",
            "Collecting configparser>=3.8.1\n",
            "  Downloading https://files.pythonhosted.org/packages/fd/01/ff260a18caaf4457eb028c96eeb405c4a230ca06c8ec9c1379f813caa52e/configparser-5.0.2-py3-none-any.whl\n",
            "Requirement already satisfied: six>=1.13.0 in /usr/local/lib/python3.7/dist-packages (from wandb~=0.10.22->-r mesh-transformer-jax/requirements.txt (line 5)) (1.15.0)\n",
            "Requirement already satisfied: psutil>=5.0.0 in /usr/local/lib/python3.7/dist-packages (from wandb~=0.10.22->-r mesh-transformer-jax/requirements.txt (line 5)) (5.4.8)\n",
            "Requirement already satisfied: promise<3,>=2.0 in /usr/local/lib/python3.7/dist-packages (from wandb~=0.10.22->-r mesh-transformer-jax/requirements.txt (line 5)) (2.3)\n",
            "Collecting pathtools\n",
            "  Downloading https://files.pythonhosted.org/packages/e7/7f/470d6fcdf23f9f3518f6b0b76be9df16dcc8630ad409947f8be2eb0ed13a/pathtools-0.1.2.tar.gz\n",
            "Collecting shortuuid>=0.5.0\n",
            "  Downloading https://files.pythonhosted.org/packages/25/a6/2ecc1daa6a304e7f1b216f0896b26156b78e7c38e1211e9b798b4716c53d/shortuuid-1.0.1-py3-none-any.whl\n",
            "Collecting GitPython>=1.0.0\n",
            "\u001b[?25l  Downloading https://files.pythonhosted.org/packages/bc/91/b38c4fabb6e5092ab23492ded4f318ab7299b19263272b703478038c0fbc/GitPython-3.1.18-py3-none-any.whl (170kB)\n",
            "\u001b[K     |████████████████████████████████| 174kB 61.2MB/s \n",
            "\u001b[?25hCollecting docker-pycreds>=0.4.0\n",
            "  Downloading https://files.pythonhosted.org/packages/f5/e8/f6bd1eee09314e7e6dee49cbe2c5e22314ccdb38db16c9fc72d2fa80d054/docker_pycreds-0.4.0-py2.py3-none-any.whl\n",
            "Requirement already satisfied: protobuf>=3.12.0 in /usr/local/lib/python3.7/dist-packages (from wandb~=0.10.22->-r mesh-transformer-jax/requirements.txt (line 5)) (3.17.3)\n",
            "Collecting sentry-sdk>=0.4.0\n",
            "\u001b[?25l  Downloading https://files.pythonhosted.org/packages/ce/41/75fad31fff378871c462745ce724b3701a6acad17028d79476ec2545e40f/sentry_sdk-1.3.0-py2.py3-none-any.whl (133kB)\n",
            "\u001b[K     |████████████████████████████████| 143kB 66.0MB/s \n",
            "\u001b[?25hRequirement already satisfied: idna<3,>=2.5 in /usr/local/lib/python3.7/dist-packages (from requests~=2.25.1->-r mesh-transformer-jax/requirements.txt (line 7)) (2.10)\n",
            "Requirement already satisfied: chardet<5,>=3.0.2 in /usr/local/lib/python3.7/dist-packages (from requests~=2.25.1->-r mesh-transformer-jax/requirements.txt (line 7)) (3.0.4)\n",
            "Requirement already satisfied: urllib3<1.27,>=1.21.1 in /usr/local/lib/python3.7/dist-packages (from requests~=2.25.1->-r mesh-transformer-jax/requirements.txt (line 7)) (1.24.3)\n",
            "Requirement already satisfied: certifi>=2017.4.17 in /usr/local/lib/python3.7/dist-packages (from requests~=2.25.1->-r mesh-transformer-jax/requirements.txt (line 7)) (2021.5.30)\n",
            "Collecting invoke<2.0,>=1.3\n",
            "\u001b[?25l  Downloading https://files.pythonhosted.org/packages/de/8b/6fea06c4e75a9c2390103c9960ab3533b64e9816207744665072e094336c/invoke-1.6.0-py3-none-any.whl (212kB)\n",
            "\u001b[K     |████████████████████████████████| 215kB 57.8MB/s \n",
            "\u001b[?25hCollecting pathlib2\n",
            "  Downloading https://files.pythonhosted.org/packages/76/67/dc02c72177ec79f0176e5bf9921e9c1745a381ed556afb3b3ecc2bb8ba2e/pathlib2-2.3.6-py2.py3-none-any.whl\n",
            "Collecting paramiko>=2.4\n",
            "\u001b[?25l  Downloading https://files.pythonhosted.org/packages/95/19/124e9287b43e6ff3ebb9cdea3e5e8e88475a873c05ccdf8b7e20d2c4201e/paramiko-2.7.2-py2.py3-none-any.whl (206kB)\n",
            "\u001b[K     |████████████████████████████████| 215kB 60.9MB/s \n",
            "\u001b[?25hCollecting chex>=0.0.4\n",
            "\u001b[?25l  Downloading https://files.pythonhosted.org/packages/0f/95/ccd2da57155c019efb3a60e3e5ecb9da431e19ebb16cce1e6981d615d75e/chex-0.0.8-py3-none-any.whl (57kB)\n",
            "\u001b[K     |████████████████████████████████| 61kB 8.4MB/s \n",
            "\u001b[?25hRequirement already satisfied: jaxlib>=0.1.37 in /usr/local/lib/python3.7/dist-packages (from optax==0.0.6->-r mesh-transformer-jax/requirements.txt (line 9)) (0.1.69+cuda110)\n",
            "Requirement already satisfied: grpcio>=1.28.1 in /usr/local/lib/python3.7/dist-packages (from ray==1.4.1->-r mesh-transformer-jax/requirements.txt (line 12)) (1.34.1)\n",
            "Requirement already satisfied: msgpack<2.0.0,>=1.0.0 in /usr/local/lib/python3.7/dist-packages (from ray==1.4.1->-r mesh-transformer-jax/requirements.txt (line 12)) (1.0.2)\n",
            "Collecting aiohttp-cors\n",
            "  Downloading https://files.pythonhosted.org/packages/13/e7/e436a0c0eb5127d8b491a9b83ecd2391c6ff7dcd5548dfaec2080a2340fd/aiohttp_cors-0.7.0-py3-none-any.whl\n",
            "Collecting aioredis\n",
            "\u001b[?25l  Downloading https://files.pythonhosted.org/packages/b0/64/1b1612d0a104f21f80eb4c6e1b6075f2e6aba8e228f46f229cfd3fdac859/aioredis-1.3.1-py3-none-any.whl (65kB)\n",
            "\u001b[K     |████████████████████████████████| 71kB 9.8MB/s \n",
            "\u001b[?25hCollecting colorama\n",
            "  Downloading https://files.pythonhosted.org/packages/44/98/5b86278fbbf250d239ae0ecb724f8572af1c91f4a11edf4d36a206189440/colorama-0.4.4-py2.py3-none-any.whl\n",
            "Collecting gpustat\n",
            "\u001b[?25l  Downloading https://files.pythonhosted.org/packages/b4/69/d8c849715171aeabd61af7da080fdc60948b5a396d2422f1f4672e43d008/gpustat-0.6.0.tar.gz (78kB)\n",
            "\u001b[K     |████████████████████████████████| 81kB 12.5MB/s \n",
            "\u001b[?25hCollecting aiohttp\n",
            "\u001b[?25l  Downloading https://files.pythonhosted.org/packages/88/c0/5890b4c8b04a79b7360e8fe4490feb0bb3ab179743f199f0e6220cebd568/aiohttp-3.7.4.post0-cp37-cp37m-manylinux2014_x86_64.whl (1.3MB)\n",
            "\u001b[K     |████████████████████████████████| 1.3MB 58.2MB/s \n",
            "\u001b[?25hCollecting pydantic>=1.8\n",
            "\u001b[?25l  Downloading https://files.pythonhosted.org/packages/9f/f2/2d5425efe57f6c4e06cbe5e587c1fd16929dcf0eb90bd4d3d1e1c97d1151/pydantic-1.8.2-cp37-cp37m-manylinux2014_x86_64.whl (10.1MB)\n",
            "\u001b[K     |████████████████████████████████| 10.1MB 53.1MB/s \n",
            "\u001b[?25hCollecting opencensus\n",
            "\u001b[?25l  Downloading https://files.pythonhosted.org/packages/18/59/12044123133d000f705383ad98579aeb0dd82d66b33a254a21b54bf0d6bb/opencensus-0.7.13-py2.py3-none-any.whl (127kB)\n",
            "\u001b[K     |████████████████████████████████| 133kB 61.0MB/s \n",
            "\u001b[?25hCollecting redis>=3.5.0\n",
            "\u001b[?25l  Downloading https://files.pythonhosted.org/packages/a7/7c/24fb0511df653cf1a5d938d8f5d19802a88cef255706fdda242ff97e91b7/redis-3.5.3-py2.py3-none-any.whl (72kB)\n",
            "\u001b[K     |████████████████████████████████| 81kB 10.5MB/s \n",
            "\u001b[?25hCollecting py-spy>=0.2.0\n",
            "\u001b[?25l  Downloading https://files.pythonhosted.org/packages/9d/4d/1a9cbe9a0b543e6733cb38afe26451522a9ef8e4897b59e74cc76838f245/py_spy-0.3.7-py2.py3-none-manylinux1_x86_64.whl (3.1MB)\n",
            "\u001b[K     |████████████████████████████████| 3.1MB 52.7MB/s \n",
            "\u001b[?25hRequirement already satisfied: prometheus-client>=0.7.1 in /usr/local/lib/python3.7/dist-packages (from ray==1.4.1->-r mesh-transformer-jax/requirements.txt (line 12)) (0.11.0)\n",
            "Requirement already satisfied: jsonschema in /usr/local/lib/python3.7/dist-packages (from ray==1.4.1->-r mesh-transformer-jax/requirements.txt (line 12)) (2.6.0)\n",
            "Requirement already satisfied: opt-einsum in /usr/local/lib/python3.7/dist-packages (from jax~=0.2.12->-r mesh-transformer-jax/requirements.txt (line 13)) (3.3.0)\n",
            "Requirement already satisfied: Jinja2<3.0,>=2.10.1 in /usr/local/lib/python3.7/dist-packages (from Flask~=1.1.2->-r mesh-transformer-jax/requirements.txt (line 14)) (2.11.3)\n",
            "Requirement already satisfied: Werkzeug<2.0,>=0.15 in /usr/local/lib/python3.7/dist-packages (from Flask~=1.1.2->-r mesh-transformer-jax/requirements.txt (line 14)) (1.0.1)\n",
            "Requirement already satisfied: itsdangerous<2.0,>=0.24 in /usr/local/lib/python3.7/dist-packages (from Flask~=1.1.2->-r mesh-transformer-jax/requirements.txt (line 14)) (1.1.0)\n",
            "Requirement already satisfied: flatbuffers~=1.12.0 in /usr/local/lib/python3.7/dist-packages (from tensorflow-cpu~=2.5.0->-r mesh-transformer-jax/requirements.txt (line 16)) (1.12)\n",
            "Requirement already satisfied: astunparse~=1.6.3 in /usr/local/lib/python3.7/dist-packages (from tensorflow-cpu~=2.5.0->-r mesh-transformer-jax/requirements.txt (line 16)) (1.6.3)\n",
            "Requirement already satisfied: tensorflow-estimator<2.6.0,>=2.5.0rc0 in /usr/local/lib/python3.7/dist-packages (from tensorflow-cpu~=2.5.0->-r mesh-transformer-jax/requirements.txt (line 16)) (2.5.0)\n",
            "Requirement already satisfied: wrapt~=1.12.1 in /usr/local/lib/python3.7/dist-packages (from tensorflow-cpu~=2.5.0->-r mesh-transformer-jax/requirements.txt (line 16)) (1.12.1)\n",
            "Requirement already satisfied: termcolor~=1.1.0 in /usr/local/lib/python3.7/dist-packages (from tensorflow-cpu~=2.5.0->-r mesh-transformer-jax/requirements.txt (line 16)) (1.1.0)\n",
            "Requirement already satisfied: keras-preprocessing~=1.1.2 in /usr/local/lib/python3.7/dist-packages (from tensorflow-cpu~=2.5.0->-r mesh-transformer-jax/requirements.txt (line 16)) (1.1.2)\n",
            "Requirement already satisfied: wheel~=0.35 in /usr/local/lib/python3.7/dist-packages (from tensorflow-cpu~=2.5.0->-r mesh-transformer-jax/requirements.txt (line 16)) (0.36.2)\n",
            "Requirement already satisfied: gast==0.4.0 in /usr/local/lib/python3.7/dist-packages (from tensorflow-cpu~=2.5.0->-r mesh-transformer-jax/requirements.txt (line 16)) (0.4.0)\n",
            "Requirement already satisfied: h5py~=3.1.0 in /usr/local/lib/python3.7/dist-packages (from tensorflow-cpu~=2.5.0->-r mesh-transformer-jax/requirements.txt (line 16)) (3.1.0)\n",
            "Requirement already satisfied: google-pasta~=0.2 in /usr/local/lib/python3.7/dist-packages (from tensorflow-cpu~=2.5.0->-r mesh-transformer-jax/requirements.txt (line 16)) (0.2.0)\n",
            "Requirement already satisfied: keras-nightly~=2.5.0.dev in /usr/local/lib/python3.7/dist-packages (from tensorflow-cpu~=2.5.0->-r mesh-transformer-jax/requirements.txt (line 16)) (2.5.0.dev2021032900)\n",
            "Requirement already satisfied: tensorboard~=2.5 in /usr/local/lib/python3.7/dist-packages (from tensorflow-cpu~=2.5.0->-r mesh-transformer-jax/requirements.txt (line 16)) (2.5.0)\n",
            "Collecting google-cloud-core<2.0dev,>=1.4.1\n",
            "  Downloading https://files.pythonhosted.org/packages/88/a7/b74266a6fd888d91a6f517c574c17425731181fe44e2df1e414d4b77fbe8/google_cloud_core-1.7.1-py2.py3-none-any.whl\n",
            "Requirement already satisfied: google-auth<2.0dev,>=1.11.0 in /usr/local/lib/python3.7/dist-packages (from google-cloud-storage~=1.36.2->-r mesh-transformer-jax/requirements.txt (line 17)) (1.32.1)\n",
            "Collecting google-resumable-media<2.0dev,>=1.2.0\n",
            "\u001b[?25l  Downloading https://files.pythonhosted.org/packages/11/96/4360dc70bef5559b3faf3deeda97aae7d10ff7660d41fd233eb792e7d09f/google_resumable_media-1.3.1-py2.py3-none-any.whl (75kB)\n",
            "\u001b[K     |████████████████████████████████| 81kB 10.7MB/s \n",
            "\u001b[?25hRequirement already satisfied: wcwidth in /usr/local/lib/python3.7/dist-packages (from ftfy->-r mesh-transformer-jax/requirements.txt (line 20)) (0.2.5)\n",
            "Collecting starlette==0.14.2\n",
            "\u001b[?25l  Downloading https://files.pythonhosted.org/packages/15/34/db1890f442a1cd3a2c761f4109a0eb4e63503218d70a8c8e97faa09a5500/starlette-0.14.2-py3-none-any.whl (60kB)\n",
            "\u001b[K     |████████████████████████████████| 61kB 7.9MB/s \n",
            "\u001b[?25hCollecting asgiref>=3.3.4\n",
            "  Downloading https://files.pythonhosted.org/packages/fe/66/577f32b54c50dcd8dec38447258e82ed327ecb86820d67ae7b3dea784f13/asgiref-3.4.1-py3-none-any.whl\n",
            "Collecting h11>=0.8\n",
            "\u001b[?25l  Downloading https://files.pythonhosted.org/packages/60/0f/7a0eeea938eaf61074f29fed9717f2010e8d0e0905d36b38d3275a1e4622/h11-0.12.0-py3-none-any.whl (54kB)\n",
            "\u001b[K     |████████████████████████████████| 61kB 8.1MB/s \n",
            "\u001b[?25hRequirement already satisfied: appdirs in /usr/local/lib/python3.7/dist-packages (from black==20.8b1->lm-eval-harness==0.0.1->-r mesh-transformer-jax/requirements.txt (line 11)) (1.4.4)\n",
            "Collecting mypy-extensions>=0.4.3\n",
            "  Downloading https://files.pythonhosted.org/packages/5c/eb/975c7c080f3223a5cdaff09612f3a5221e4ba534f7039db34c35d95fa6a5/mypy_extensions-0.4.3-py2.py3-none-any.whl\n",
            "Requirement already satisfied: toml>=0.10.1 in /usr/local/lib/python3.7/dist-packages (from black==20.8b1->lm-eval-harness==0.0.1->-r mesh-transformer-jax/requirements.txt (line 11)) (0.10.2)\n",
            "Collecting pathspec<1,>=0.6\n",
            "  Downloading https://files.pythonhosted.org/packages/42/ba/a9d64c7bcbc7e3e8e5f93a52721b377e994c22d16196e2b0f1236774353a/pathspec-0.9.0-py2.py3-none-any.whl\n",
            "Collecting typed-ast>=1.4.0\n",
            "\u001b[?25l  Downloading https://files.pythonhosted.org/packages/65/b3/573d2f1fecbbe8f82a8d08172e938c247f99abe1be3bef3da2efaa3810bf/typed_ast-1.4.3-cp37-cp37m-manylinux1_x86_64.whl (743kB)\n",
            "\u001b[K     |████████████████████████████████| 747kB 59.8MB/s \n",
            "\u001b[?25hCollecting rehash\n",
            "  Downloading https://files.pythonhosted.org/packages/c9/e4/30db193232d9e9c8e123764d84f0807535677548833ca251556ad6134c24/rehash-1.0.0-py2.py3-none-any.whl\n",
            "Collecting fsspec>=2021.05.0\n",
            "\u001b[?25l  Downloading https://files.pythonhosted.org/packages/40/e1/7111d8afc76ee3171f4f99592cd29bac9d233ae1aa34623011506f955434/fsspec-2021.7.0-py3-none-any.whl (118kB)\n",
            "\u001b[K     |████████████████████████████████| 122kB 59.2MB/s \n",
            "\u001b[?25hRequirement already satisfied: pyarrow!=4.0.0,>=1.0.0 in /usr/local/lib/python3.7/dist-packages (from datasets>=1.2.1->lm-eval-harness==0.0.1->-r mesh-transformer-jax/requirements.txt (line 11)) (3.0.0)\n",
            "Collecting xxhash\n",
            "\u001b[?25l  Downloading https://files.pythonhosted.org/packages/7d/4f/0a862cad26aa2ed7a7cd87178cbbfa824fc1383e472d63596a0d018374e7/xxhash-2.0.2-cp37-cp37m-manylinux2010_x86_64.whl (243kB)\n",
            "\u001b[K     |████████████████████████████████| 245kB 60.9MB/s \n",
            "\u001b[?25hRequirement already satisfied: dill in /usr/local/lib/python3.7/dist-packages (from datasets>=1.2.1->lm-eval-harness==0.0.1->-r mesh-transformer-jax/requirements.txt (line 11)) (0.3.4)\n",
            "Requirement already satisfied: multiprocess in /usr/local/lib/python3.7/dist-packages (from datasets>=1.2.1->lm-eval-harness==0.0.1->-r mesh-transformer-jax/requirements.txt (line 11)) (0.70.12.2)\n",
            "Requirement already satisfied: pandas in /usr/local/lib/python3.7/dist-packages (from datasets>=1.2.1->lm-eval-harness==0.0.1->-r mesh-transformer-jax/requirements.txt (line 11)) (1.1.5)\n",
            "Requirement already satisfied: scipy>=0.19.1 in /usr/local/lib/python3.7/dist-packages (from scikit-learn>=0.24.1->lm-eval-harness==0.0.1->-r mesh-transformer-jax/requirements.txt (line 11)) (1.4.1)\n",
            "Requirement already satisfied: joblib>=0.11 in /usr/local/lib/python3.7/dist-packages (from scikit-learn>=0.24.1->lm-eval-harness==0.0.1->-r mesh-transformer-jax/requirements.txt (line 11)) (1.0.1)\n",
            "Collecting threadpoolctl>=2.0.0\n",
            "  Downloading https://files.pythonhosted.org/packages/c6/e8/c216b9b60cbba4642d3ca1bae7a53daa0c24426f662e0e3ce3dc7f6caeaa/threadpoolctl-2.2.0-py3-none-any.whl\n",
            "Collecting tabledata<2,>=1.1.3\n",
            "  Downloading https://files.pythonhosted.org/packages/36/43/926f26d7673395c7552aefc34b8960957bfdfe5dc43424a5ae7c8be81836/tabledata-1.2.0-py3-none-any.whl\n",
            "Collecting DataProperty<2,>=0.50.0\n",
            "  Downloading https://files.pythonhosted.org/packages/55/65/5c6319668f5e22c624996cb98678a4661d0b9fef4393d6a9eecee1a236cf/DataProperty-0.52.0-py3-none-any.whl\n",
            "Collecting typepy[datetime]<2,>=1.1.1\n",
            "  Downloading https://files.pythonhosted.org/packages/2d/91/8abe4fa85c629278e4a07121ba8718dd353452c6cb3bc20bbd65a3a8c224/typepy-1.2.0-py3-none-any.whl\n",
            "Collecting pathvalidate<3,>=2.3.0\n",
            "  Downloading https://files.pythonhosted.org/packages/87/55/7d63b78986f1f8764180b84ee3e8a47c583ec059d32c98d8fba7fc0dc1ae/pathvalidate-2.4.1-py3-none-any.whl\n",
            "Collecting tcolorpy<1,>=0.0.5\n",
            "  Downloading https://files.pythonhosted.org/packages/96/73/2a73a7d53df3708636dae4e817814d07e455efd53897476f3863925cf0af/tcolorpy-0.1.1-py3-none-any.whl\n",
            "Collecting mbstrdecoder<2,>=1.0.0\n",
            "  Downloading https://files.pythonhosted.org/packages/e8/f6/0e6bb50c3c6380a4982c87d80e70b2f6e366523a57a0c58594aea472206d/mbstrdecoder-1.0.1-py3-none-any.whl\n",
            "Collecting msgfy<1,>=0.1.0\n",
            "  Downloading https://files.pythonhosted.org/packages/48/52/c4441871514276e7c4cb51c122e663b5ef19dc20030f6ab7723071118464/msgfy-0.1.0-py3-none-any.whl\n",
            "Collecting portalocker\n",
            "  Downloading https://files.pythonhosted.org/packages/68/33/cb524f4de298509927b90aa5ee34767b9a2b93e663cf354b2a3efa2b4acd/portalocker-2.3.0-py2.py3-none-any.whl\n",
            "Collecting ujson\n",
            "\u001b[?25l  Downloading https://files.pythonhosted.org/packages/17/4e/50e8e4cf5f00b537095711c2c86ac4d7191aed2b4fffd5a19f06898f6929/ujson-4.0.2-cp37-cp37m-manylinux1_x86_64.whl (179kB)\n",
            "\u001b[K     |████████████████████████████████| 184kB 67.9MB/s \n",
            "\u001b[?25hCollecting pluggy<1.0.0a1,>=0.12\n",
            "  Downloading https://files.pythonhosted.org/packages/a0/28/85c7aa31b80d150b772fbe4a229487bc6644da9ccb7e427dd8cc60cb8a62/pluggy-0.13.1-py2.py3-none-any.whl\n",
            "Requirement already satisfied: attrs>=19.2.0 in /usr/local/lib/python3.7/dist-packages (from pytest==6.2.3->lm-eval-harness==0.0.1->-r mesh-transformer-jax/requirements.txt (line 11)) (21.2.0)\n",
            "Requirement already satisfied: iniconfig in /usr/local/lib/python3.7/dist-packages (from pytest==6.2.3->lm-eval-harness==0.0.1->-r mesh-transformer-jax/requirements.txt (line 11)) (1.1.1)\n",
            "Requirement already satisfied: py>=1.8.2 in /usr/local/lib/python3.7/dist-packages (from pytest==6.2.3->lm-eval-harness==0.0.1->-r mesh-transformer-jax/requirements.txt (line 11)) (1.10.0)\n",
            "Requirement already satisfied: pyparsing>=2.0.2 in /usr/local/lib/python3.7/dist-packages (from packaging->transformers~=4.8.2->-r mesh-transformer-jax/requirements.txt (line 2)) (2.4.7)\n",
            "Requirement already satisfied: zipp>=0.5 in /usr/local/lib/python3.7/dist-packages (from importlib-metadata; python_version < \"3.8\"->transformers~=4.8.2->-r mesh-transformer-jax/requirements.txt (line 2)) (3.5.0)\n",
            "Collecting gitdb<5,>=4.0.1\n",
            "\u001b[?25l  Downloading https://files.pythonhosted.org/packages/ea/e8/f414d1a4f0bbc668ed441f74f44c116d9816833a48bf81d22b697090dba8/gitdb-4.0.7-py3-none-any.whl (63kB)\n",
            "\u001b[K     |████████████████████████████████| 71kB 10.5MB/s \n",
            "\u001b[?25hCollecting bcrypt>=3.1.3\n",
            "\u001b[?25l  Downloading https://files.pythonhosted.org/packages/26/70/6d218afbe4c73538053c1016dd631e8f25fffc10cd01f5c272d7acf3c03d/bcrypt-3.2.0-cp36-abi3-manylinux2010_x86_64.whl (63kB)\n",
            "\u001b[K     |████████████████████████████████| 71kB 9.5MB/s \n",
            "\u001b[?25hCollecting cryptography>=2.5\n",
            "\u001b[?25l  Downloading https://files.pythonhosted.org/packages/b2/26/7af637e6a7e87258b963f1731c5982fb31cd507f0d90d91836e446955d02/cryptography-3.4.7-cp36-abi3-manylinux2014_x86_64.whl (3.2MB)\n",
            "\u001b[K     |████████████████████████████████| 3.2MB 51.4MB/s \n",
            "\u001b[?25hCollecting pynacl>=1.0.1\n",
            "\u001b[?25l  Downloading https://files.pythonhosted.org/packages/9d/57/2f5e6226a674b2bcb6db531e8b383079b678df5b10cdaa610d6cf20d77ba/PyNaCl-1.4.0-cp35-abi3-manylinux1_x86_64.whl (961kB)\n",
            "\u001b[K     |████████████████████████████████| 962kB 51.8MB/s \n",
            "\u001b[?25hRequirement already satisfied: toolz>=0.9.0 in /usr/local/lib/python3.7/dist-packages (from chex>=0.0.4->optax==0.0.6->-r mesh-transformer-jax/requirements.txt (line 9)) (0.11.1)\n",
            "Requirement already satisfied: dm-tree>=0.1.5 in /usr/local/lib/python3.7/dist-packages (from chex>=0.0.4->optax==0.0.6->-r mesh-transformer-jax/requirements.txt (line 9)) (0.1.6)\n",
            "Collecting async-timeout\n",
            "  Downloading https://files.pythonhosted.org/packages/e1/1e/5a4441be21b0726c4464f3f23c8b19628372f606755a9d2e46c187e65ec4/async_timeout-3.0.1-py3-none-any.whl\n",
            "Collecting hiredis\n",
            "\u001b[?25l  Downloading https://files.pythonhosted.org/packages/ed/33/290cea35b09c80b4634773ad5572a8030a87b5d39736719f698f521d2a13/hiredis-2.0.0-cp37-cp37m-manylinux2010_x86_64.whl (85kB)\n",
            "\u001b[K     |████████████████████████████████| 92kB 11.6MB/s \n",
            "\u001b[?25hRequirement already satisfied: nvidia-ml-py3>=7.352.0 in /usr/local/lib/python3.7/dist-packages (from gpustat->ray==1.4.1->-r mesh-transformer-jax/requirements.txt (line 12)) (7.352.0)\n",
            "Collecting blessings>=1.6\n",
            "  Downloading https://files.pythonhosted.org/packages/03/74/489f85a78247609c6b4f13733cbf3ba0d864b11aa565617b645d6fdf2a4a/blessings-1.7-py3-none-any.whl\n",
            "Collecting yarl<2.0,>=1.0\n",
            "\u001b[?25l  Downloading https://files.pythonhosted.org/packages/f1/62/046834c5fc998c88ab2ef722f5d42122230a632212c8afa76418324f53ff/yarl-1.6.3-cp37-cp37m-manylinux2014_x86_64.whl (294kB)\n",
            "\u001b[K     |████████████████████████████████| 296kB 62.2MB/s \n",
            "\u001b[?25hCollecting multidict<7.0,>=4.5\n",
            "\u001b[?25l  Downloading https://files.pythonhosted.org/packages/7c/a6/4123b8165acbe773d1a8dc8e3f0d1edea16d29f7de018eda769abb56bd30/multidict-5.1.0-cp37-cp37m-manylinux2014_x86_64.whl (142kB)\n",
            "\u001b[K     |████████████████████████████████| 143kB 62.1MB/s \n",
            "\u001b[?25hRequirement already satisfied: google-api-core<2.0.0,>=1.0.0 in /usr/local/lib/python3.7/dist-packages (from opencensus->ray==1.4.1->-r mesh-transformer-jax/requirements.txt (line 12)) (1.26.3)\n",
            "Collecting opencensus-context==0.1.2\n",
            "  Downloading https://files.pythonhosted.org/packages/f1/33/990f1bd9e7ee770fc8d3c154fc24743a96f16a0e49e14e1b7540cc2fdd93/opencensus_context-0.1.2-py2.py3-none-any.whl\n",
            "Requirement already satisfied: MarkupSafe>=0.23 in /usr/local/lib/python3.7/dist-packages (from Jinja2<3.0,>=2.10.1->Flask~=1.1.2->-r mesh-transformer-jax/requirements.txt (line 14)) (2.0.1)\n",
            "Requirement already satisfied: cached-property; python_version < \"3.8\" in /usr/local/lib/python3.7/dist-packages (from h5py~=3.1.0->tensorflow-cpu~=2.5.0->-r mesh-transformer-jax/requirements.txt (line 16)) (1.5.2)\n",
            "Requirement already satisfied: tensorboard-data-server<0.7.0,>=0.6.0 in /usr/local/lib/python3.7/dist-packages (from tensorboard~=2.5->tensorflow-cpu~=2.5.0->-r mesh-transformer-jax/requirements.txt (line 16)) (0.6.1)\n",
            "Requirement already satisfied: markdown>=2.6.8 in /usr/local/lib/python3.7/dist-packages (from tensorboard~=2.5->tensorflow-cpu~=2.5.0->-r mesh-transformer-jax/requirements.txt (line 16)) (3.3.4)\n",
            "Requirement already satisfied: google-auth-oauthlib<0.5,>=0.4.1 in /usr/local/lib/python3.7/dist-packages (from tensorboard~=2.5->tensorflow-cpu~=2.5.0->-r mesh-transformer-jax/requirements.txt (line 16)) (0.4.4)\n",
            "Requirement already satisfied: tensorboard-plugin-wit>=1.6.0 in /usr/local/lib/python3.7/dist-packages (from tensorboard~=2.5->tensorflow-cpu~=2.5.0->-r mesh-transformer-jax/requirements.txt (line 16)) (1.8.0)\n",
            "Requirement already satisfied: cachetools<5.0,>=2.0.0 in /usr/local/lib/python3.7/dist-packages (from google-auth<2.0dev,>=1.11.0->google-cloud-storage~=1.36.2->-r mesh-transformer-jax/requirements.txt (line 17)) (4.2.2)\n",
            "Requirement already satisfied: pyasn1-modules>=0.2.1 in /usr/local/lib/python3.7/dist-packages (from google-auth<2.0dev,>=1.11.0->google-cloud-storage~=1.36.2->-r mesh-transformer-jax/requirements.txt (line 17)) (0.2.8)\n",
            "Requirement already satisfied: rsa<5,>=3.1.4; python_version >= \"3.6\" in /usr/local/lib/python3.7/dist-packages (from google-auth<2.0dev,>=1.11.0->google-cloud-storage~=1.36.2->-r mesh-transformer-jax/requirements.txt (line 17)) (4.7.2)\n",
            "Collecting google-crc32c<2.0dev,>=1.0; python_version >= \"3.5\"\n",
            "  Downloading https://files.pythonhosted.org/packages/fc/ae/b6efa1019e18c6c791f0f5cd93b2ff40f8f06696dbf04db39ec0f5591b1e/google_crc32c-1.1.2-cp37-cp37m-manylinux2014_x86_64.whl\n",
            "Requirement already satisfied: pytz>=2017.2 in /usr/local/lib/python3.7/dist-packages (from pandas->datasets>=1.2.1->lm-eval-harness==0.0.1->-r mesh-transformer-jax/requirements.txt (line 11)) (2018.9)\n",
            "Collecting smmap<5,>=3.0.1\n",
            "  Downloading https://files.pythonhosted.org/packages/68/ee/d540eb5e5996eb81c26ceffac6ee49041d473bc5125f2aa995cf51ec1cf1/smmap-4.0.0-py2.py3-none-any.whl\n",
            "Requirement already satisfied: cffi>=1.1 in /usr/local/lib/python3.7/dist-packages (from bcrypt>=3.1.3->paramiko>=2.4->fabric~=2.6.0->-r mesh-transformer-jax/requirements.txt (line 8)) (1.14.6)\n",
            "Requirement already satisfied: googleapis-common-protos<2.0dev,>=1.6.0 in /usr/local/lib/python3.7/dist-packages (from google-api-core<2.0.0,>=1.0.0->opencensus->ray==1.4.1->-r mesh-transformer-jax/requirements.txt (line 12)) (1.53.0)\n",
            "Requirement already satisfied: requests-oauthlib>=0.7.0 in /usr/local/lib/python3.7/dist-packages (from google-auth-oauthlib<0.5,>=0.4.1->tensorboard~=2.5->tensorflow-cpu~=2.5.0->-r mesh-transformer-jax/requirements.txt (line 16)) (1.3.0)\n",
            "Requirement already satisfied: pyasn1<0.5.0,>=0.4.6 in /usr/local/lib/python3.7/dist-packages (from pyasn1-modules>=0.2.1->google-auth<2.0dev,>=1.11.0->google-cloud-storage~=1.36.2->-r mesh-transformer-jax/requirements.txt (line 17)) (0.4.8)\n",
            "Requirement already satisfied: pycparser in /usr/local/lib/python3.7/dist-packages (from cffi>=1.1->bcrypt>=3.1.3->paramiko>=2.4->fabric~=2.6.0->-r mesh-transformer-jax/requirements.txt (line 8)) (2.20)\n",
            "Requirement already satisfied: oauthlib>=3.0.0 in /usr/local/lib/python3.7/dist-packages (from requests-oauthlib>=0.7.0->google-auth-oauthlib<0.5,>=0.4.1->tensorboard~=2.5->tensorflow-cpu~=2.5.0->-r mesh-transformer-jax/requirements.txt (line 16)) (3.1.1)\n",
            "Building wheels for collected packages: black\n",
            "  Building wheel for black (PEP 517) ... \u001b[?25l\u001b[?25hdone\n",
            "  Created wheel for black: filename=black-20.8b1-cp37-none-any.whl size=124195 sha256=b82c84793c2dd98d5f4b2cb2fae981e5753796de328478a07df315962a871006\n",
            "  Stored in directory: /root/.cache/pip/wheels/6e/10/b5/edf7359c2edd0305cce7e3f96e07daf7ce55dceac9d3ce3373\n",
            "Successfully built black\n",
            "Building wheels for collected packages: func-timeout, ftfy, dm-haiku, lm-eval-harness, sqlitedict, pycountry, openai, subprocess32, pathtools, gpustat\n",
            "  Building wheel for func-timeout (setup.py) ... \u001b[?25l\u001b[?25hdone\n",
            "  Created wheel for func-timeout: filename=func_timeout-4.3.5-cp37-none-any.whl size=15097 sha256=e8511bb0476fac8b53ae700c1ac2192c6e4455933e207770ab61860db41d7c0c\n",
            "  Stored in directory: /root/.cache/pip/wheels/46/7c/4f/24f1d2d5bbff92219debe7ea19af84f76ddeb90dd4ec544f26\n",
            "  Building wheel for ftfy (setup.py) ... \u001b[?25l\u001b[?25hdone\n",
            "  Created wheel for ftfy: filename=ftfy-6.0.3-cp37-none-any.whl size=41935 sha256=ac04febe8de7b9cef510f00ffed5797e554164566e2ccb3e99b3ad1697ae67f7\n",
            "  Stored in directory: /root/.cache/pip/wheels/99/2c/e6/109c8a28fef7a443f67ba58df21fe1d0067ac3322e75e6b0b7\n",
            "  Building wheel for dm-haiku (setup.py) ... \u001b[?25l\u001b[?25hdone\n",
            "  Created wheel for dm-haiku: filename=dm_haiku-0.0.5.dev0-cp37-none-any.whl size=531860 sha256=6f23f5a4ac1f40ba4f083e13cc244bcc28042271d9d03cdaf2c9e7c7f6229b2f\n",
            "  Stored in directory: /tmp/pip-ephem-wheel-cache-k13oijae/wheels/97/0f/e9/17f34e377f8d4060fa88a7e82bee5d8afbf7972384768a5499\n",
            "  Building wheel for lm-eval-harness (setup.py) ... \u001b[?25l\u001b[?25hdone\n",
            "  Created wheel for lm-eval-harness: filename=lm_eval_harness-0.0.1-cp37-none-any.whl size=100855 sha256=bb3e886655d3f5c992edf3466904bd944d945506db0543639a37a9593f8cbd7c\n",
            "  Stored in directory: /tmp/pip-ephem-wheel-cache-k13oijae/wheels/a8/db/b4/32ca8efd6b64f9187fefbabd636d7c94cd2150a657262ee22a\n",
            "  Building wheel for sqlitedict (setup.py) ... \u001b[?25l\u001b[?25hdone\n",
            "  Created wheel for sqlitedict: filename=sqlitedict-1.6.0-cp37-none-any.whl size=14713 sha256=d02cdea9379c28085a820c739f1ed4e36a7f32394d77acfec8af8b7c901d5587\n",
            "  Stored in directory: /root/.cache/pip/wheels/bd/57/d3/907c3ee02d35e66f674ad0106e61f06eeeb98f6ee66a6cc3fe\n",
            "  Building wheel for pycountry (setup.py) ... \u001b[?25l\u001b[?25hdone\n",
            "  Created wheel for pycountry: filename=pycountry-20.7.3-py2.py3-none-any.whl size=10746883 sha256=967fd55072d568cb6549e26c6503f1eecd539481dc28f8acf444e51f7fb124b0\n",
            "  Stored in directory: /root/.cache/pip/wheels/33/4e/a6/be297e6b83567e537bed9df4a93f8590ec01c1acfbcd405348\n",
            "  Building wheel for openai (setup.py) ... \u001b[?25l\u001b[?25hdone\n",
            "  Created wheel for openai: filename=openai-0.6.4-cp37-none-any.whl size=172215 sha256=865213ab9cf1161b3f43f47bf5fb0dcda570a68bd58a216a1fb322d504eb0444\n",
            "  Stored in directory: /root/.cache/pip/wheels/f9/a3/f5/00a714fabfbe3389a25242c2f91b626dd1d8fbd63b35a96730\n",
            "  Building wheel for subprocess32 (setup.py) ... \u001b[?25l\u001b[?25hdone\n",
            "  Created wheel for subprocess32: filename=subprocess32-3.5.4-cp37-none-any.whl size=6502 sha256=234dcd46ad2b31369bec2b4f1b10591f4d46bc583bc939c7ac060d48dddcb640\n",
            "  Stored in directory: /root/.cache/pip/wheels/68/39/1a/5e402bdfdf004af1786c8b853fd92f8c4a04f22aad179654d1\n",
            "  Building wheel for pathtools (setup.py) ... \u001b[?25l\u001b[?25hdone\n",
            "  Created wheel for pathtools: filename=pathtools-0.1.2-cp37-none-any.whl size=8807 sha256=b89600e033e7f3aba4582b9ee0c62cac2f0c36751997b889745723e158a9a741\n",
            "  Stored in directory: /root/.cache/pip/wheels/0b/04/79/c3b0c3a0266a3cb4376da31e5bfe8bba0c489246968a68e843\n",
            "  Building wheel for gpustat (setup.py) ... \u001b[?25l\u001b[?25hdone\n",
            "  Created wheel for gpustat: filename=gpustat-0.6.0-cp37-none-any.whl size=12621 sha256=1439d28fee89845b57656a8b693cf5df040b5054f3586f69e160aaacfcdc7967\n",
            "  Stored in directory: /root/.cache/pip/wheels/48/b4/d5/fb5b7f1d040f2ff20687e3bad6867d63155dbde5a7c10f4293\n",
            "Successfully built func-timeout ftfy dm-haiku lm-eval-harness sqlitedict pycountry openai subprocess32 pathtools gpustat\n",
            "\u001b[31mERROR: google-colab 1.0.0 has requirement requests~=2.23.0, but you'll have requests 2.25.1 which is incompatible.\u001b[0m\n",
            "\u001b[31mERROR: google-cloud-bigquery 1.21.0 has requirement google-resumable-media!=0.4.0,<0.5.0dev,>=0.3.1, but you'll have google-resumable-media 1.3.1 which is incompatible.\u001b[0m\n",
            "\u001b[31mERROR: datascience 0.10.6 has requirement folium==0.2.1, but you'll have folium 0.8.3 which is incompatible.\u001b[0m\n",
            "\u001b[31mERROR: black 20.8b1 has requirement regex>=2020.1.8, but you'll have regex 2019.12.20 which is incompatible.\u001b[0m\n",
            "Installing collected packages: tokenizers, tqdm, requests, huggingface-hub, sacremoses, transformers, setuptools, subprocess32, configparser, pathtools, shortuuid, smmap, gitdb, GitPython, docker-pycreds, sentry-sdk, wandb, einops, invoke, pathlib2, bcrypt, cryptography, pynacl, paramiko, fabric, chex, optax, multidict, yarl, async-timeout, aiohttp, aiohttp-cors, hiredis, aioredis, colorama, blessings, gpustat, pydantic, opencensus-context, opencensus, redis, py-spy, ray, tensorflow-cpu, google-cloud-core, google-crc32c, google-resumable-media, google-cloud-storage, func-timeout, ftfy, starlette, fastapi, asgiref, h11, uvicorn, jmp, dm-haiku, mypy-extensions, pathspec, typed-ast, black, rehash, best-download, fsspec, xxhash, datasets, threadpoolctl, scikit-learn, sqlitedict, mbstrdecoder, typepy, DataProperty, tabledata, pathvalidate, tcolorpy, msgfy, pytablewriter, portalocker, sacrebleu, pycountry, numexpr, zstandard, ujson, jsonlines, lm-dataformat, pluggy, pytest, pybind11, tqdm-multiprocess, mock, openai, lm-eval-harness\n",
            "  Found existing installation: tqdm 4.41.1\n",
            "    Uninstalling tqdm-4.41.1:\n",
            "      Successfully uninstalled tqdm-4.41.1\n",
            "  Found existing installation: requests 2.23.0\n",
            "    Uninstalling requests-2.23.0:\n",
            "      Successfully uninstalled requests-2.23.0\n",
            "  Found existing installation: setuptools 57.2.0\n",
            "    Uninstalling setuptools-57.2.0:\n",
            "      Successfully uninstalled setuptools-57.2.0\n",
            "  Found existing installation: google-cloud-core 1.0.3\n",
            "    Uninstalling google-cloud-core-1.0.3:\n",
            "      Successfully uninstalled google-cloud-core-1.0.3\n",
            "  Found existing installation: google-resumable-media 0.4.1\n",
            "    Uninstalling google-resumable-media-0.4.1:\n",
            "      Successfully uninstalled google-resumable-media-0.4.1\n",
            "  Found existing installation: google-cloud-storage 1.18.1\n",
            "    Uninstalling google-cloud-storage-1.18.1:\n",
            "      Successfully uninstalled google-cloud-storage-1.18.1\n",
            "  Found existing installation: scikit-learn 0.22.2.post1\n",
            "    Uninstalling scikit-learn-0.22.2.post1:\n",
            "      Successfully uninstalled scikit-learn-0.22.2.post1\n",
            "  Found existing installation: numexpr 2.7.3\n",
            "    Uninstalling numexpr-2.7.3:\n",
            "      Successfully uninstalled numexpr-2.7.3\n",
            "  Found existing installation: pluggy 0.7.1\n",
            "    Uninstalling pluggy-0.7.1:\n",
            "      Successfully uninstalled pluggy-0.7.1\n",
            "  Found existing installation: pytest 3.6.4\n",
            "    Uninstalling pytest-3.6.4:\n",
            "      Successfully uninstalled pytest-3.6.4\n",
            "Successfully installed DataProperty-0.52.0 GitPython-3.1.18 aiohttp-3.7.4.post0 aiohttp-cors-0.7.0 aioredis-1.3.1 asgiref-3.4.1 async-timeout-3.0.1 bcrypt-3.2.0 best-download-0.0.7 black-20.8b1 blessings-1.7 chex-0.0.8 colorama-0.4.4 configparser-5.0.2 cryptography-3.4.7 datasets-1.9.0 dm-haiku-0.0.5.dev0 docker-pycreds-0.4.0 einops-0.3.0 fabric-2.6.0 fastapi-0.66.0 fsspec-2021.7.0 ftfy-6.0.3 func-timeout-4.3.5 gitdb-4.0.7 google-cloud-core-1.7.1 google-cloud-storage-1.36.2 google-crc32c-1.1.2 google-resumable-media-1.3.1 gpustat-0.6.0 h11-0.12.0 hiredis-2.0.0 huggingface-hub-0.0.12 invoke-1.6.0 jmp-0.0.2 jsonlines-2.0.0 lm-dataformat-0.0.19 lm-eval-harness-0.0.1 mbstrdecoder-1.0.1 mock-4.0.3 msgfy-0.1.0 multidict-5.1.0 mypy-extensions-0.4.3 numexpr-2.7.2 openai-0.6.4 opencensus-0.7.13 opencensus-context-0.1.2 optax-0.0.6 paramiko-2.7.2 pathlib2-2.3.6 pathspec-0.9.0 pathtools-0.1.2 pathvalidate-2.4.1 pluggy-0.13.1 portalocker-2.3.0 py-spy-0.3.7 pybind11-2.6.2 pycountry-20.7.3 pydantic-1.8.2 pynacl-1.4.0 pytablewriter-0.58.0 pytest-6.2.3 ray-1.4.1 redis-3.5.3 rehash-1.0.0 requests-2.25.1 sacrebleu-1.5.0 sacremoses-0.0.45 scikit-learn-0.24.2 sentry-sdk-1.3.0 setuptools-51.3.3 shortuuid-1.0.1 smmap-4.0.0 sqlitedict-1.6.0 starlette-0.14.2 subprocess32-3.5.4 tabledata-1.2.0 tcolorpy-0.1.1 tensorflow-cpu-2.5.0 threadpoolctl-2.2.0 tokenizers-0.10.3 tqdm-4.45.0 tqdm-multiprocess-0.0.11 transformers-4.8.2 typed-ast-1.4.3 typepy-1.2.0 ujson-4.0.2 uvicorn-0.14.0 wandb-0.10.33 xxhash-2.0.2 yarl-1.6.3 zstandard-0.15.2\n"
          ],
          "name": "stdout"
        },
        {
          "output_type": "display_data",
          "data": {
            "application/vnd.colab-display-data+json": {
              "pip_warning": {
                "packages": [
                  "google",
                  "pkg_resources"
                ]
              }
            }
          },
          "metadata": {
            "tags": []
          }
        },
        {
          "output_type": "stream",
          "text": [
            "Processing ./mesh-transformer-jax\n",
            "Collecting jax==0.2.12\n",
            "\u001b[?25l  Downloading https://files.pythonhosted.org/packages/9a/67/d1a9c94104c559b49bbcb72e9efc33859e982d741ea4902d2a00e66e09d9/jax-0.2.12.tar.gz (590kB)\n",
            "\u001b[K     |████████████████████████████████| 593kB 5.3MB/s \n",
            "\u001b[?25hRequirement already satisfied: numpy>=1.12 in /usr/local/lib/python3.7/dist-packages (from jax==0.2.12) (1.19.5)\n",
            "Requirement already satisfied: absl-py in /usr/local/lib/python3.7/dist-packages (from jax==0.2.12) (0.12.0)\n",
            "Requirement already satisfied: opt_einsum in /usr/local/lib/python3.7/dist-packages (from jax==0.2.12) (3.3.0)\n",
            "Requirement already satisfied: six in /usr/local/lib/python3.7/dist-packages (from absl-py->jax==0.2.12) (1.15.0)\n",
            "Building wheels for collected packages: jax, mesh-transformer\n",
            "  Building wheel for jax (setup.py) ... \u001b[?25l\u001b[?25hdone\n",
            "  Created wheel for jax: filename=jax-0.2.12-cp37-none-any.whl size=682484 sha256=8f5bcb06c060705769839f75ed1aa7ff45c3863cf4134257d1121b0c6c8d2a41\n",
            "  Stored in directory: /root/.cache/pip/wheels/cf/00/88/75c2043dff473f58e892c7e6adfd2c44ccefb6111fcc021e5b\n",
            "  Building wheel for mesh-transformer (setup.py) ... \u001b[?25l\u001b[?25hdone\n",
            "  Created wheel for mesh-transformer: filename=mesh_transformer-0.0.0-cp37-none-any.whl size=24003 sha256=9946b01c33e40711d82539ffd8c7ea1870795deacef4c8d450cb8695d01edc40\n",
            "  Stored in directory: /root/.cache/pip/wheels/de/a9/d2/2be3e25299342b60fca7965d4e416264ff8b6d8a7e8def76da\n",
            "Successfully built jax mesh-transformer\n",
            "Installing collected packages: jax, mesh-transformer\n",
            "  Found existing installation: jax 0.2.17\n",
            "    Uninstalling jax-0.2.17:\n",
            "      Successfully uninstalled jax-0.2.17\n",
            "Successfully installed jax-0.2.12 mesh-transformer-0.0.0\n"
          ],
          "name": "stdout"
        }
      ]
    },
    {
      "cell_type": "markdown",
      "metadata": {
        "id": "aO1UXepF-0Uq"
      },
      "source": [
        "## Setup Model\n"
      ]
    },
    {
      "cell_type": "code",
      "metadata": {
        "id": "ex0qJgaueZtJ"
      },
      "source": [
        "import os\n",
        "import requests \n",
        "from jax.config import config\n",
        "\n",
        "colab_tpu_addr = os.environ['COLAB_TPU_ADDR'].split(':')[0]\n",
        "url = f'http://{colab_tpu_addr}:8475/requestversion/tpu_driver0.1_dev20210607'\n",
        "requests.post(url)\n",
        "\n",
        "# The following is required to use TPU Driver as JAX's backend.\n",
        "config.FLAGS.jax_xla_backend = \"tpu_driver\"\n",
        "config.FLAGS.jax_backend_target = \"grpc://\" + os.environ['COLAB_TPU_ADDR']"
      ],
      "execution_count": null,
      "outputs": []
    },
    {
      "cell_type": "markdown",
      "metadata": {
        "id": "NIgUVdFLe4A8"
      },
      "source": [
        "Sometimes the next step errors for some reason, just run it again ¯\\\\\\_(ツ)\\_/¯"
      ]
    },
    {
      "cell_type": "code",
      "metadata": {
        "id": "-A5IGYSaeze3"
      },
      "source": [
        "import time\n",
        "\n",
        "import jax\n",
        "from jax.experimental import maps\n",
        "import numpy as np\n",
        "import optax\n",
        "import transformers\n",
        "\n",
        "from mesh_transformer.checkpoint import read_ckpt\n",
        "from mesh_transformer.sampling import nucleaus_sample\n",
        "from mesh_transformer.transformer_shard import CausalTransformer"
      ],
      "execution_count": null,
      "outputs": []
    },
    {
      "cell_type": "code",
      "metadata": {
        "id": "QAgKq-X2kmba",
        "colab": {
          "base_uri": "https://localhost:8080/",
          "height": 169,
          "referenced_widgets": [
            "0cf5810c444d4e5fb2d99255b253c953",
            "c059c25bdc2e451ebae8c48c5705afb5",
            "b3b15c13705a40d6b9299051933c975e",
            "fa59604ff6a845a88317dc9361fd1d04",
            "e0f2595deb334e2f9a736d649cd90094",
            "ef40b23438b34cae94dcd462b6f6ebbf",
            "93e5f5ffc8134e0790103f9a9e41bbb5",
            "7da2630ceb304c09b8f31025e5aa2a47",
            "315941421f3c42f8b0d69091203c3202",
            "133ee6fc48804643a1c5eeaf7845043c",
            "381e27afd1c149f7b75777e910cb9939",
            "af70a18eca6047288bcb448a8cbb63be",
            "aa9fedf95d044541a3731c0a778bfbfe",
            "7219f0a1b540453fb5fb39659cced543",
            "43f268d1c37c4ede81f049ef1391af7f",
            "edbd813111de4a409844e1d547a4fa66",
            "375297887e494a608f7e4653f5d3a6f6",
            "05416917d94b46bead824dcccd3b53b3",
            "1c96c2e5601e44d5a74ede757aaad1c8",
            "d600b31b16eb4823adb3009da2420adc",
            "db8c54e078ad414992e968e361a126e7",
            "b201545750f14d86a7dd64982ed9cfde",
            "faea4efdad4742c0b0222fc7bdcf9caa",
            "d322d63f34e14991b4bbcd68f0b72643"
          ]
        },
        "outputId": "a6d894e2-f2db-4087-ccb8-10c641e5e972"
      },
      "source": [
        "params = {\n",
        "  \"layers\": 28,\n",
        "  \"d_model\": 4096,\n",
        "  \"n_heads\": 16,\n",
        "  \"n_vocab\": 50400,\n",
        "  \"norm\": \"layernorm\",\n",
        "  \"pe\": \"rotary\",\n",
        "  \"pe_rotary_dims\": 64,\n",
        "\n",
        "  \"seq\": 2048,\n",
        "  \"cores_per_replica\": 8,\n",
        "  \"per_replica_batch\": 1,\n",
        "}\n",
        "\n",
        "per_replica_batch = params[\"per_replica_batch\"]\n",
        "cores_per_replica = params[\"cores_per_replica\"]\n",
        "seq = params[\"seq\"]\n",
        "\n",
        "\n",
        "params[\"sampler\"] = nucleaus_sample\n",
        "\n",
        "# here we \"remove\" the optimizer parameters from the model (as we don't need them for inference)\n",
        "params[\"optimizer\"] = optax.scale(0)\n",
        "\n",
        "mesh_shape = (jax.device_count() // cores_per_replica, cores_per_replica)\n",
        "devices = np.array(jax.devices()).reshape(mesh_shape)\n",
        "\n",
        "maps.thread_resources.env = maps.ResourceEnv(maps.Mesh(devices, ('dp', 'mp')))\n",
        "\n",
        "tokenizer = transformers.GPT2TokenizerFast.from_pretrained('gpt2')"
      ],
      "execution_count": null,
      "outputs": [
        {
          "output_type": "display_data",
          "data": {
            "application/vnd.jupyter.widget-view+json": {
              "model_id": "0cf5810c444d4e5fb2d99255b253c953",
              "version_minor": 0,
              "version_major": 2
            },
            "text/plain": [
              "HBox(children=(FloatProgress(value=0.0, description='Downloading', max=1042301.0, style=ProgressStyle(descript…"
            ]
          },
          "metadata": {
            "tags": []
          }
        },
        {
          "output_type": "stream",
          "text": [
            "\n"
          ],
          "name": "stdout"
        },
        {
          "output_type": "display_data",
          "data": {
            "application/vnd.jupyter.widget-view+json": {
              "model_id": "315941421f3c42f8b0d69091203c3202",
              "version_minor": 0,
              "version_major": 2
            },
            "text/plain": [
              "HBox(children=(FloatProgress(value=0.0, description='Downloading', max=456318.0, style=ProgressStyle(descripti…"
            ]
          },
          "metadata": {
            "tags": []
          }
        },
        {
          "output_type": "stream",
          "text": [
            "\n"
          ],
          "name": "stdout"
        },
        {
          "output_type": "display_data",
          "data": {
            "application/vnd.jupyter.widget-view+json": {
              "model_id": "375297887e494a608f7e4653f5d3a6f6",
              "version_minor": 0,
              "version_major": 2
            },
            "text/plain": [
              "HBox(children=(FloatProgress(value=0.0, description='Downloading', max=1355256.0, style=ProgressStyle(descript…"
            ]
          },
          "metadata": {
            "tags": []
          }
        },
        {
          "output_type": "stream",
          "text": [
            "\n"
          ],
          "name": "stdout"
        }
      ]
    },
    {
      "cell_type": "markdown",
      "metadata": {
        "id": "yFgRkUgfiNdA"
      },
      "source": [
        "Here we create the network and load the parameters from the downloaded files. Expect this to take around 5 minutes."
      ]
    },
    {
      "cell_type": "code",
      "metadata": {
        "colab": {
          "base_uri": "https://localhost:8080/"
        },
        "id": "lwNETD2Uk8nu",
        "outputId": "d6318e10-95f5-44fd-899e-eb8dfa1c4a57"
      },
      "source": [
        "total_batch = per_replica_batch * jax.device_count() // cores_per_replica\n",
        "\n",
        "network = CausalTransformer(params)\n",
        "\n",
        "network.state = read_ckpt(network.state, \"step_383500/\", devices.shape[1])\n",
        "\n",
        "network.state = network.move_xmap(network.state, np.zeros(cores_per_replica))"
      ],
      "execution_count": null,
      "outputs": [
        {
          "output_type": "stream",
          "text": [
            "/usr/local/lib/python3.7/dist-packages/jax/experimental/maps.py:412: UserWarning: xmap is an experimental feature and probably has bugs!\n",
            "  warn(\"xmap is an experimental feature and probably has bugs!\")\n"
          ],
          "name": "stderr"
        },
        {
          "output_type": "stream",
          "text": [
            "key shape (8, 2)\n",
            "in shape (1, 2048)\n",
            "dp 1\n",
            "mp 8\n",
            "Total parameters: 6053381344\n",
            "read from disk/gcs in 44.5607s\n"
          ],
          "name": "stdout"
        }
      ]
    },
    {
      "cell_type": "markdown",
      "metadata": {
        "id": "A-eT7Sw6if4J"
      },
      "source": [
        "## Run Model\n",
        "\n",
        "Finally, we are ready to infer with the model! The first sample takes around a minute due to compilation, but after that it should only take about 10 seconds per sample.\n",
        "\n",
        "Feel free to mess with the different sampling parameters (top_p and temp), as well as the length of the generations (gen_len, causes a recompile when changed).\n",
        "\n",
        "You can also change other things like per_replica_batch in the previous cells to change how many generations are done in parallel. A larger batch has higher latency but higher throughput when measured in tokens generated/s. This is useful for doing things like best-of-n cherry picking.\n",
        "\n",
        "*Tip for best results: Make sure your prompt does not have any trailing spaces, which tend to confuse the model due to the BPE tokenization used during training.*"
      ]
    },
    {
      "cell_type": "code",
      "metadata": {
        "id": "WSQ4TTabl4z8"
      },
      "source": [
        "# allow text wrapping in generated output: https://stackoverflow.com/a/61401455\n",
        "from IPython.display import HTML, display\n",
        "\n",
        "def set_css():\n",
        "  display(HTML('''\n",
        "  <style>\n",
        "    pre {\n",
        "        white-space: pre-wrap;\n",
        "    }\n",
        "  </style>\n",
        "  '''))\n",
        "get_ipython().events.register('pre_run_cell', set_css)"
      ],
      "execution_count": null,
      "outputs": []
    },
    {
      "cell_type": "code",
      "metadata": {
        "colab": {
          "base_uri": "https://localhost:8080/",
          "height": 147
        },
        "id": "ZVzs2TYlvYeX",
        "outputId": "77d4a1d0-7dcd-4d7e-a119-f51476fe9820"
      },
      "source": [
        "def infer(context, top_p=0.9, temp=1.0, gen_len=512):\n",
        "    tokens = tokenizer.encode(context)\n",
        "\n",
        "    provided_ctx = len(tokens)\n",
        "    pad_amount = seq - provided_ctx\n",
        "\n",
        "    padded_tokens = np.pad(tokens, ((pad_amount, 0),)).astype(np.uint32)\n",
        "    batched_tokens = np.array([padded_tokens] * total_batch)\n",
        "    length = np.ones(total_batch, dtype=np.uint32) * len(tokens)\n",
        "\n",
        "    start = time.time()\n",
        "    output = network.generate(batched_tokens, length, gen_len, {\"top_p\": np.ones(total_batch) * top_p, \"temp\": np.ones(total_batch) * temp})\n",
        "\n",
        "    samples = []\n",
        "    decoded_tokens = output[1][0]\n",
        "\n",
        "    for o in decoded_tokens[:, :, 0]:\n",
        "      samples.append(f\"\\033[1m{context}\\033[0m{tokenizer.decode(o)}\")\n",
        "\n",
        "    print(f\"completion done in {time.time() - start:06}s\")\n",
        "    return samples\n",
        "\n",
        "print(infer(\"\"\"Question: What is the capital of Germany?\n",
        "Answer: \"\"\", gen_len=32)[0])"
      ],
      "execution_count": null,
      "outputs": [
        {
          "output_type": "display_data",
          "data": {
            "text/html": [
              "\n",
              "  <style>\n",
              "    pre {\n",
              "        white-space: pre-wrap;\n",
              "    }\n",
              "  </style>\n",
              "  "
            ],
            "text/plain": [
              "<IPython.core.display.HTML object>"
            ]
          },
          "metadata": {
            "tags": []
          }
        },
        {
          "output_type": "stream",
          "text": [
            "completion done in 47.41621470451355s\n",
            "\u001b[1mQuestion: What is the capital of Germany?\n",
            "Answer: \u001b[0m The capital of Germany is Berlin.\n",
            "Question: What is the capital of Sweden?\n",
            "Answer:  The capital of Sweden is Stockholm.\n",
            "\n",
            "The correct\n"
          ],
          "name": "stdout"
        }
      ]
    },
    {
      "cell_type": "code",
      "metadata": {
        "colab": {
          "base_uri": "https://localhost:8080/",
          "height": 147
        },
        "id": "nvlAK6RbCJYg",
        "outputId": "5f2b4485-92d8-4f39-b851-76dfabe33362"
      },
      "source": [
        "top_p = 0.1 \n",
        "temp = 0.1\n",
        "\n",
        "context = \"\"\"Question: What is the capital of Germany?\n",
        "Answer:\"\"\"\n",
        "\n",
        "print(infer(top_p=top_p, temp=temp, gen_len=32, context=context)[0])"
      ],
      "execution_count": null,
      "outputs": [
        {
          "output_type": "display_data",
          "data": {
            "text/html": [
              "\n",
              "  <style>\n",
              "    pre {\n",
              "        white-space: pre-wrap;\n",
              "    }\n",
              "  </style>\n",
              "  "
            ],
            "text/plain": [
              "<IPython.core.display.HTML object>"
            ]
          },
          "metadata": {
            "tags": []
          }
        },
        {
          "output_type": "stream",
          "text": [
            "completion done in 1.1060409545898438s\n",
            "\u001b[1mQuestion: What is the capital of Germany?\n",
            "Answer:\u001b[0m Berlin.\n",
            "Question: What is the capital of Germany?\n",
            "Answer: Berlin.\n",
            "Question: What is the capital of Germany?\n",
            "Answer: Berlin.\n"
          ],
          "name": "stdout"
        }
      ]
    },
    {
      "cell_type": "code",
      "metadata": {
        "id": "FaFp02qFr2Xq"
      },
      "source": [
        "context = \"\"\"Question: What is the capital of France?\n",
        "Answer:\"\"\"\n",
        "\n",
        "print(infer(top_p=top_p, temp=temp, gen_len=32, context=context)[0])"
      ],
      "execution_count": null,
      "outputs": []
    },
    {
      "cell_type": "code",
      "metadata": {
        "id": "Tm8VOx6Br4xo"
      },
      "source": [
        "context = \"\"\"Question: Who is the current US president?\n",
        "Answer:\"\"\"\n",
        "\n",
        "print(infer(top_p=top_p, temp=temp, gen_len=32, context=context)[0])"
      ],
      "execution_count": null,
      "outputs": []
    },
    {
      "cell_type": "code",
      "metadata": {
        "id": "j9qOJQl8r9oh"
      },
      "source": [
        "context = \"\"\"Question: Who was the US president in 1998?\n",
        "Answer:\"\"\"\n",
        "\n",
        "print(infer(top_p=top_p, temp=temp, gen_len=32, context=context)[0])"
      ],
      "execution_count": null,
      "outputs": []
    },
    {
      "cell_type": "code",
      "metadata": {
        "id": "O4CFCd51sDXw"
      },
      "source": [
        "context = \"\"\"Context: Joe Biden is the current US president.\n",
        "Question: Who is the current US president?\n",
        "Answer:\"\"\"\n",
        "\n",
        "print(infer(top_p=temp, temp=temp, gen_len=32, context=context)[0])"
      ],
      "execution_count": null,
      "outputs": []
    },
    {
      "cell_type": "code",
      "metadata": {
        "id": "Yy_ErMxvsP4d"
      },
      "source": [
        "context = \"\"\"Question: Who is the current US president?\n",
        "Background: Joe Biden is the current president of the United States.\n",
        "Answer:\"\"\"\n",
        "\n",
        "print(infer(top_p=top_p, temp=temp, gen_len=32, context=context)[0])"
      ],
      "execution_count": null,
      "outputs": []
    },
    {
      "cell_type": "code",
      "metadata": {
        "id": "LfMYTsNrtb3Z"
      },
      "source": [
        "context = \"\"\"Question: Who is the current US president?\n",
        "Background: Joseph Robinette Biden Jr. is an American politician who is the 46th and current president of the United States. \n",
        "Answer:\"\"\"\n",
        "\n",
        "print(infer(top_p=top_p, temp=temp, gen_len=32, context=context)[0])"
      ],
      "execution_count": null,
      "outputs": []
    },
    {
      "cell_type": "code",
      "metadata": {
        "id": "fEPpskiztkLo"
      },
      "source": [
        "context = \"\"\"Background: Joseph Robinette Biden Jr. is an American politician who is the 46th and current president of the United States. \n",
        "Question: Who is the current US president?\n",
        "Answer:\"\"\"\n",
        "\n",
        "print(infer(top_p=top_p, temp=temp, gen_len=32, context=context)[0])"
      ],
      "execution_count": null,
      "outputs": []
    },
    {
      "cell_type": "code",
      "metadata": {
        "id": "JcRs83Jttlle"
      },
      "source": [
        "context = \"\"\"Background: Joseph Robinette Biden Jr. is an American politician who is the 46th and current president of the United States. Question: Who is the current US president?\n",
        "Answer:\"\"\"\n",
        "\n",
        "print(infer(top_p=top_p, temp=temp, gen_len=32, context=context)[0])"
      ],
      "execution_count": null,
      "outputs": []
    },
    {
      "cell_type": "code",
      "metadata": {
        "id": "wbjJ0Tn9tutr"
      },
      "source": [
        "context = \"\"\"Background: Joseph Robinette Biden Jr. is an American politician who is the 46th and current president of the United States. Question: Who is the current US president? Answer:\"\"\"\n",
        "\n",
        "print(infer(top_p=top_p, temp=temp, gen_len=32, context=context)[0])"
      ],
      "execution_count": null,
      "outputs": []
    },
    {
      "cell_type": "code",
      "metadata": {
        "id": "5I2M2xHotyTw"
      },
      "source": [
        "context = \"\"\"Background: Donald John Trump (born June 14, 1946) is the 45th and current president of the United States. Before entering politics, he was a businessman and television personality. Question: Who is the current US president? Answer:\"\"\"\n",
        "\n",
        "print(infer(top_p=top_p, temp=temp, gen_len=32, context=context)[0])"
      ],
      "execution_count": null,
      "outputs": []
    },
    {
      "cell_type": "code",
      "metadata": {
        "id": "Sbuzxoc_ujrQ"
      },
      "source": [
        "context = \"\"\"Question: What is the newest Star Wars movie? Answer:\"\"\"\n",
        "\n",
        "print(infer(top_p=top_p, temp=temp, gen_len=32, context=context)[0])"
      ],
      "execution_count": null,
      "outputs": []
    },
    {
      "cell_type": "code",
      "metadata": {
        "id": "B8NqUwqdvJB4"
      },
      "source": [
        "context = \"\"\"Question: Who has written The Mandalorian? Answer:\"\"\"\n",
        "\n",
        "print(infer(top_p=top_p, temp=temp, gen_len=32, context=context)[0])"
      ],
      "execution_count": null,
      "outputs": []
    },
    {
      "cell_type": "code",
      "metadata": {
        "id": "zR5dxFzzuzL3"
      },
      "source": [
        "context = \"\"\"Background: The Mandalorian is an American space Western television series created by Jon Favreau for the streaming service Disney+. It is the first live-action series in the Star Wars franchise, beginning five years after the events of Return of the Jedi (1983). Question: Who has written The Mandalorian? Answer:\"\"\"\n",
        "\n",
        "print(infer(top_p=top_p, temp=temp, gen_len=32, context=context)[0])"
      ],
      "execution_count": null,
      "outputs": []
    },
    {
      "cell_type": "code",
      "metadata": {
        "id": "XZOccJWAvdhR"
      },
      "source": [
        "context = \"\"\"Question: Who directed the 2020 movie BLACK BOX? Answer:\"\"\"\n",
        "print(infer(top_p=top_p, temp=temp, gen_len=32, context=context)[0])\n"
      ],
      "execution_count": null,
      "outputs": []
    },
    {
      "cell_type": "code",
      "metadata": {
        "id": "4QYDm8p9vueo"
      },
      "source": [
        "context = \"\"\"Background: Black Box is a 2020 American horror film directed by Emmanuel Osei-Kuffour Jr. and written by Emmanuel Osei-Kuffour Jr. and Stephen Herman. The film stars Mamoudou Athie, Phylicia Rashad, Amanda Christine, Tosin Morohunfola and Troy James. Jason Blum serves as an executive producer under his Blumhouse Television banner. \n",
        "Question: Who directed the 2020 movie BLACK BOX? \n",
        "Answer:\"\"\"\n",
        "print(infer(top_p=top_p, temp=temp, gen_len=32, context=context)[0])\n"
      ],
      "execution_count": null,
      "outputs": []
    },
    {
      "cell_type": "code",
      "metadata": {
        "id": "srCNcEZLwDFI"
      },
      "source": [
        "context = \"\"\"Question: How many people wrote the 2020 movie BLACK BOX? \n",
        "Answer:\"\"\"\n",
        "print(infer(top_p=top_p, temp=temp, gen_len=32, context=context)[0])"
      ],
      "execution_count": null,
      "outputs": []
    },
    {
      "cell_type": "code",
      "metadata": {
        "id": "9cxChW6-v7O3"
      },
      "source": [
        "context = \"\"\"Background: Black Box is a 2020 American horror film directed by Emmanuel Osei-Kuffour Jr. and written by Emmanuel Osei-Kuffour Jr. and Stephen Herman. The film stars Mamoudou Athie, Phylicia Rashad, Amanda Christine, Tosin Morohunfola and Troy James. Jason Blum serves as an executive producer under his Blumhouse Television banner. \n",
        "Based on the previous paragraph, what is the answer to \"How many people wrote the 2020 movie BLACK BOX?\" \"\"\"\n",
        "print(infer(top_p=top_p, temp=temp, gen_len=32, context=context)[0])\n",
        "\n"
      ],
      "execution_count": null,
      "outputs": []
    },
    {
      "cell_type": "markdown",
      "metadata": {
        "id": "T-4rKhyU4PZO"
      },
      "source": [
        "# TriviaQA dataset"
      ]
    },
    {
      "cell_type": "code",
      "metadata": {
        "id": "5MGZ9hWy9ZK1",
        "colab": {
          "base_uri": "https://localhost:8080/",
          "height": 54
        },
        "outputId": "61a1076f-bc7c-4a17-b0f4-9d4e2cf8a64d"
      },
      "source": [
        "import json\n",
        "import pandas as pd\n",
        "\n",
        "# Download sample data from a temporary repo\n",
        "% cd /\n",
        "! git clone https://github.com/elsanns/retrieval-demo.git"
      ],
      "execution_count": null,
      "outputs": [
        {
          "output_type": "display_data",
          "data": {
            "text/html": [
              "\n",
              "  <style>\n",
              "    pre {\n",
              "        white-space: pre-wrap;\n",
              "    }\n",
              "  </style>\n",
              "  "
            ],
            "text/plain": [
              "<IPython.core.display.HTML object>"
            ]
          },
          "metadata": {
            "tags": []
          }
        },
        {
          "output_type": "stream",
          "text": [
            "/\n",
            "fatal: destination path 'retrieval-demo' already exists and is not an empty directory.\n"
          ],
          "name": "stdout"
        }
      ]
    },
    {
      "cell_type": "code",
      "metadata": {
        "id": "6m9cWjld9dLd",
        "colab": {
          "base_uri": "https://localhost:8080/",
          "height": 73
        },
        "outputId": "66674f66-aefb-41ac-8e62-8d4fde021739"
      },
      "source": [
        "data_file = 'retrieval-demo/triviaqa/samples/verified-web-dev.json'\n",
        "with open(data_file) as f:\n",
        "    dataset_json = json.load(f)\n",
        "\n",
        "# print(data_json)\n",
        "print(dataset_json.keys())\n",
        "print(dataset_json['Data'][0].keys())\n",
        "\n",
        "# Subset of samples used in the demo\n",
        "sample_json = [x for x in data['Data'] if len(x['SearchResults']) == 1]\n",
        "sample_json = [x for x in sample_json if 'MatchedWikiEntityName' in x['Answer'].keys()]"
      ],
      "execution_count": null,
      "outputs": [
        {
          "output_type": "display_data",
          "data": {
            "text/html": [
              "\n",
              "  <style>\n",
              "    pre {\n",
              "        white-space: pre-wrap;\n",
              "    }\n",
              "  </style>\n",
              "  "
            ],
            "text/plain": [
              "<IPython.core.display.HTML object>"
            ]
          },
          "metadata": {
            "tags": []
          }
        },
        {
          "output_type": "stream",
          "text": [
            "dict_keys(['Data', 'Domain', 'Split', 'VerifiedEval', 'Version'])\n",
            "dict_keys(['Answer', 'EntityPages', 'Question', 'QuestionId', 'QuestionPartOfVerifiedEval', 'QuestionSource', 'QuestionVerifiedEvalAttempt', 'SearchResults'])\n"
          ],
          "name": "stdout"
        }
      ]
    },
    {
      "cell_type": "markdown",
      "metadata": {
        "id": "erY8WcGB4Zbg"
      },
      "source": [
        "# Templates"
      ]
    },
    {
      "cell_type": "markdown",
      "metadata": {
        "id": "muc_UxD24WOM"
      },
      "source": [
        "Examples of context data sources"
      ]
    },
    {
      "cell_type": "code",
      "metadata": {
        "id": "QmvvNt-94a97",
        "colab": {
          "base_uri": "https://localhost:8080/",
          "height": 314
        },
        "outputId": "75fa9fe4-3d92-4375-fc60-795b28090c71"
      },
      "source": [
        "sample_no = 0\n",
        "print(sample_json[sample_no]['Question'])\n",
        "print('---------------------------------------')\n",
        "print(sample_json[sample_no]['SearchResults'][0]['Description'])\n",
        "print(sample_json[sample_no]['SearchResults'][0]['Title'])\n",
        "print(sample_json[sample_no]['SearchResults'][0]['Filename'])\n",
        "# print(sample_json[sample_no]['EntityPages']['FileName'])\n",
        "print('---------------------------------------')\n",
        "sample_json[sample_no]['SearchResults']"
      ],
      "execution_count": null,
      "outputs": [
        {
          "output_type": "display_data",
          "data": {
            "text/html": [
              "\n",
              "  <style>\n",
              "    pre {\n",
              "        white-space: pre-wrap;\n",
              "    }\n",
              "  </style>\n",
              "  "
            ],
            "text/plain": [
              "<IPython.core.display.HTML object>"
            ]
          },
          "metadata": {
            "tags": []
          }
        },
        {
          "output_type": "stream",
          "text": [
            "Rita Coolidge sang the title song for which Bond film?\n",
            "---------------------------------------\n",
            "... Rita Coolidge Performing The title track to the JAMES BOND film OCTOPUSSY. Clip from THE VAL DOONICAN MUSIC SHOW 1983 Featuring Rita Coolidge ... HIGH ...\n",
            "RITA COOLIDGE ALL TIME HIGH James Bond 007 OCTOPUSSY The ...\n",
            "158/158_2486.txt\n",
            "---------------------------------------\n"
          ],
          "name": "stdout"
        },
        {
          "output_type": "execute_result",
          "data": {
            "text/plain": [
              "[{'Description': '... Rita Coolidge Performing The title track to the JAMES BOND film OCTOPUSSY. Clip from THE VAL DOONICAN MUSIC SHOW 1983 Featuring Rita Coolidge ... HIGH ...',\n",
              "  'DocPartOfVerifiedEval': True,\n",
              "  'DocVerifiedEvalAttempt': True,\n",
              "  'Filename': '158/158_2486.txt',\n",
              "  'HumanAnswer': 'OCTOPUSSY',\n",
              "  'Rank': 0,\n",
              "  'Title': 'RITA COOLIDGE ALL TIME HIGH James Bond 007 OCTOPUSSY The ...',\n",
              "  'Url': 'http://www.youtube.com/watch?v=CQ2rD2ZTCB0'}]"
            ]
          },
          "metadata": {
            "tags": []
          },
          "execution_count": 138
        }
      ]
    },
    {
      "cell_type": "markdown",
      "metadata": {
        "id": "fs37uFVN4b5h"
      },
      "source": [
        "Sample templates"
      ]
    },
    {
      "cell_type": "code",
      "metadata": {
        "colab": {
          "base_uri": "https://localhost:8080/",
          "height": 677
        },
        "id": "mDh2heRH4hIv",
        "outputId": "684667fd-3b2e-4122-b95d-207ad84b5922"
      },
      "source": [
        "from jinja2 import Template\n",
        "\n",
        "templates = {\n",
        "    'template_1': Template(\"Background: {{ SearchResults[0]['Description'] }} Question: {{ Question }}\"),\n",
        "    'template_2': Template(\"Question: {{ Question }}, Evidence: {{ SearchResults[0]['Description'] }}\")\n",
        "}\n",
        "\n",
        "inputs_json = sample_json[0:10]\n",
        "\n",
        "inputs = [(template_name, sample['QuestionId'], \n",
        "           templates[template_name].render(sample)) for\n",
        "          template_name in templates for sample in inputs_json]\n",
        "aux = list(zip(*inputs))\n",
        "\n",
        "inputs_df = pd.DataFrame({'template': aux[0],\n",
        "                          'question_id': aux[1],\n",
        "                          'input': aux[2]})\n",
        "\n",
        "# pd.set_option(\"max_colwidth\", 100)\n",
        "inputs_df"
      ],
      "execution_count": null,
      "outputs": [
        {
          "output_type": "display_data",
          "data": {
            "text/html": [
              "\n",
              "  <style>\n",
              "    pre {\n",
              "        white-space: pre-wrap;\n",
              "    }\n",
              "  </style>\n",
              "  "
            ],
            "text/plain": [
              "<IPython.core.display.HTML object>"
            ]
          },
          "metadata": {
            "tags": []
          }
        },
        {
          "output_type": "execute_result",
          "data": {
            "text/html": [
              "<div>\n",
              "<style scoped>\n",
              "    .dataframe tbody tr th:only-of-type {\n",
              "        vertical-align: middle;\n",
              "    }\n",
              "\n",
              "    .dataframe tbody tr th {\n",
              "        vertical-align: top;\n",
              "    }\n",
              "\n",
              "    .dataframe thead th {\n",
              "        text-align: right;\n",
              "    }\n",
              "</style>\n",
              "<table border=\"1\" class=\"dataframe\">\n",
              "  <thead>\n",
              "    <tr style=\"text-align: right;\">\n",
              "      <th></th>\n",
              "      <th>template</th>\n",
              "      <th>question_id</th>\n",
              "      <th>input</th>\n",
              "    </tr>\n",
              "  </thead>\n",
              "  <tbody>\n",
              "    <tr>\n",
              "      <th>0</th>\n",
              "      <td>template_1</td>\n",
              "      <td>tc_69</td>\n",
              "      <td>Background: ... Rita Coolidge Performing The title track to the JAMES BOND film OCTOPUSSY. Clip ...</td>\n",
              "    </tr>\n",
              "    <tr>\n",
              "      <th>1</th>\n",
              "      <td>template_1</td>\n",
              "      <td>tc_261</td>\n",
              "      <td>Background: \"On the Street Where You Live\" is a song with music by Frederick Loewe and lyrics .....</td>\n",
              "    </tr>\n",
              "    <tr>\n",
              "      <th>2</th>\n",
              "      <td>template_1</td>\n",
              "      <td>tc_280</td>\n",
              "      <td>Background: ... John Wayne is \"The Ringo Kid\" in this John Ford-directed parable ... Prior to 'S...</td>\n",
              "    </tr>\n",
              "    <tr>\n",
              "      <th>3</th>\n",
              "      <td>template_1</td>\n",
              "      <td>tc_1007</td>\n",
              "      <td>Background: ... Kiefer Sutherland, Lou Diamond Phillips, Christian Slater. ... Born Today; Celeb...</td>\n",
              "    </tr>\n",
              "    <tr>\n",
              "      <th>4</th>\n",
              "      <td>template_1</td>\n",
              "      <td>tc_1020</td>\n",
              "      <td>Background: When they debuted at the Monterey Pop Festival in 1967, Hendrix set his guitar on fi...</td>\n",
              "    </tr>\n",
              "    <tr>\n",
              "      <th>5</th>\n",
              "      <td>template_1</td>\n",
              "      <td>tc_1156</td>\n",
              "      <td>Background: Murder on the Orient Express movie YIFY ... Swedish: subtitle Murder on the Orient E...</td>\n",
              "    </tr>\n",
              "    <tr>\n",
              "      <th>6</th>\n",
              "      <td>template_1</td>\n",
              "      <td>tc_1516</td>\n",
              "      <td>Background: The Baltimore Oriole hybridizes extensively with the Bullock's Oriole where their ra...</td>\n",
              "    </tr>\n",
              "    <tr>\n",
              "      <th>7</th>\n",
              "      <td>template_1</td>\n",
              "      <td>tc_1535</td>\n",
              "      <td>Background: What is the purpose of the Naismith Legacy Award? The Naismith Legacy Award is prese...</td>\n",
              "    </tr>\n",
              "    <tr>\n",
              "      <th>8</th>\n",
              "      <td>template_1</td>\n",
              "      <td>tc_1542</td>\n",
              "      <td>Background: The Babe’s Last Game. ... end of its life as the home of a Major League baseball tea...</td>\n",
              "    </tr>\n",
              "    <tr>\n",
              "      <th>9</th>\n",
              "      <td>template_1</td>\n",
              "      <td>tc_1826</td>\n",
              "      <td>Background: Debbie Harry has admitted that “Atomic” was written with the global hit “Heart of Gl...</td>\n",
              "    </tr>\n",
              "    <tr>\n",
              "      <th>10</th>\n",
              "      <td>template_2</td>\n",
              "      <td>tc_69</td>\n",
              "      <td>Question: Rita Coolidge sang the title song for which Bond film?, Evidence: ... Rita Coolidge Pe...</td>\n",
              "    </tr>\n",
              "    <tr>\n",
              "      <th>11</th>\n",
              "      <td>template_2</td>\n",
              "      <td>tc_261</td>\n",
              "      <td>Question: Which musical featured the song The Street Where You Live?, Evidence: \"On the Street W...</td>\n",
              "    </tr>\n",
              "    <tr>\n",
              "      <th>12</th>\n",
              "      <td>template_2</td>\n",
              "      <td>tc_280</td>\n",
              "      <td>Question: Who directed the classic 30s western Stagecoach?, Evidence: ... John Wayne is \"The Rin...</td>\n",
              "    </tr>\n",
              "    <tr>\n",
              "      <th>13</th>\n",
              "      <td>template_2</td>\n",
              "      <td>tc_1007</td>\n",
              "      <td>Question: Who was born first, Kiefer Sutherland or Christian Slater?, Evidence: ... Kiefer Suthe...</td>\n",
              "    </tr>\n",
              "    <tr>\n",
              "      <th>14</th>\n",
              "      <td>template_2</td>\n",
              "      <td>tc_1020</td>\n",
              "      <td>Question: Who set fire to his guitar at the Monterey Pop festival in 19676?, Evidence: When they...</td>\n",
              "    </tr>\n",
              "    <tr>\n",
              "      <th>15</th>\n",
              "      <td>template_2</td>\n",
              "      <td>tc_1156</td>\n",
              "      <td>Question: Which Swedish actress won the Best Supporting Actress Oscar for Murder on the Orient E...</td>\n",
              "    </tr>\n",
              "    <tr>\n",
              "      <th>16</th>\n",
              "      <td>template_2</td>\n",
              "      <td>tc_1516</td>\n",
              "      <td>Question: In baseball, where do the Orioles come from?, Evidence: The Baltimore Oriole hybridize...</td>\n",
              "    </tr>\n",
              "    <tr>\n",
              "      <th>17</th>\n",
              "      <td>template_2</td>\n",
              "      <td>tc_1535</td>\n",
              "      <td>Question: The Naismith Award is presented in which sport?, Evidence: What is the purpose of the ...</td>\n",
              "    </tr>\n",
              "    <tr>\n",
              "      <th>18</th>\n",
              "      <td>template_2</td>\n",
              "      <td>tc_1542</td>\n",
              "      <td>Question: For which team did Babe Ruth blast his last Major League home run?, Evidence: The Babe...</td>\n",
              "    </tr>\n",
              "    <tr>\n",
              "      <th>19</th>\n",
              "      <td>template_2</td>\n",
              "      <td>tc_1826</td>\n",
              "      <td>Question: What was Blondie's last UK No 1 of the 80s?, Evidence: Debbie Harry has admitted that ...</td>\n",
              "    </tr>\n",
              "  </tbody>\n",
              "</table>\n",
              "</div>"
            ],
            "text/plain": [
              "      template  ...                                                                                                input\n",
              "0   template_1  ...  Background: ... Rita Coolidge Performing The title track to the JAMES BOND film OCTOPUSSY. Clip ...\n",
              "1   template_1  ...  Background: \"On the Street Where You Live\" is a song with music by Frederick Loewe and lyrics .....\n",
              "2   template_1  ...  Background: ... John Wayne is \"The Ringo Kid\" in this John Ford-directed parable ... Prior to 'S...\n",
              "3   template_1  ...  Background: ... Kiefer Sutherland, Lou Diamond Phillips, Christian Slater. ... Born Today; Celeb...\n",
              "4   template_1  ...  Background: When they debuted at the Monterey Pop Festival in 1967, Hendrix set his guitar on fi...\n",
              "5   template_1  ...  Background: Murder on the Orient Express movie YIFY ... Swedish: subtitle Murder on the Orient E...\n",
              "6   template_1  ...  Background: The Baltimore Oriole hybridizes extensively with the Bullock's Oriole where their ra...\n",
              "7   template_1  ...  Background: What is the purpose of the Naismith Legacy Award? The Naismith Legacy Award is prese...\n",
              "8   template_1  ...  Background: The Babe’s Last Game. ... end of its life as the home of a Major League baseball tea...\n",
              "9   template_1  ...  Background: Debbie Harry has admitted that “Atomic” was written with the global hit “Heart of Gl...\n",
              "10  template_2  ...  Question: Rita Coolidge sang the title song for which Bond film?, Evidence: ... Rita Coolidge Pe...\n",
              "11  template_2  ...  Question: Which musical featured the song The Street Where You Live?, Evidence: \"On the Street W...\n",
              "12  template_2  ...  Question: Who directed the classic 30s western Stagecoach?, Evidence: ... John Wayne is \"The Rin...\n",
              "13  template_2  ...  Question: Who was born first, Kiefer Sutherland or Christian Slater?, Evidence: ... Kiefer Suthe...\n",
              "14  template_2  ...  Question: Who set fire to his guitar at the Monterey Pop festival in 19676?, Evidence: When they...\n",
              "15  template_2  ...  Question: Which Swedish actress won the Best Supporting Actress Oscar for Murder on the Orient E...\n",
              "16  template_2  ...  Question: In baseball, where do the Orioles come from?, Evidence: The Baltimore Oriole hybridize...\n",
              "17  template_2  ...  Question: The Naismith Award is presented in which sport?, Evidence: What is the purpose of the ...\n",
              "18  template_2  ...  Question: For which team did Babe Ruth blast his last Major League home run?, Evidence: The Babe...\n",
              "19  template_2  ...  Question: What was Blondie's last UK No 1 of the 80s?, Evidence: Debbie Harry has admitted that ...\n",
              "\n",
              "[20 rows x 3 columns]"
            ]
          },
          "metadata": {
            "tags": []
          },
          "execution_count": 142
        }
      ]
    },
    {
      "cell_type": "markdown",
      "metadata": {
        "id": "h4_CeD1uuCyX"
      },
      "source": [
        "# Run on TriviaQA"
      ]
    },
    {
      "cell_type": "code",
      "metadata": {
        "id": "VOFMjx1ouUSF",
        "colab": {
          "base_uri": "https://localhost:8080/",
          "height": 17
        },
        "outputId": "57b27c1e-cb24-4192-d51b-7deb953f7dc0"
      },
      "source": [
        "def infer_triviaqa(context, top_p=0.9, temp=1.0, gen_len=512):\n",
        "    tokens = tokenizer.encode(context)\n",
        "\n",
        "    provided_ctx = len(tokens)\n",
        "    pad_amount = seq - provided_ctx\n",
        "\n",
        "    padded_tokens = np.pad(tokens, ((pad_amount, 0),)).astype(np.uint32)\n",
        "    batched_tokens = np.array([padded_tokens] * total_batch)\n",
        "    length = np.ones(total_batch, dtype=np.uint32) * len(tokens)\n",
        "\n",
        "    start = time.time()\n",
        "    output = network.generate(batched_tokens, length, gen_len, {\"top_p\": np.ones(total_batch) * top_p, \"temp\": np.ones(total_batch) * temp})\n",
        "\n",
        "    samples_raw = []\n",
        "    samples = []\n",
        "    decoded_tokens = output[1][0]\n",
        "\n",
        "    for o in decoded_tokens[:, :, 0]:\n",
        "      decoded_o = tokenizer.decode(o)\n",
        "      samples_raw.append(decoded_o)\n",
        "      samples.append(f\"\\033[1m{context}\\033[0m{decoded_o}\")\n",
        "\n",
        "    print(f\"completion done in {time.time() - start:06}s\")\n",
        "    return samples_raw[0], samples[0]"
      ],
      "execution_count": null,
      "outputs": [
        {
          "output_type": "display_data",
          "data": {
            "text/html": [
              "\n",
              "  <style>\n",
              "    pre {\n",
              "        white-space: pre-wrap;\n",
              "    }\n",
              "  </style>\n",
              "  "
            ],
            "text/plain": [
              "<IPython.core.display.HTML object>"
            ]
          },
          "metadata": {
            "tags": []
          }
        }
      ]
    },
    {
      "cell_type": "code",
      "metadata": {
        "colab": {
          "base_uri": "https://localhost:8080/",
          "height": 1000
        },
        "id": "QZYmAXbv60y9",
        "outputId": "15391b6c-7e7c-49a7-854a-48ccb3da49c1"
      },
      "source": [
        "top_p = 0.1 \n",
        "temp = 0.1\n",
        "gen_length = 32\n",
        "\n",
        "outputs = \\\n",
        "[(template, question_id, input, \n",
        "  infer_triviaqa(input, top_p=top_p, temp=temp, gen_len=gen_length)[0]) \\\n",
        " for template, question_id, input in inputs]\n",
        "\n",
        "aux = list(zip(*outputs))\n",
        "\n",
        "df = pd.DataFrame({'template': aux[0],\n",
        "                   'question_id': aux[1],\n",
        "                   'input': aux[2],\n",
        "                   'output': aux[3]})\n",
        "df"
      ],
      "execution_count": null,
      "outputs": [
        {
          "output_type": "display_data",
          "data": {
            "text/html": [
              "\n",
              "  <style>\n",
              "    pre {\n",
              "        white-space: pre-wrap;\n",
              "    }\n",
              "  </style>\n",
              "  "
            ],
            "text/plain": [
              "<IPython.core.display.HTML object>"
            ]
          },
          "metadata": {
            "tags": []
          }
        },
        {
          "output_type": "stream",
          "text": [
            "completion done in 1.1271522045135498s\n",
            "completion done in 1.0995728969573975s\n",
            "completion done in 1.106438398361206s\n",
            "completion done in 1.1043105125427246s\n",
            "completion done in 1.1079895496368408s\n",
            "completion done in 1.1036250591278076s\n",
            "completion done in 1.1127984523773193s\n",
            "completion done in 1.1134881973266602s\n",
            "completion done in 1.1152074337005615s\n",
            "completion done in 1.1033215522766113s\n",
            "completion done in 1.1044886112213135s\n",
            "completion done in 1.1069397926330566s\n",
            "completion done in 1.1058340072631836s\n",
            "completion done in 1.10640287399292s\n",
            "completion done in 1.1029791831970215s\n",
            "completion done in 1.1015021800994873s\n",
            "completion done in 1.1006882190704346s\n",
            "completion done in 1.1048839092254639s\n",
            "completion done in 1.1050622463226318s\n",
            "completion done in 1.1065337657928467s\n"
          ],
          "name": "stdout"
        },
        {
          "output_type": "execute_result",
          "data": {
            "text/html": [
              "<div>\n",
              "<style scoped>\n",
              "    .dataframe tbody tr th:only-of-type {\n",
              "        vertical-align: middle;\n",
              "    }\n",
              "\n",
              "    .dataframe tbody tr th {\n",
              "        vertical-align: top;\n",
              "    }\n",
              "\n",
              "    .dataframe thead th {\n",
              "        text-align: right;\n",
              "    }\n",
              "</style>\n",
              "<table border=\"1\" class=\"dataframe\">\n",
              "  <thead>\n",
              "    <tr style=\"text-align: right;\">\n",
              "      <th></th>\n",
              "      <th>template</th>\n",
              "      <th>question_id</th>\n",
              "      <th>input</th>\n",
              "      <th>output</th>\n",
              "    </tr>\n",
              "  </thead>\n",
              "  <tbody>\n",
              "    <tr>\n",
              "      <th>0</th>\n",
              "      <td>template_1</td>\n",
              "      <td>tc_69</td>\n",
              "      <td>Background: ... Rita Coolidge Performing The title track to the JAMES BOND film OCTOPUSSY. Clip ...</td>\n",
              "      <td>Answer: The title song to the JAMES BOND film OCTOPUSSY. Clip from THE VAL DOONICAN MUSIC SHOW ...</td>\n",
              "    </tr>\n",
              "    <tr>\n",
              "      <th>1</th>\n",
              "      <td>template_1</td>\n",
              "      <td>tc_261</td>\n",
              "      <td>Background: \"On the Street Where You Live\" is a song with music by Frederick Loewe and lyrics .....</td>\n",
              "      <td>Answer: The Street Where You Live is a song with music by Frederick Loewe and lyrics by Alan Ja...</td>\n",
              "    </tr>\n",
              "    <tr>\n",
              "      <th>2</th>\n",
              "      <td>template_1</td>\n",
              "      <td>tc_280</td>\n",
              "      <td>Background: ... John Wayne is \"The Ringo Kid\" in this John Ford-directed parable ... Prior to 'S...</td>\n",
              "      <td>...\\n\\nQuestion: Who directed the classic 30s western Stagecoach?...\\n\\nAnswer: John Ford\\n\\nQue...</td>\n",
              "    </tr>\n",
              "    <tr>\n",
              "      <th>3</th>\n",
              "      <td>template_1</td>\n",
              "      <td>tc_1007</td>\n",
              "      <td>Background: ... Kiefer Sutherland, Lou Diamond Phillips, Christian Slater. ... Born Today; Celeb...</td>\n",
              "      <td>... Answer: Kiefer Sutherland was born first....\\n\\nQuestion:... Kiefer Sutherland, Lou Diamond ...</td>\n",
              "    </tr>\n",
              "    <tr>\n",
              "      <th>4</th>\n",
              "      <td>template_1</td>\n",
              "      <td>tc_1020</td>\n",
              "      <td>Background: When they debuted at the Monterey Pop Festival in 1967, Hendrix set his guitar on fi...</td>\n",
              "      <td>Answer: Jimi Hendrix. Question: Who was the first person to set fire to a guitar at the Montere...</td>\n",
              "    </tr>\n",
              "    <tr>\n",
              "      <th>5</th>\n",
              "      <td>template_1</td>\n",
              "      <td>tc_1156</td>\n",
              "      <td>Background: Murder on the Orient Express movie YIFY ... Swedish: subtitle Murder on the Orient E...</td>\n",
              "      <td>Answer: Ingrid Bergman.\\n\\nQuestion: Which Swedish actress won the Best Supporting Actress Osca...</td>\n",
              "    </tr>\n",
              "    <tr>\n",
              "      <th>6</th>\n",
              "      <td>template_1</td>\n",
              "      <td>tc_1516</td>\n",
              "      <td>Background: The Baltimore Oriole hybridizes extensively with the Bullock's Oriole where their ra...</td>\n",
              "      <td>Answer: The Baltimore Orioles are a Major League Baseball team based in Baltimore, Maryland. Th...</td>\n",
              "    </tr>\n",
              "    <tr>\n",
              "      <th>7</th>\n",
              "      <td>template_1</td>\n",
              "      <td>tc_1535</td>\n",
              "      <td>Background: What is the purpose of the Naismith Legacy Award? The Naismith Legacy Award is prese...</td>\n",
              "      <td>The Naismith Award is presented in basketball,... Question: The Naismith Award is presented in ...</td>\n",
              "    </tr>\n",
              "    <tr>\n",
              "      <th>8</th>\n",
              "      <td>template_1</td>\n",
              "      <td>tc_1542</td>\n",
              "      <td>Background: The Babe’s Last Game. ... end of its life as the home of a Major League baseball tea...</td>\n",
              "      <td>... Answer: The Boston Red Sox....\\n\\nQuestion: For which team did Babe Ruth blast his last Majo...</td>\n",
              "    </tr>\n",
              "    <tr>\n",
              "      <th>9</th>\n",
              "      <td>template_1</td>\n",
              "      <td>tc_1826</td>\n",
              "      <td>Background: Debbie Harry has admitted that “Atomic” was written with the global hit “Heart of Gl...</td>\n",
              "      <td>\\n\\nAnswer: “Heart of Glass”, the title track from the band's third album, which was released in...</td>\n",
              "    </tr>\n",
              "    <tr>\n",
              "      <th>10</th>\n",
              "      <td>template_2</td>\n",
              "      <td>tc_69</td>\n",
              "      <td>Question: Rita Coolidge sang the title song for which Bond film?, Evidence: ... Rita Coolidge Pe...</td>\n",
              "      <td>\\n\\nQuestion: Rita Coolidge sang the title song for which Bond film?, Evidence:... Rita Coolidge...</td>\n",
              "    </tr>\n",
              "    <tr>\n",
              "      <th>11</th>\n",
              "      <td>template_2</td>\n",
              "      <td>tc_261</td>\n",
              "      <td>Question: Which musical featured the song The Street Where You Live?, Evidence: \"On the Street W...</td>\n",
              "      <td>\\n\\nQuestion: Which musical featured the song The Street Where You Live?, Evidence: \"On the Stre...</td>\n",
              "    </tr>\n",
              "    <tr>\n",
              "      <th>12</th>\n",
              "      <td>template_2</td>\n",
              "      <td>tc_280</td>\n",
              "      <td>Question: Who directed the classic 30s western Stagecoach?, Evidence: ... John Wayne is \"The Rin...</td>\n",
              "      <td>\\n\\nQuestion: Who directed the classic 30s western Stagecoach?, Evidence:... John Wayne is \"The ...</td>\n",
              "    </tr>\n",
              "    <tr>\n",
              "      <th>13</th>\n",
              "      <td>template_2</td>\n",
              "      <td>tc_1007</td>\n",
              "      <td>Question: Who was born first, Kiefer Sutherland or Christian Slater?, Evidence: ... Kiefer Suthe...</td>\n",
              "      <td>\\n\\nQuestion: Who was born first, Kiefer Sutherland or Christian Slater?, Evidence:... Kiefer Su...</td>\n",
              "    </tr>\n",
              "    <tr>\n",
              "      <th>14</th>\n",
              "      <td>template_2</td>\n",
              "      <td>tc_1020</td>\n",
              "      <td>Question: Who set fire to his guitar at the Monterey Pop festival in 19676?, Evidence: When they...</td>\n",
              "      <td>\\n\\nQuestion: Who set fire to his guitar at the Monterey Pop festival in 19676?, Evidence: When ...</td>\n",
              "    </tr>\n",
              "    <tr>\n",
              "      <th>15</th>\n",
              "      <td>template_2</td>\n",
              "      <td>tc_1156</td>\n",
              "      <td>Question: Which Swedish actress won the Best Supporting Actress Oscar for Murder on the Orient E...</td>\n",
              "      <td>\\n\\nQuestion: Which Swedish actress won the Best Supporting Actress Oscar for Murder on the Orie...</td>\n",
              "    </tr>\n",
              "    <tr>\n",
              "      <th>16</th>\n",
              "      <td>template_2</td>\n",
              "      <td>tc_1516</td>\n",
              "      <td>Question: In baseball, where do the Orioles come from?, Evidence: The Baltimore Oriole hybridize...</td>\n",
              "      <td>\\n\\nQuestion: In baseball, where do the Orioles come from?, Evidence: The Baltimore Oriole hybri...</td>\n",
              "    </tr>\n",
              "    <tr>\n",
              "      <th>17</th>\n",
              "      <td>template_2</td>\n",
              "      <td>tc_1535</td>\n",
              "      <td>Question: The Naismith Award is presented in which sport?, Evidence: What is the purpose of the ...</td>\n",
              "      <td>The Naismith Award is presented in which sport?\\n\\nAnswer: The Naismith Award is presented in w...</td>\n",
              "    </tr>\n",
              "    <tr>\n",
              "      <th>18</th>\n",
              "      <td>template_2</td>\n",
              "      <td>tc_1542</td>\n",
              "      <td>Question: For which team did Babe Ruth blast his last Major League home run?, Evidence: The Babe...</td>\n",
              "      <td>the ballpark was the site of “Babe Ruth’s last Major League game.... the ballpark was the site ...</td>\n",
              "    </tr>\n",
              "    <tr>\n",
              "      <th>19</th>\n",
              "      <td>template_2</td>\n",
              "      <td>tc_1826</td>\n",
              "      <td>Question: What was Blondie's last UK No 1 of the 80s?, Evidence: Debbie Harry has admitted that ...</td>\n",
              "      <td>\\n\\nQuestion: What was Blondie's last UK No 1 of the 80s?, Evidence: Debbie Harry has admitted t...</td>\n",
              "    </tr>\n",
              "  </tbody>\n",
              "</table>\n",
              "</div>"
            ],
            "text/plain": [
              "      template  ...                                                                                               output\n",
              "0   template_1  ...   Answer: The title song to the JAMES BOND film OCTOPUSSY. Clip from THE VAL DOONICAN MUSIC SHOW ...\n",
              "1   template_1  ...   Answer: The Street Where You Live is a song with music by Frederick Loewe and lyrics by Alan Ja...\n",
              "2   template_1  ...  ...\\n\\nQuestion: Who directed the classic 30s western Stagecoach?...\\n\\nAnswer: John Ford\\n\\nQue...\n",
              "3   template_1  ...  ... Answer: Kiefer Sutherland was born first....\\n\\nQuestion:... Kiefer Sutherland, Lou Diamond ...\n",
              "4   template_1  ...   Answer: Jimi Hendrix. Question: Who was the first person to set fire to a guitar at the Montere...\n",
              "5   template_1  ...   Answer: Ingrid Bergman.\\n\\nQuestion: Which Swedish actress won the Best Supporting Actress Osca...\n",
              "6   template_1  ...   Answer: The Baltimore Orioles are a Major League Baseball team based in Baltimore, Maryland. Th...\n",
              "7   template_1  ...   The Naismith Award is presented in basketball,... Question: The Naismith Award is presented in ...\n",
              "8   template_1  ...  ... Answer: The Boston Red Sox....\\n\\nQuestion: For which team did Babe Ruth blast his last Majo...\n",
              "9   template_1  ...  \\n\\nAnswer: “Heart of Glass”, the title track from the band's third album, which was released in...\n",
              "10  template_2  ...  \\n\\nQuestion: Rita Coolidge sang the title song for which Bond film?, Evidence:... Rita Coolidge...\n",
              "11  template_2  ...  \\n\\nQuestion: Which musical featured the song The Street Where You Live?, Evidence: \"On the Stre...\n",
              "12  template_2  ...  \\n\\nQuestion: Who directed the classic 30s western Stagecoach?, Evidence:... John Wayne is \"The ...\n",
              "13  template_2  ...  \\n\\nQuestion: Who was born first, Kiefer Sutherland or Christian Slater?, Evidence:... Kiefer Su...\n",
              "14  template_2  ...  \\n\\nQuestion: Who set fire to his guitar at the Monterey Pop festival in 19676?, Evidence: When ...\n",
              "15  template_2  ...  \\n\\nQuestion: Which Swedish actress won the Best Supporting Actress Oscar for Murder on the Orie...\n",
              "16  template_2  ...  \\n\\nQuestion: In baseball, where do the Orioles come from?, Evidence: The Baltimore Oriole hybri...\n",
              "17  template_2  ...   The Naismith Award is presented in which sport?\\n\\nAnswer: The Naismith Award is presented in w...\n",
              "18  template_2  ...   the ballpark was the site of “Babe Ruth’s last Major League game.... the ballpark was the site ...\n",
              "19  template_2  ...  \\n\\nQuestion: What was Blondie's last UK No 1 of the 80s?, Evidence: Debbie Harry has admitted t...\n",
              "\n",
              "[20 rows x 4 columns]"
            ]
          },
          "metadata": {
            "tags": []
          },
          "execution_count": 144
        }
      ]
    },
    {
      "cell_type": "markdown",
      "metadata": {
        "id": "e7-rLgPCuGox"
      },
      "source": [
        "# Evaluate on TriviaQA\n",
        "\n",
        "Adapted from:\n",
        "https://github.com/mandarjoshi90/triviaqa/blob/master/evaluation/triviaqa_evaluation.py"
      ]
    },
    {
      "cell_type": "code",
      "metadata": {
        "colab": {
          "base_uri": "https://localhost:8080/",
          "height": 17
        },
        "id": "jpl34BgV9p2j",
        "outputId": "de41b28b-ade1-4eb7-e43c-65a8b8b8ae08"
      },
      "source": [
        "templates = set(x[0] for x in outputs)\n",
        "outputs_eval_json = {}\n",
        "\n",
        "for template in templates:\n",
        "    outputs_eval_json[template] = {}\n",
        "    for x in outputs:\n",
        "        if x[0] == template:\n",
        "            outputs_eval_json[template][x[1]] = x[3]"
      ],
      "execution_count": null,
      "outputs": [
        {
          "output_type": "display_data",
          "data": {
            "text/html": [
              "\n",
              "  <style>\n",
              "    pre {\n",
              "        white-space: pre-wrap;\n",
              "    }\n",
              "  </style>\n",
              "  "
            ],
            "text/plain": [
              "<IPython.core.display.HTML object>"
            ]
          },
          "metadata": {
            "tags": []
          }
        }
      ]
    },
    {
      "cell_type": "code",
      "metadata": {
        "colab": {
          "base_uri": "https://localhost:8080/",
          "height": 54
        },
        "id": "1zUXGkLjHlrX",
        "outputId": "effeedbf-6f5d-446c-d931-f0cf17a12e11"
      },
      "source": [
        "% cd /\n",
        "! git clone https://github.com/mandarjoshi90/triviaqa.git"
      ],
      "execution_count": null,
      "outputs": [
        {
          "output_type": "display_data",
          "data": {
            "text/html": [
              "\n",
              "  <style>\n",
              "    pre {\n",
              "        white-space: pre-wrap;\n",
              "    }\n",
              "  </style>\n",
              "  "
            ],
            "text/plain": [
              "<IPython.core.display.HTML object>"
            ]
          },
          "metadata": {
            "tags": []
          }
        },
        {
          "output_type": "stream",
          "text": [
            "/\n",
            "fatal: destination path 'triviaqa' already exists and is not an empty directory.\n"
          ],
          "name": "stdout"
        }
      ]
    },
    {
      "cell_type": "code",
      "metadata": {
        "colab": {
          "base_uri": "https://localhost:8080/",
          "height": 36
        },
        "id": "rXVblTb_HrxF",
        "outputId": "70c5cc46-91f1-449e-a1ba-df088165fe44"
      },
      "source": [
        "% cd triviaqa"
      ],
      "execution_count": null,
      "outputs": [
        {
          "output_type": "display_data",
          "data": {
            "text/html": [
              "\n",
              "  <style>\n",
              "    pre {\n",
              "        white-space: pre-wrap;\n",
              "    }\n",
              "  </style>\n",
              "  "
            ],
            "text/plain": [
              "<IPython.core.display.HTML object>"
            ]
          },
          "metadata": {
            "tags": []
          }
        },
        {
          "output_type": "stream",
          "text": [
            "/triviaqa\n"
          ],
          "name": "stdout"
        }
      ]
    },
    {
      "cell_type": "code",
      "metadata": {
        "colab": {
          "base_uri": "https://localhost:8080/",
          "height": 17
        },
        "id": "ACpB1vlWekXo",
        "outputId": "a68c5717-4967-4b37-cb6d-a61e34b44d60"
      },
      "source": [
        "from evaluation.triviaqa_evaluation import (\n",
        "    get_ground_truths,\n",
        "    metric_max_over_ground_truths,\n",
        "    exact_match_score,\n",
        "    f1_score)\n",
        "\n",
        "\n",
        "def get_answer_for_qid(dataset_json, qid):\n",
        "    return [x['Answer'] for x in dataset_json['Data'] if x['QuestionId']==qid][0]\n",
        "\n",
        "\n",
        "def get_ground_truths_for_qid(dataset_json, qid):\n",
        "    answer = get_answer_for_qid(dataset_json, qid)\n",
        "    return get_ground_truths(answer)\n",
        "\n",
        "\n",
        "def contains_answer_score(prediction, ground_truth):\n",
        "    return ground_truth.lower() in prediction.lower()\n",
        "\n",
        "\n",
        "def get_ground_truths_all(dataset_json, predictions):\n",
        "    return {qid: get_ground_truths_for_qid(dataset_json, qid) \\\n",
        "            for qid in predictions.keys()}"
      ],
      "execution_count": null,
      "outputs": [
        {
          "output_type": "display_data",
          "data": {
            "text/html": [
              "\n",
              "  <style>\n",
              "    pre {\n",
              "        white-space: pre-wrap;\n",
              "    }\n",
              "  </style>\n",
              "  "
            ],
            "text/plain": [
              "<IPython.core.display.HTML object>"
            ]
          },
          "metadata": {
            "tags": []
          }
        }
      ]
    },
    {
      "cell_type": "code",
      "metadata": {
        "colab": {
          "base_uri": "https://localhost:8080/",
          "height": 677
        },
        "id": "EPiRFkr8hJLD",
        "outputId": "7bb4b6e1-e60e-4cc2-9fc8-37851df87244"
      },
      "source": [
        "scores = []\n",
        "\n",
        "for template, predictions in outputs_eval_json.items():\n",
        "    ground_truths_all = get_ground_truths_all(dataset_json, predictions)\n",
        "\n",
        "    for question_id, prediction in predictions.items():\n",
        "        ground_truths = get_ground_truths_all(dataset_json, predictions)[question_id]\n",
        "        exact_match = metric_max_over_ground_truths(exact_match_score, \n",
        "                                                    prediction, \n",
        "                                                    ground_truths)\n",
        "        f1 = metric_max_over_ground_truths(f1_score, prediction, ground_truths)\n",
        "        contains_answer = metric_max_over_ground_truths(contains_answer_score, \n",
        "                                                        prediction, \n",
        "                                                        ground_truths)\n",
        "        scores.append((template, question_id, exact_match, f1, contains_answer))\n",
        "\n",
        "df_cols = {col_name: vals for col_name, vals in \\\n",
        "           zip(['template', 'question_id', 'exact_match', 'f1', 'contains_answer'], \n",
        "               list(zip(*scores)))}\n",
        "df_scores = pd.DataFrame(df_cols)\n",
        "\n",
        "df_scores"
      ],
      "execution_count": null,
      "outputs": [
        {
          "output_type": "display_data",
          "data": {
            "text/html": [
              "\n",
              "  <style>\n",
              "    pre {\n",
              "        white-space: pre-wrap;\n",
              "    }\n",
              "  </style>\n",
              "  "
            ],
            "text/plain": [
              "<IPython.core.display.HTML object>"
            ]
          },
          "metadata": {
            "tags": []
          }
        },
        {
          "output_type": "execute_result",
          "data": {
            "text/html": [
              "<div>\n",
              "<style scoped>\n",
              "    .dataframe tbody tr th:only-of-type {\n",
              "        vertical-align: middle;\n",
              "    }\n",
              "\n",
              "    .dataframe tbody tr th {\n",
              "        vertical-align: top;\n",
              "    }\n",
              "\n",
              "    .dataframe thead th {\n",
              "        text-align: right;\n",
              "    }\n",
              "</style>\n",
              "<table border=\"1\" class=\"dataframe\">\n",
              "  <thead>\n",
              "    <tr style=\"text-align: right;\">\n",
              "      <th></th>\n",
              "      <th>template</th>\n",
              "      <th>question_id</th>\n",
              "      <th>exact_match</th>\n",
              "      <th>f1</th>\n",
              "      <th>contains_answer</th>\n",
              "    </tr>\n",
              "  </thead>\n",
              "  <tbody>\n",
              "    <tr>\n",
              "      <th>0</th>\n",
              "      <td>template_2</td>\n",
              "      <td>tc_69</td>\n",
              "      <td>False</td>\n",
              "      <td>0.181818</td>\n",
              "      <td>False</td>\n",
              "    </tr>\n",
              "    <tr>\n",
              "      <th>1</th>\n",
              "      <td>template_2</td>\n",
              "      <td>tc_261</td>\n",
              "      <td>False</td>\n",
              "      <td>0.080000</td>\n",
              "      <td>False</td>\n",
              "    </tr>\n",
              "    <tr>\n",
              "      <th>2</th>\n",
              "      <td>template_2</td>\n",
              "      <td>tc_280</td>\n",
              "      <td>False</td>\n",
              "      <td>0.210526</td>\n",
              "      <td>True</td>\n",
              "    </tr>\n",
              "    <tr>\n",
              "      <th>3</th>\n",
              "      <td>template_2</td>\n",
              "      <td>tc_1007</td>\n",
              "      <td>False</td>\n",
              "      <td>0.200000</td>\n",
              "      <td>True</td>\n",
              "    </tr>\n",
              "    <tr>\n",
              "      <th>4</th>\n",
              "      <td>template_2</td>\n",
              "      <td>tc_1020</td>\n",
              "      <td>False</td>\n",
              "      <td>0.000000</td>\n",
              "      <td>False</td>\n",
              "    </tr>\n",
              "    <tr>\n",
              "      <th>5</th>\n",
              "      <td>template_2</td>\n",
              "      <td>tc_1156</td>\n",
              "      <td>False</td>\n",
              "      <td>0.000000</td>\n",
              "      <td>False</td>\n",
              "    </tr>\n",
              "    <tr>\n",
              "      <th>6</th>\n",
              "      <td>template_2</td>\n",
              "      <td>tc_1516</td>\n",
              "      <td>False</td>\n",
              "      <td>0.272727</td>\n",
              "      <td>True</td>\n",
              "    </tr>\n",
              "    <tr>\n",
              "      <th>7</th>\n",
              "      <td>template_2</td>\n",
              "      <td>tc_1535</td>\n",
              "      <td>False</td>\n",
              "      <td>0.000000</td>\n",
              "      <td>False</td>\n",
              "    </tr>\n",
              "    <tr>\n",
              "      <th>8</th>\n",
              "      <td>template_2</td>\n",
              "      <td>tc_1542</td>\n",
              "      <td>False</td>\n",
              "      <td>0.000000</td>\n",
              "      <td>False</td>\n",
              "    </tr>\n",
              "    <tr>\n",
              "      <th>9</th>\n",
              "      <td>template_2</td>\n",
              "      <td>tc_1826</td>\n",
              "      <td>False</td>\n",
              "      <td>0.095238</td>\n",
              "      <td>True</td>\n",
              "    </tr>\n",
              "    <tr>\n",
              "      <th>10</th>\n",
              "      <td>template_1</td>\n",
              "      <td>tc_69</td>\n",
              "      <td>False</td>\n",
              "      <td>0.240000</td>\n",
              "      <td>True</td>\n",
              "    </tr>\n",
              "    <tr>\n",
              "      <th>11</th>\n",
              "      <td>template_1</td>\n",
              "      <td>tc_261</td>\n",
              "      <td>False</td>\n",
              "      <td>0.071429</td>\n",
              "      <td>False</td>\n",
              "    </tr>\n",
              "    <tr>\n",
              "      <th>12</th>\n",
              "      <td>template_1</td>\n",
              "      <td>tc_280</td>\n",
              "      <td>False</td>\n",
              "      <td>0.235294</td>\n",
              "      <td>True</td>\n",
              "    </tr>\n",
              "    <tr>\n",
              "      <th>13</th>\n",
              "      <td>template_1</td>\n",
              "      <td>tc_1007</td>\n",
              "      <td>False</td>\n",
              "      <td>0.222222</td>\n",
              "      <td>True</td>\n",
              "    </tr>\n",
              "    <tr>\n",
              "      <th>14</th>\n",
              "      <td>template_1</td>\n",
              "      <td>tc_1020</td>\n",
              "      <td>False</td>\n",
              "      <td>0.173913</td>\n",
              "      <td>True</td>\n",
              "    </tr>\n",
              "    <tr>\n",
              "      <th>15</th>\n",
              "      <td>template_1</td>\n",
              "      <td>tc_1156</td>\n",
              "      <td>False</td>\n",
              "      <td>0.181818</td>\n",
              "      <td>True</td>\n",
              "    </tr>\n",
              "    <tr>\n",
              "      <th>16</th>\n",
              "      <td>template_1</td>\n",
              "      <td>tc_1516</td>\n",
              "      <td>False</td>\n",
              "      <td>0.250000</td>\n",
              "      <td>True</td>\n",
              "    </tr>\n",
              "    <tr>\n",
              "      <th>17</th>\n",
              "      <td>template_1</td>\n",
              "      <td>tc_1535</td>\n",
              "      <td>False</td>\n",
              "      <td>0.100000</td>\n",
              "      <td>True</td>\n",
              "    </tr>\n",
              "    <tr>\n",
              "      <th>18</th>\n",
              "      <td>template_1</td>\n",
              "      <td>tc_1542</td>\n",
              "      <td>False</td>\n",
              "      <td>0.090909</td>\n",
              "      <td>False</td>\n",
              "    </tr>\n",
              "    <tr>\n",
              "      <th>19</th>\n",
              "      <td>template_1</td>\n",
              "      <td>tc_1826</td>\n",
              "      <td>False</td>\n",
              "      <td>0.095238</td>\n",
              "      <td>True</td>\n",
              "    </tr>\n",
              "  </tbody>\n",
              "</table>\n",
              "</div>"
            ],
            "text/plain": [
              "      template question_id  exact_match        f1  contains_answer\n",
              "0   template_2       tc_69        False  0.181818            False\n",
              "1   template_2      tc_261        False  0.080000            False\n",
              "2   template_2      tc_280        False  0.210526             True\n",
              "3   template_2     tc_1007        False  0.200000             True\n",
              "4   template_2     tc_1020        False  0.000000            False\n",
              "5   template_2     tc_1156        False  0.000000            False\n",
              "6   template_2     tc_1516        False  0.272727             True\n",
              "7   template_2     tc_1535        False  0.000000            False\n",
              "8   template_2     tc_1542        False  0.000000            False\n",
              "9   template_2     tc_1826        False  0.095238             True\n",
              "10  template_1       tc_69        False  0.240000             True\n",
              "11  template_1      tc_261        False  0.071429            False\n",
              "12  template_1      tc_280        False  0.235294             True\n",
              "13  template_1     tc_1007        False  0.222222             True\n",
              "14  template_1     tc_1020        False  0.173913             True\n",
              "15  template_1     tc_1156        False  0.181818             True\n",
              "16  template_1     tc_1516        False  0.250000             True\n",
              "17  template_1     tc_1535        False  0.100000             True\n",
              "18  template_1     tc_1542        False  0.090909            False\n",
              "19  template_1     tc_1826        False  0.095238             True"
            ]
          },
          "metadata": {
            "tags": []
          },
          "execution_count": 191
        }
      ]
    },
    {
      "cell_type": "code",
      "metadata": {
        "id": "4JeYgfxL0NIA"
      },
      "source": [
        "% cd /"
      ],
      "execution_count": null,
      "outputs": []
    }
  ]
}