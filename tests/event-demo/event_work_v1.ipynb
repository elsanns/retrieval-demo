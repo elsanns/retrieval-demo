{
  "nbformat": 4,
  "nbformat_minor": 0,
  "metadata": {
    "colab": {
      "name": "event-work-v1.ipynb",
      "provenance": [],
      "collapsed_sections": [],
      "toc_visible": true
    },
    "kernelspec": {
      "name": "python3",
      "display_name": "Python 3"
    },
    "language_info": {
      "name": "python"
    }
  },
  "cells": [
    {
      "cell_type": "markdown",
      "metadata": {
        "id": "HO_xIdc9zxXt"
      },
      "source": [
        "# Which tasks perform well compared to baseline"
      ]
    },
    {
      "cell_type": "markdown",
      "metadata": {
        "id": "Ob2xwcJcz0oz"
      },
      "source": [
        "## Comparison with baseline spreadsheet\n",
        "\n",
        "Baseline from single task fine-tuning spreadsheet\n",
        "\n",
        "https://docs.google.com/spreadsheets/d/1BcwEU1e2dbEOMDbWHSP3zh7B8BBWK6kJJBhaS2hDRX8/edit#gid=1653761555"
      ]
    },
    {
      "cell_type": "code",
      "metadata": {
        "colab": {
          "base_uri": "https://localhost:8080/",
          "height": 462
        },
        "id": "F6jGnHFY0A9U",
        "outputId": "8dc0994f-e679-4456-e044-dcf48e04f038"
      },
      "source": [
        "import pandas as pd\n",
        "# Baseline from single task fine-tuning spreadsheet:\n",
        "# https://docs.google.com/spreadsheets/d/1BcwEU1e2dbEOMDbWHSP3zh7B8BBWK6kJJBhaS2hDRX8/edit#gid=1653761555\n",
        "\n",
        "sheet_id = \"1BcwEU1e2dbEOMDbWHSP3zh7B8BBWK6kJJBhaS2hDRX8\"\n",
        "sheet_name = \"1653761555\"\n",
        "url = f\"https://docs.google.com/spreadsheets/d/{sheet_id}/gviz/tq?tqx=out:csv&sheet={sheet_name}\"\n",
        "\n",
        "df_performance = pd.read_csv(url)\n",
        "\n",
        "df_performance = df_performance.iloc[:, 1:6]\n",
        "df_performance.columns = ['task_name_metric', 't5_baseline', 'd2', \n",
        "                          'baseline_better', 'multi_task_better']\n",
        "df_performance.reset_index(drop=True, inplace=True)\n",
        "task_name = df_performance.iloc[:, 0]\n",
        "df_performance['task_name'] = [x.split('/')[0] for x in task_name]\n",
        "df_performance['metric'] = [x.split('/')[1] for x in task_name]\n",
        "df_performance['multi_task_better_by'] = [x-y for x, y in zip(df_performance['d2'], \n",
        "                                                              df_performance['t5_baseline'])]\n",
        "\n",
        "df_performance = df_performance.dropna()\n",
        "df_performance.reset_index(drop=True, inplace=True)\n",
        "df_performance\n",
        "\n",
        "print(set(df_performance['metric']))\n",
        "\n",
        "df_performance"
      ],
      "execution_count": 4,
      "outputs": [
        {
          "output_type": "stream",
          "text": [
            "{'sequence_accuracy'}\n"
          ],
          "name": "stdout"
        },
        {
          "output_type": "execute_result",
          "data": {
            "text/html": [
              "<div>\n",
              "<style scoped>\n",
              "    .dataframe tbody tr th:only-of-type {\n",
              "        vertical-align: middle;\n",
              "    }\n",
              "\n",
              "    .dataframe tbody tr th {\n",
              "        vertical-align: top;\n",
              "    }\n",
              "\n",
              "    .dataframe thead th {\n",
              "        text-align: right;\n",
              "    }\n",
              "</style>\n",
              "<table border=\"1\" class=\"dataframe\">\n",
              "  <thead>\n",
              "    <tr style=\"text-align: right;\">\n",
              "      <th></th>\n",
              "      <th>task_name_metric</th>\n",
              "      <th>t5_baseline</th>\n",
              "      <th>d2</th>\n",
              "      <th>baseline_better</th>\n",
              "      <th>multi_task_better</th>\n",
              "      <th>task_name</th>\n",
              "      <th>metric</th>\n",
              "      <th>multi_task_better_by</th>\n",
              "    </tr>\n",
              "  </thead>\n",
              "  <tbody>\n",
              "    <tr>\n",
              "      <th>0</th>\n",
              "      <td>ai2_arc_ARC_Challenge_false/sequence_accuracy</td>\n",
              "      <td>0.000</td>\n",
              "      <td>0.000</td>\n",
              "      <td>False</td>\n",
              "      <td>False</td>\n",
              "      <td>ai2_arc_ARC_Challenge_false</td>\n",
              "      <td>sequence_accuracy</td>\n",
              "      <td>0.000</td>\n",
              "    </tr>\n",
              "    <tr>\n",
              "      <th>1</th>\n",
              "      <td>ai2_arc_ARC_Challenge_qa_options/sequence_accu...</td>\n",
              "      <td>27.425</td>\n",
              "      <td>40.803</td>\n",
              "      <td>False</td>\n",
              "      <td>True</td>\n",
              "      <td>ai2_arc_ARC_Challenge_qa_options</td>\n",
              "      <td>sequence_accuracy</td>\n",
              "      <td>13.378</td>\n",
              "    </tr>\n",
              "    <tr>\n",
              "      <th>2</th>\n",
              "      <td>ai2_arc_ARC_Challenge_test/sequence_accuracy</td>\n",
              "      <td>26.421</td>\n",
              "      <td>48.829</td>\n",
              "      <td>False</td>\n",
              "      <td>True</td>\n",
              "      <td>ai2_arc_ARC_Challenge_test</td>\n",
              "      <td>sequence_accuracy</td>\n",
              "      <td>22.408</td>\n",
              "    </tr>\n",
              "    <tr>\n",
              "      <th>3</th>\n",
              "      <td>ai2_arc_ARC_Easy_false/sequence_accuracy</td>\n",
              "      <td>0.000</td>\n",
              "      <td>0.000</td>\n",
              "      <td>False</td>\n",
              "      <td>False</td>\n",
              "      <td>ai2_arc_ARC_Easy_false</td>\n",
              "      <td>sequence_accuracy</td>\n",
              "      <td>0.000</td>\n",
              "    </tr>\n",
              "    <tr>\n",
              "      <th>4</th>\n",
              "      <td>ai2_arc_ARC_Easy_qa_options/sequence_accuracy</td>\n",
              "      <td>37.193</td>\n",
              "      <td>60.000</td>\n",
              "      <td>False</td>\n",
              "      <td>True</td>\n",
              "      <td>ai2_arc_ARC_Easy_qa_options</td>\n",
              "      <td>sequence_accuracy</td>\n",
              "      <td>22.807</td>\n",
              "    </tr>\n",
              "    <tr>\n",
              "      <th>...</th>\n",
              "      <td>...</td>\n",
              "      <td>...</td>\n",
              "      <td>...</td>\n",
              "      <td>...</td>\n",
              "      <td>...</td>\n",
              "      <td>...</td>\n",
              "      <td>...</td>\n",
              "      <td>...</td>\n",
              "    </tr>\n",
              "    <tr>\n",
              "      <th>64</th>\n",
              "      <td>super_glue_wsc.fixed_Here_p_stands_for_/sequen...</td>\n",
              "      <td>30.769</td>\n",
              "      <td>28.846</td>\n",
              "      <td>True</td>\n",
              "      <td>False</td>\n",
              "      <td>super_glue_wsc.fixed_Here_p_stands_for_</td>\n",
              "      <td>sequence_accuracy</td>\n",
              "      <td>-1.923</td>\n",
              "    </tr>\n",
              "    <tr>\n",
              "      <th>65</th>\n",
              "      <td>super_glue_wsc.fixed_In_the_previous_sentence_...</td>\n",
              "      <td>30.769</td>\n",
              "      <td>28.846</td>\n",
              "      <td>True</td>\n",
              "      <td>False</td>\n",
              "      <td>super_glue_wsc.fixed_In_the_previous_sentence_...</td>\n",
              "      <td>sequence_accuracy</td>\n",
              "      <td>-1.923</td>\n",
              "    </tr>\n",
              "    <tr>\n",
              "      <th>66</th>\n",
              "      <td>super_glue_wsc.fixed_Who_is_are_/sequence_accu...</td>\n",
              "      <td>31.731</td>\n",
              "      <td>31.731</td>\n",
              "      <td>False</td>\n",
              "      <td>False</td>\n",
              "      <td>super_glue_wsc.fixed_Who_is_are_</td>\n",
              "      <td>sequence_accuracy</td>\n",
              "      <td>0.000</td>\n",
              "    </tr>\n",
              "    <tr>\n",
              "      <th>67</th>\n",
              "      <td>super_glue_wsc.fixed_in_the_passage_above_the_...</td>\n",
              "      <td>33.654</td>\n",
              "      <td>28.846</td>\n",
              "      <td>True</td>\n",
              "      <td>False</td>\n",
              "      <td>super_glue_wsc.fixed_in_the_passage_above_the_...</td>\n",
              "      <td>sequence_accuracy</td>\n",
              "      <td>-4.808</td>\n",
              "    </tr>\n",
              "    <tr>\n",
              "      <th>68</th>\n",
              "      <td>super_glue_wsc.fixed_passage_what_does_the_pro...</td>\n",
              "      <td>32.692</td>\n",
              "      <td>29.808</td>\n",
              "      <td>True</td>\n",
              "      <td>False</td>\n",
              "      <td>super_glue_wsc.fixed_passage_what_does_the_pro...</td>\n",
              "      <td>sequence_accuracy</td>\n",
              "      <td>-2.884</td>\n",
              "    </tr>\n",
              "  </tbody>\n",
              "</table>\n",
              "<p>69 rows × 8 columns</p>\n",
              "</div>"
            ],
            "text/plain": [
              "                                     task_name_metric  ...  multi_task_better_by\n",
              "0       ai2_arc_ARC_Challenge_false/sequence_accuracy  ...                 0.000\n",
              "1   ai2_arc_ARC_Challenge_qa_options/sequence_accu...  ...                13.378\n",
              "2        ai2_arc_ARC_Challenge_test/sequence_accuracy  ...                22.408\n",
              "3            ai2_arc_ARC_Easy_false/sequence_accuracy  ...                 0.000\n",
              "4       ai2_arc_ARC_Easy_qa_options/sequence_accuracy  ...                22.807\n",
              "..                                                ...  ...                   ...\n",
              "64  super_glue_wsc.fixed_Here_p_stands_for_/sequen...  ...                -1.923\n",
              "65  super_glue_wsc.fixed_In_the_previous_sentence_...  ...                -1.923\n",
              "66  super_glue_wsc.fixed_Who_is_are_/sequence_accu...  ...                 0.000\n",
              "67  super_glue_wsc.fixed_in_the_passage_above_the_...  ...                -4.808\n",
              "68  super_glue_wsc.fixed_passage_what_does_the_pro...  ...                -2.884\n",
              "\n",
              "[69 rows x 8 columns]"
            ]
          },
          "metadata": {
            "tags": []
          },
          "execution_count": 4
        }
      ]
    },
    {
      "cell_type": "markdown",
      "metadata": {
        "id": "C1vinKoL0R87"
      },
      "source": [
        "## Graphics"
      ]
    },
    {
      "cell_type": "markdown",
      "metadata": {
        "id": "oYA9s7Q-0gIk"
      },
      "source": [
        "Groups of well and poorly performing tasks"
      ]
    },
    {
      "cell_type": "code",
      "metadata": {
        "id": "gCUBUTr70T8s"
      },
      "source": [
        "df_performance['task_name_prefix'] = [x.split('_')[0] \n",
        "                                      if x.split('_')[0] != 'super'\n",
        "                                      else '_'.join(x.split('_')[0:3]) \n",
        "                                      for x in df_performance['task_name']]\n",
        "\n",
        "task_group = []\n",
        "sg_poor_perf = 'super_glue.(wsc.fixed_wic_cb)'\n",
        "for p in df_performance['task_name_prefix']:\n",
        "    if p in ['super_glue_wsc.fixed', 'super_glue_wic', 'super_glue_cb']:\n",
        "        task_group.append(sg_poor_perf)\n",
        "    elif p != 'hans':\n",
        "        task_group.append('other')\n",
        "    else:\n",
        "        task_group.append(p)\n",
        "\n",
        "df_performance['task_group'] = task_group"
      ],
      "execution_count": 5,
      "outputs": []
    },
    {
      "cell_type": "code",
      "metadata": {
        "colab": {
          "base_uri": "https://localhost:8080/",
          "height": 542
        },
        "id": "t0IBgyG20vRL",
        "outputId": "ad098c12-aa75-4efc-e590-234e566cca74"
      },
      "source": [
        "import plotly.express as px\n",
        "\n",
        "df_plot = df_performance[[\"task_name\", \"multi_task_better_by\", \"task_group\"]]\n",
        "df_plot.columns = [\"Task\", \"Experiment D multi-task training gain (metric)\", \"group\"]\n",
        "\n",
        "fig = px.bar(df_plot, x=df_plot.columns[0], y=df_plot.columns[1],\n",
        "             color=df_plot.columns[2], title=\"Comparison with t5-base\") #, orientation='h')\n",
        "fig.update_xaxes(showticklabels=False)             \n",
        "fig.show()"
      ],
      "execution_count": 6,
      "outputs": [
        {
          "output_type": "display_data",
          "data": {
            "text/html": [
              "<html>\n",
              "<head><meta charset=\"utf-8\" /></head>\n",
              "<body>\n",
              "    <div>\n",
              "            <script src=\"https://cdnjs.cloudflare.com/ajax/libs/mathjax/2.7.5/MathJax.js?config=TeX-AMS-MML_SVG\"></script><script type=\"text/javascript\">if (window.MathJax) {MathJax.Hub.Config({SVG: {font: \"STIX-Web\"}});}</script>\n",
              "                <script type=\"text/javascript\">window.PlotlyConfig = {MathJaxConfig: 'local'};</script>\n",
              "        <script src=\"https://cdn.plot.ly/plotly-latest.min.js\"></script>    \n",
              "            <div id=\"22f08a47-683f-481b-9f90-a31696e06476\" class=\"plotly-graph-div\" style=\"height:525px; width:100%;\"></div>\n",
              "            <script type=\"text/javascript\">\n",
              "                \n",
              "                    window.PLOTLYENV=window.PLOTLYENV || {};\n",
              "                    \n",
              "                if (document.getElementById(\"22f08a47-683f-481b-9f90-a31696e06476\")) {\n",
              "                    Plotly.newPlot(\n",
              "                        '22f08a47-683f-481b-9f90-a31696e06476',\n",
              "                        [{\"alignmentgroup\": \"True\", \"hoverlabel\": {\"namelength\": 0}, \"hovertemplate\": \"group=other<br>Task=%{x}<br>Experiment D multi-task training gain (metric)=%{y}\", \"legendgroup\": \"group=other\", \"marker\": {\"color\": \"#636efa\"}, \"name\": \"group=other\", \"offsetgroup\": \"group=other\", \"orientation\": \"v\", \"showlegend\": true, \"textposition\": \"auto\", \"type\": \"bar\", \"x\": [\"ai2_arc_ARC_Challenge_false\", \"ai2_arc_ARC_Challenge_qa_options\", \"ai2_arc_ARC_Challenge_test\", \"ai2_arc_ARC_Easy_false\", \"ai2_arc_ARC_Easy_qa_options\", \"ai2_arc_ARC_Easy_test\", \"openbookqa_main_choices\", \"openbookqa_main_choose_an_answer_with_options\", \"openbookqa_main_only_options\", \"openbookqa_main_pick_answer_with_options\", \"openbookqa_main_pick_using_id\", \"openbookqa_main_which_correct\", \"qa_srl_qa\", \"race_high_Read_the_article_and_answer_the_question_no_option_\", \"race_high_Read_the_article_and_select_the_best_answer\", \"race_high_Read_the_article_and_select_the_best_answer2\", \"race_high_Read_the_article_and_select_the_best_answer3\", \"race_middle_Read_the_article_and_answer_the_question_no_option_\", \"race_middle_Read_the_article_and_select_the_best_answer\", \"race_middle_Read_the_article_and_select_the_best_answer2\", \"race_middle_Read_the_article_and_select_the_best_answer3\", \"social_i_qa_social_i_qa1\", \"social_i_qa_social_i_qa2\", \"social_i_qa_social_i_qa3\", \"social_i_qa_social_i_qa5\", \"super_glue_boolq_GPT_3_Style\", \"super_glue_boolq_I_wonder_\", \"super_glue_boolq_based_on_the_following_passage\", \"super_glue_boolq_based_on_the_previous_passage\", \"super_glue_boolq_could_you_tell_me_\", \"super_glue_copa_C1_or_C2_premise_so_because_\", \"super_glue_copa__As_a_result_C1_or_C2_\", \"super_glue_copa__What_could_happen_next_C1_or_C2_\", \"super_glue_copa__which_may_be_caused_by\", \"super_glue_copa__which_may_cause_C1_or_C2_\", \"super_glue_copa__why_C1_or_C2\", \"super_glue_multirc_I_was_going_to_say_\", \"super_glue_multirc_Would_it_be_good_to_answer_\", \"super_glue_multirc_is_a_correct_answer_\", \"super_glue_multirc_is_the_correct_answer_\", \"super_glue_multirc_paragraph_question_is_it_\", \"super_glue_record_Can_you_figure_out_\", \"super_glue_record_In_the_question_above_the_placeholder_stands_for\", \"super_glue_record_What_could_the_placeholder_be_\", \"super_glue_record_Which_one_is_the_placeholder_\", \"super_glue_record_the_placeholder_refers_to_\"], \"xaxis\": \"x\", \"y\": [0.0, 13.378000000000004, 22.407999999999994, 0.0, 22.806999999999995, 32.281000000000006, 6.799999999999997, 6.800000000000004, 5.199999999999996, 7.799999999999997, 11.200000000000003, 7.0, -10.579999999999998, 2.665, 42.550999999999995, 41.367999999999995, 41.943, 4.48, 43.279999999999994, 43.94799999999999, 43.51500000000001, 7.268000000000001, -0.615, 23.268, 1.4939999999999856, 18.070999999999998, 19.125999999999998, 18.926000000000002, 18.442999999999998, 19.626000000000005, 16.0, 10.417000000000002, 4.167000000000002, 26.92300000000001, 6.25, 32.692, 18.21, 16.53000000000001, 19.756999999999998, 18.93, 18.143, 20.918000000000003, 19.714, 27.802999999999997, 26.67, 19.236999999999995], \"yaxis\": \"y\"}, {\"alignmentgroup\": \"True\", \"hoverlabel\": {\"namelength\": 0}, \"hovertemplate\": \"group=hans<br>Task=%{x}<br>Experiment D multi-task training gain (metric)=%{y}\", \"legendgroup\": \"group=hans\", \"marker\": {\"color\": \"#EF553B\"}, \"name\": \"group=hans\", \"offsetgroup\": \"group=hans\", \"orientation\": \"v\", \"showlegend\": true, \"textposition\": \"auto\", \"type\": \"bar\", \"x\": [\"hans_GPT_3_style\", \"hans_Suppose_Can_we_infer_that_\", \"hans__does_the_previous_passage_support_the_claim_that\", \"hans_based_on_the_previous_passage\", \"hans_does_S1_entail_S2_\", \"hans_given_does_it_follow_that_\"], \"xaxis\": \"x\", \"y\": [-16.268, -23.848, -13.86999999999999, -46.43200000000001, -42.159, -39.385999999999996], \"yaxis\": \"y\"}, {\"alignmentgroup\": \"True\", \"hoverlabel\": {\"namelength\": 0}, \"hovertemplate\": \"group=super_glue.(wsc.fixed_wic_cb)<br>Task=%{x}<br>Experiment D multi-task training gain (metric)=%{y}\", \"legendgroup\": \"group=super_glue.(wsc.fixed_wic_cb)\", \"marker\": {\"color\": \"#00cc96\"}, \"name\": \"group=super_glue.(wsc.fixed_wic_cb)\", \"offsetgroup\": \"group=super_glue.(wsc.fixed_wic_cb)\", \"orientation\": \"v\", \"showlegend\": true, \"textposition\": \"auto\", \"type\": \"bar\", \"x\": [\"super_glue_cb_GPT_3_style\", \"super_glue_cb_based_on_the_previous_passage\", \"super_glue_cb_does_S1_contradict_S2_\", \"super_glue_cb_does_S1_entail_S2_\", \"super_glue_cb_given_does_it_follow_that_\", \"super_glue_cb_given_it_must_be_true_that_\", \"super_glue_wic_GPT_3_prompt\", \"super_glue_wic_GPT_3_prompt_with_label\", \"super_glue_wic_question_context\", \"super_glue_wic_question_context_meaning\", \"super_glue_wic_question_context_meaning_with_label\", \"super_glue_wic_similar_sense\", \"super_glue_wsc.fixed_Here_p_stands_for_\", \"super_glue_wsc.fixed_In_the_previous_sentence_the_pronoun_refers_to_\", \"super_glue_wsc.fixed_Who_is_are_\", \"super_glue_wsc.fixed_in_the_passage_above_the_pronoun_X_refers_to_\", \"super_glue_wsc.fixed_passage_what_does_the_pronoun_refer_to_\"], \"xaxis\": \"x\", \"y\": [-21.429000000000002, -19.643, -23.214, -21.427999999999997, -14.286000000000001, -30.357000000000014, -3.134999999999998, -4.545000000000002, -2.8219999999999956, -7.836999999999996, -6.582999999999998, -7.053000000000004, -1.9230000000000018, -1.9230000000000018, 0.0, -4.808000000000003, -2.883999999999997], \"yaxis\": \"y\"}],\n",
              "                        {\"barmode\": \"relative\", \"legend\": {\"tracegroupgap\": 0}, \"template\": {\"data\": {\"bar\": [{\"error_x\": {\"color\": \"#2a3f5f\"}, \"error_y\": {\"color\": \"#2a3f5f\"}, \"marker\": {\"line\": {\"color\": \"#E5ECF6\", \"width\": 0.5}}, \"type\": \"bar\"}], \"barpolar\": [{\"marker\": {\"line\": {\"color\": \"#E5ECF6\", \"width\": 0.5}}, \"type\": \"barpolar\"}], \"carpet\": [{\"aaxis\": {\"endlinecolor\": \"#2a3f5f\", \"gridcolor\": \"white\", \"linecolor\": \"white\", \"minorgridcolor\": \"white\", \"startlinecolor\": \"#2a3f5f\"}, \"baxis\": {\"endlinecolor\": \"#2a3f5f\", \"gridcolor\": \"white\", \"linecolor\": \"white\", \"minorgridcolor\": \"white\", \"startlinecolor\": \"#2a3f5f\"}, \"type\": \"carpet\"}], \"choropleth\": [{\"colorbar\": {\"outlinewidth\": 0, \"ticks\": \"\"}, \"type\": \"choropleth\"}], \"contour\": [{\"colorbar\": {\"outlinewidth\": 0, \"ticks\": \"\"}, \"colorscale\": [[0.0, \"#0d0887\"], [0.1111111111111111, \"#46039f\"], [0.2222222222222222, \"#7201a8\"], [0.3333333333333333, \"#9c179e\"], [0.4444444444444444, \"#bd3786\"], [0.5555555555555556, \"#d8576b\"], [0.6666666666666666, \"#ed7953\"], [0.7777777777777778, \"#fb9f3a\"], [0.8888888888888888, \"#fdca26\"], [1.0, \"#f0f921\"]], \"type\": \"contour\"}], \"contourcarpet\": [{\"colorbar\": {\"outlinewidth\": 0, \"ticks\": \"\"}, \"type\": \"contourcarpet\"}], \"heatmap\": [{\"colorbar\": {\"outlinewidth\": 0, \"ticks\": \"\"}, \"colorscale\": [[0.0, \"#0d0887\"], [0.1111111111111111, \"#46039f\"], [0.2222222222222222, \"#7201a8\"], [0.3333333333333333, \"#9c179e\"], [0.4444444444444444, \"#bd3786\"], [0.5555555555555556, \"#d8576b\"], [0.6666666666666666, \"#ed7953\"], [0.7777777777777778, \"#fb9f3a\"], [0.8888888888888888, \"#fdca26\"], [1.0, \"#f0f921\"]], \"type\": \"heatmap\"}], \"heatmapgl\": [{\"colorbar\": {\"outlinewidth\": 0, \"ticks\": \"\"}, \"colorscale\": [[0.0, \"#0d0887\"], [0.1111111111111111, \"#46039f\"], [0.2222222222222222, \"#7201a8\"], [0.3333333333333333, \"#9c179e\"], [0.4444444444444444, \"#bd3786\"], [0.5555555555555556, \"#d8576b\"], [0.6666666666666666, \"#ed7953\"], [0.7777777777777778, \"#fb9f3a\"], [0.8888888888888888, \"#fdca26\"], [1.0, \"#f0f921\"]], \"type\": \"heatmapgl\"}], \"histogram\": [{\"marker\": {\"colorbar\": {\"outlinewidth\": 0, \"ticks\": \"\"}}, \"type\": \"histogram\"}], \"histogram2d\": [{\"colorbar\": {\"outlinewidth\": 0, \"ticks\": \"\"}, \"colorscale\": [[0.0, \"#0d0887\"], [0.1111111111111111, \"#46039f\"], [0.2222222222222222, \"#7201a8\"], [0.3333333333333333, \"#9c179e\"], [0.4444444444444444, \"#bd3786\"], [0.5555555555555556, \"#d8576b\"], [0.6666666666666666, \"#ed7953\"], [0.7777777777777778, \"#fb9f3a\"], [0.8888888888888888, \"#fdca26\"], [1.0, \"#f0f921\"]], \"type\": \"histogram2d\"}], \"histogram2dcontour\": [{\"colorbar\": {\"outlinewidth\": 0, \"ticks\": \"\"}, \"colorscale\": [[0.0, \"#0d0887\"], [0.1111111111111111, \"#46039f\"], [0.2222222222222222, \"#7201a8\"], [0.3333333333333333, \"#9c179e\"], [0.4444444444444444, \"#bd3786\"], [0.5555555555555556, \"#d8576b\"], [0.6666666666666666, \"#ed7953\"], [0.7777777777777778, \"#fb9f3a\"], [0.8888888888888888, \"#fdca26\"], [1.0, \"#f0f921\"]], \"type\": \"histogram2dcontour\"}], \"mesh3d\": [{\"colorbar\": {\"outlinewidth\": 0, \"ticks\": \"\"}, \"type\": \"mesh3d\"}], \"parcoords\": [{\"line\": {\"colorbar\": {\"outlinewidth\": 0, \"ticks\": \"\"}}, \"type\": \"parcoords\"}], \"pie\": [{\"automargin\": true, \"type\": \"pie\"}], \"scatter\": [{\"marker\": {\"colorbar\": {\"outlinewidth\": 0, \"ticks\": \"\"}}, \"type\": \"scatter\"}], \"scatter3d\": [{\"line\": {\"colorbar\": {\"outlinewidth\": 0, \"ticks\": \"\"}}, \"marker\": {\"colorbar\": {\"outlinewidth\": 0, \"ticks\": \"\"}}, \"type\": \"scatter3d\"}], \"scattercarpet\": [{\"marker\": {\"colorbar\": {\"outlinewidth\": 0, \"ticks\": \"\"}}, \"type\": \"scattercarpet\"}], \"scattergeo\": [{\"marker\": {\"colorbar\": {\"outlinewidth\": 0, \"ticks\": \"\"}}, \"type\": \"scattergeo\"}], \"scattergl\": [{\"marker\": {\"colorbar\": {\"outlinewidth\": 0, \"ticks\": \"\"}}, \"type\": \"scattergl\"}], \"scattermapbox\": [{\"marker\": {\"colorbar\": {\"outlinewidth\": 0, \"ticks\": \"\"}}, \"type\": \"scattermapbox\"}], \"scatterpolar\": [{\"marker\": {\"colorbar\": {\"outlinewidth\": 0, \"ticks\": \"\"}}, \"type\": \"scatterpolar\"}], \"scatterpolargl\": [{\"marker\": {\"colorbar\": {\"outlinewidth\": 0, \"ticks\": \"\"}}, \"type\": \"scatterpolargl\"}], \"scatterternary\": [{\"marker\": {\"colorbar\": {\"outlinewidth\": 0, \"ticks\": \"\"}}, \"type\": \"scatterternary\"}], \"surface\": [{\"colorbar\": {\"outlinewidth\": 0, \"ticks\": \"\"}, \"colorscale\": [[0.0, \"#0d0887\"], [0.1111111111111111, \"#46039f\"], [0.2222222222222222, \"#7201a8\"], [0.3333333333333333, \"#9c179e\"], [0.4444444444444444, \"#bd3786\"], [0.5555555555555556, \"#d8576b\"], [0.6666666666666666, \"#ed7953\"], [0.7777777777777778, \"#fb9f3a\"], [0.8888888888888888, \"#fdca26\"], [1.0, \"#f0f921\"]], \"type\": \"surface\"}], \"table\": [{\"cells\": {\"fill\": {\"color\": \"#EBF0F8\"}, \"line\": {\"color\": \"white\"}}, \"header\": {\"fill\": {\"color\": \"#C8D4E3\"}, \"line\": {\"color\": \"white\"}}, \"type\": \"table\"}]}, \"layout\": {\"annotationdefaults\": {\"arrowcolor\": \"#2a3f5f\", \"arrowhead\": 0, \"arrowwidth\": 1}, \"coloraxis\": {\"colorbar\": {\"outlinewidth\": 0, \"ticks\": \"\"}}, \"colorscale\": {\"diverging\": [[0, \"#8e0152\"], [0.1, \"#c51b7d\"], [0.2, \"#de77ae\"], [0.3, \"#f1b6da\"], [0.4, \"#fde0ef\"], [0.5, \"#f7f7f7\"], [0.6, \"#e6f5d0\"], [0.7, \"#b8e186\"], [0.8, \"#7fbc41\"], [0.9, \"#4d9221\"], [1, \"#276419\"]], \"sequential\": [[0.0, \"#0d0887\"], [0.1111111111111111, \"#46039f\"], [0.2222222222222222, \"#7201a8\"], [0.3333333333333333, \"#9c179e\"], [0.4444444444444444, \"#bd3786\"], [0.5555555555555556, \"#d8576b\"], [0.6666666666666666, \"#ed7953\"], [0.7777777777777778, \"#fb9f3a\"], [0.8888888888888888, \"#fdca26\"], [1.0, \"#f0f921\"]], \"sequentialminus\": [[0.0, \"#0d0887\"], [0.1111111111111111, \"#46039f\"], [0.2222222222222222, \"#7201a8\"], [0.3333333333333333, \"#9c179e\"], [0.4444444444444444, \"#bd3786\"], [0.5555555555555556, \"#d8576b\"], [0.6666666666666666, \"#ed7953\"], [0.7777777777777778, \"#fb9f3a\"], [0.8888888888888888, \"#fdca26\"], [1.0, \"#f0f921\"]]}, \"colorway\": [\"#636efa\", \"#EF553B\", \"#00cc96\", \"#ab63fa\", \"#FFA15A\", \"#19d3f3\", \"#FF6692\", \"#B6E880\", \"#FF97FF\", \"#FECB52\"], \"font\": {\"color\": \"#2a3f5f\"}, \"geo\": {\"bgcolor\": \"white\", \"lakecolor\": \"white\", \"landcolor\": \"#E5ECF6\", \"showlakes\": true, \"showland\": true, \"subunitcolor\": \"white\"}, \"hoverlabel\": {\"align\": \"left\"}, \"hovermode\": \"closest\", \"mapbox\": {\"style\": \"light\"}, \"paper_bgcolor\": \"white\", \"plot_bgcolor\": \"#E5ECF6\", \"polar\": {\"angularaxis\": {\"gridcolor\": \"white\", \"linecolor\": \"white\", \"ticks\": \"\"}, \"bgcolor\": \"#E5ECF6\", \"radialaxis\": {\"gridcolor\": \"white\", \"linecolor\": \"white\", \"ticks\": \"\"}}, \"scene\": {\"xaxis\": {\"backgroundcolor\": \"#E5ECF6\", \"gridcolor\": \"white\", \"gridwidth\": 2, \"linecolor\": \"white\", \"showbackground\": true, \"ticks\": \"\", \"zerolinecolor\": \"white\"}, \"yaxis\": {\"backgroundcolor\": \"#E5ECF6\", \"gridcolor\": \"white\", \"gridwidth\": 2, \"linecolor\": \"white\", \"showbackground\": true, \"ticks\": \"\", \"zerolinecolor\": \"white\"}, \"zaxis\": {\"backgroundcolor\": \"#E5ECF6\", \"gridcolor\": \"white\", \"gridwidth\": 2, \"linecolor\": \"white\", \"showbackground\": true, \"ticks\": \"\", \"zerolinecolor\": \"white\"}}, \"shapedefaults\": {\"line\": {\"color\": \"#2a3f5f\"}}, \"ternary\": {\"aaxis\": {\"gridcolor\": \"white\", \"linecolor\": \"white\", \"ticks\": \"\"}, \"baxis\": {\"gridcolor\": \"white\", \"linecolor\": \"white\", \"ticks\": \"\"}, \"bgcolor\": \"#E5ECF6\", \"caxis\": {\"gridcolor\": \"white\", \"linecolor\": \"white\", \"ticks\": \"\"}}, \"title\": {\"x\": 0.05}, \"xaxis\": {\"automargin\": true, \"gridcolor\": \"white\", \"linecolor\": \"white\", \"ticks\": \"\", \"title\": {\"standoff\": 15}, \"zerolinecolor\": \"white\", \"zerolinewidth\": 2}, \"yaxis\": {\"automargin\": true, \"gridcolor\": \"white\", \"linecolor\": \"white\", \"ticks\": \"\", \"title\": {\"standoff\": 15}, \"zerolinecolor\": \"white\", \"zerolinewidth\": 2}}}, \"title\": {\"text\": \"Comparison with t5-base\"}, \"xaxis\": {\"anchor\": \"y\", \"domain\": [0.0, 1.0], \"showticklabels\": false, \"title\": {\"text\": \"Task\"}}, \"yaxis\": {\"anchor\": \"x\", \"domain\": [0.0, 1.0], \"title\": {\"text\": \"Experiment D multi-task training gain (metric)\"}}},\n",
              "                        {\"responsive\": true}\n",
              "                    ).then(function(){\n",
              "                            \n",
              "var gd = document.getElementById('22f08a47-683f-481b-9f90-a31696e06476');\n",
              "var x = new MutationObserver(function (mutations, observer) {{\n",
              "        var display = window.getComputedStyle(gd).display;\n",
              "        if (!display || display === 'none') {{\n",
              "            console.log([gd, 'removed!']);\n",
              "            Plotly.purge(gd);\n",
              "            observer.disconnect();\n",
              "        }}\n",
              "}});\n",
              "\n",
              "// Listen for the removal of the full notebook cells\n",
              "var notebookContainer = gd.closest('#notebook-container');\n",
              "if (notebookContainer) {{\n",
              "    x.observe(notebookContainer, {childList: true});\n",
              "}}\n",
              "\n",
              "// Listen for the clearing of the current output cell\n",
              "var outputEl = gd.closest('.output');\n",
              "if (outputEl) {{\n",
              "    x.observe(outputEl, {childList: true});\n",
              "}}\n",
              "\n",
              "                        })\n",
              "                };\n",
              "                \n",
              "            </script>\n",
              "        </div>\n",
              "</body>\n",
              "</html>"
            ]
          },
          "metadata": {
            "tags": []
          }
        }
      ]
    }
  ]
}